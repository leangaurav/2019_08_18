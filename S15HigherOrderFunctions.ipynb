{
 "cells": [
  {
   "cell_type": "code",
   "execution_count": 17,
   "metadata": {},
   "outputs": [
    {
     "name": "stdout",
     "output_type": "stream",
     "text": [
      "[1, 8, 9, 10, 5]\n",
      "<generator object funct at 0x000001F557B6BDE0>\n"
     ]
    }
   ],
   "source": [
    "# function taking a function as argument or returning a function is called as a higher Order Function.\n",
    "def funct(seq, f):\n",
    "    i = 0\n",
    "    while i < len(seq):\n",
    "        yield f(seq[i])\n",
    "        i += 1\n",
    "        \n",
    "a = [1,-8,-9,10,-5]\n",
    "\n",
    "r = funct(a, abs)\n",
    "print(list(r))\n",
    "\n",
    "def square(x):\n",
    "    return x * x\n",
    "\n",
    "print(funct(a, square))\n",
    "    "
   ]
  },
  {
   "cell_type": "code",
   "execution_count": 6,
   "metadata": {},
   "outputs": [
    {
     "name": "stdout",
     "output_type": "stream",
     "text": [
      "Enter numbers separated by space:10 20 30 40\n",
      "10\n",
      "20\n",
      "30\n",
      "40\n"
     ]
    }
   ],
   "source": [
    "s= input('Enter numbers separated by space:')\n",
    "\n",
    "r = map(int, s.split())\n",
    "for data in r:\n",
    "    print(data)"
   ]
  },
  {
   "cell_type": "code",
   "execution_count": 11,
   "metadata": {},
   "outputs": [
    {
     "name": "stdout",
     "output_type": "stream",
     "text": [
      "<map object at 0x000001F557A62390> 0x1f557b2aa48\n",
      "[1, 2, 1, 3, 4]\n",
      "[]\n"
     ]
    }
   ],
   "source": [
    "a = [1,2,-1,-3,-4]\n",
    "\n",
    "# one time use only\n",
    "r = map(abs, a)\n",
    "print(r, hex(id(a)))\n",
    "print(list(r))\n",
    "print(list(r))"
   ]
  },
  {
   "cell_type": "code",
   "execution_count": 18,
   "metadata": {},
   "outputs": [
    {
     "name": "stdout",
     "output_type": "stream",
     "text": [
      "abcd\n",
      "[97, 98, 99, 100]\n"
     ]
    }
   ],
   "source": [
    "# WAP to input a string and create a list containing ascii values of each char\n",
    "print( list( map(ord, input()) ) )"
   ]
  },
  {
   "cell_type": "code",
   "execution_count": 20,
   "metadata": {},
   "outputs": [
    {
     "name": "stdout",
     "output_type": "stream",
     "text": [
      "abcd\n",
      "394\n"
     ]
    }
   ],
   "source": [
    "# WAP to input a string and find sum of ascii values of each char\n",
    "print( sum( map(ord, input()) ) )"
   ]
  },
  {
   "cell_type": "code",
   "execution_count": 24,
   "metadata": {},
   "outputs": [
    {
     "name": "stdout",
     "output_type": "stream",
     "text": [
      "<__main__.MyMap object at 0x000001F557AFB5C0>\n",
      "[1, 2, 3]\n"
     ]
    }
   ],
   "source": [
    "class MyMap:\n",
    "    def __init__(self, funct, seq):\n",
    "        self.funct = funct\n",
    "        self.seq = seq\n",
    "        self.counter = 0\n",
    "        \n",
    "    def __iter__(self):\n",
    "        return self\n",
    "        \n",
    "    def  __next__(self):\n",
    "        if self.counter < len(self.seq):\n",
    "            data = self.funct(self.seq[self.counter])\n",
    "            self.counter += 1\n",
    "            return data\n",
    "        else:\n",
    "            raise StopIteration\n",
    "            \n",
    "            \n",
    "m = MyMap(abs, [1,2,-3])\n",
    "print(m)\n",
    "\n",
    "print(list(m))\n",
    "        "
   ]
  },
  {
   "cell_type": "code",
   "execution_count": 25,
   "metadata": {},
   "outputs": [
    {
     "name": "stdout",
     "output_type": "stream",
     "text": [
      "[1, 3, 5]\n"
     ]
    }
   ],
   "source": [
    "def is_something(x):\n",
    "    return x % 2\n",
    "\n",
    "a = [1,2,3,4,6,5]\n",
    "\n",
    "r = filter(is_something, a)\n",
    "print(list(r))"
   ]
  },
  {
   "cell_type": "code",
   "execution_count": 32,
   "metadata": {},
   "outputs": [
    {
     "name": "stdout",
     "output_type": "stream",
     "text": [
      "00:01:00:12\n"
     ]
    }
   ],
   "source": [
    "# WAF that takes seconds and gives back time in dd:hh:mm::ss\n",
    "# 130s -> 00:00:02:10\n",
    "\n",
    "def format_time(sec):\n",
    "    m = sec//60\n",
    "    sec %= 60\n",
    "    \n",
    "    h = m // 60\n",
    "    m %= 60\n",
    "    \n",
    "    d = h //24\n",
    "    h %= 24\n",
    "    \n",
    "    return '%02d:%02d:%02d:%02d' % (d,h,m,sec)\n",
    "\n",
    "print(format_time(3612))"
   ]
  },
  {
   "cell_type": "code",
   "execution_count": 26,
   "metadata": {},
   "outputs": [
    {
     "name": "stdout",
     "output_type": "stream",
     "text": [
      "1, 2\n"
     ]
    }
   ],
   "source": [
    "a = 1\n",
    "b = 2\n",
    "\n",
    "s = f'{a}, {b}'\n",
    "print(s)"
   ]
  },
  {
   "cell_type": "code",
   "execution_count": 33,
   "metadata": {},
   "outputs": [
    {
     "name": "stdout",
     "output_type": "stream",
     "text": [
      "['11:13:46:40', '00:00:02:03', '00:00:20:00', '00:02:46:39', '114311:20:13:41']\n"
     ]
    }
   ],
   "source": [
    "# given time in seconds in a list, convert it to a list containing time in format dd:hh:mm:ss\n",
    "\n",
    "t = [1000000,123, 1200,9999, 9876543221]\n",
    "\n",
    "print(list(map(format_time, t)))"
   ]
  },
  {
   "cell_type": "code",
   "execution_count": null,
   "metadata": {},
   "outputs": [],
   "source": [
    "# Filter out the times which are less than 1 hour\n",
    "t = ['11:13:46:40', '00:00:02:03', '00:00:20:00', '00:02:46:39', '114311:20:13:41']\n"
   ]
  },
  {
   "cell_type": "code",
   "execution_count": 37,
   "metadata": {},
   "outputs": [
    {
     "name": "stdout",
     "output_type": "stream",
     "text": [
      "300\n",
      "440\n"
     ]
    }
   ],
   "source": [
    "from functools import reduce\n",
    "\n",
    "a = [10,20,300,40,70]\n",
    "\n",
    "def m(x,y):\n",
    "    return x if x > y else y\n",
    "\n",
    "def add(x,y):\n",
    "    return x + y\n",
    "\n",
    "print(reduce(m,a ))\n",
    "print(reduce(add,a ))\n"
   ]
  },
  {
   "cell_type": "code",
   "execution_count": 40,
   "metadata": {},
   "outputs": [
    {
     "name": "stdout",
     "output_type": "stream",
     "text": [
      "99\n"
     ]
    }
   ],
   "source": [
    "# find maximum number based on units digit.\n",
    "a = [10,33,51,9,107, 99 ,19]\n",
    "def m(x,y):\n",
    "    if x%10 == y%10:\n",
    "        return x if x > y else y\n",
    "    else:\n",
    "        return x if x%10 > y%10 else y\n",
    "print(reduce(m, a))"
   ]
  },
  {
   "cell_type": "markdown",
   "metadata": {},
   "source": [
    "## Lambdas "
   ]
  },
  {
   "cell_type": "code",
   "execution_count": null,
   "metadata": {},
   "outputs": [],
   "source": [
    "lambda <args>:<expression>\n",
    "- by default value of expression is returned\n",
    "- lambda cannot exceede one line\n",
    "- can take 0-n arguments\n",
    "- anonymous function"
   ]
  },
  {
   "cell_type": "code",
   "execution_count": 43,
   "metadata": {},
   "outputs": [
    {
     "name": "stdout",
     "output_type": "stream",
     "text": [
      "<function <lambda> at 0x000001F557AE5D08>\n",
      "10\n"
     ]
    }
   ],
   "source": [
    "f = lambda : 10\n",
    "print(f)\n",
    "print(f())"
   ]
  },
  {
   "cell_type": "code",
   "execution_count": 45,
   "metadata": {},
   "outputs": [
    {
     "data": {
      "text/plain": [
       "30"
      ]
     },
     "execution_count": 45,
     "metadata": {},
     "output_type": "execute_result"
    }
   ],
   "source": [
    "(lambda x,y : x + y) (10,20)"
   ]
  },
  {
   "cell_type": "code",
   "execution_count": 51,
   "metadata": {},
   "outputs": [
    {
     "name": "stdout",
     "output_type": "stream",
     "text": [
      "['a', 'aa', 'abc', 'cc', 'ija', 'pq']\n"
     ]
    }
   ],
   "source": [
    "a = ['abc','ija', 'cc', 'aa', 'pq', 'a']\n",
    "a.sort()\n",
    "print(a)"
   ]
  },
  {
   "cell_type": "code",
   "execution_count": 50,
   "metadata": {},
   "outputs": [
    {
     "name": "stdout",
     "output_type": "stream",
     "text": [
      "['ija', 'aa', 'a', 'abc', 'cc', 'pq']\n"
     ]
    }
   ],
   "source": [
    "a = ['abc','ija', 'cc', 'aa', 'pq', 'a']\n",
    "a.sort(key = lambda x : x[-1])\n",
    "print(a)"
   ]
  },
  {
   "cell_type": "code",
   "execution_count": 53,
   "metadata": {},
   "outputs": [
    {
     "name": "stdout",
     "output_type": "stream",
     "text": [
      "[10, 51, 33, 107, 9, 99, 19]\n"
     ]
    }
   ],
   "source": [
    "a = [10,33,51,9,107, 99 ,19]\n",
    "a.sort(key = lambda x: x%10)\n",
    "print(a)"
   ]
  },
  {
   "cell_type": "code",
   "execution_count": 55,
   "metadata": {},
   "outputs": [],
   "source": [
    "from random import randrange\n",
    "a = [randrange(10) for _ in range(10)]"
   ]
  },
  {
   "cell_type": "code",
   "execution_count": 63,
   "metadata": {},
   "outputs": [
    {
     "name": "stdout",
     "output_type": "stream",
     "text": [
      "[10, 51, 33, 107, 94, 99, 19]\n",
      "[51, 33, 107, 99, 19]\n"
     ]
    }
   ],
   "source": [
    "\n",
    "a = [10, 51, 33, 107, 94, 99, 19]\n",
    "print(a)\n",
    "\n",
    "m = map(lambda x: (x,x %2 != 0), a)#  [(10,True),( 51,False), (33,False), (107,False), (94,True),( 99,False), (19,False)]\n",
    "#print( list(m))\n",
    "r = filter( lambda x: x[1], m) # [(10,True),(94,True)]\n",
    "#print(list(r))\n",
    "m = map(lambda x: x[0], r) # [10,94]\n",
    "print( list( m ) )"
   ]
  },
  {
   "cell_type": "code",
   "execution_count": 57,
   "metadata": {},
   "outputs": [
    {
     "name": "stdout",
     "output_type": "stream",
     "text": [
      "[10, 51, 33, 107, 94, 99, 19]\n",
      "[10, 94]\n"
     ]
    }
   ],
   "source": [
    "\n",
    "a = [10, 51, 33, 107, 94, 99, 19]\n",
    "print(a)\n",
    "f = filter(lambda x: x%2 == 0, a)\n",
    "print(list(f))"
   ]
  },
  {
   "cell_type": "code",
   "execution_count": 69,
   "metadata": {},
   "outputs": [
    {
     "name": "stdout",
     "output_type": "stream",
     "text": [
      "[111, 222, 333, 444]\n"
     ]
    }
   ],
   "source": [
    "l1 = [10,20,30,40,50]\n",
    "l2 = [1,2,3,4]\n",
    "l3 = [100,200,300,400,500,600]\n",
    "\n",
    "\n",
    "r = map (lambda x,y,a : x + y + a, l1, l2,l3)\n",
    "print(list(r))"
   ]
  },
  {
   "cell_type": "code",
   "execution_count": null,
   "metadata": {},
   "outputs": [],
   "source": []
  },
  {
   "cell_type": "code",
   "execution_count": null,
   "metadata": {},
   "outputs": [],
   "source": []
  }
 ],
 "metadata": {
  "kernelspec": {
   "display_name": "Python 3",
   "language": "python",
   "name": "python3"
  },
  "language_info": {
   "codemirror_mode": {
    "name": "ipython",
    "version": 3
   },
   "file_extension": ".py",
   "mimetype": "text/x-python",
   "name": "python",
   "nbconvert_exporter": "python",
   "pygments_lexer": "ipython3",
   "version": "3.7.3"
  }
 },
 "nbformat": 4,
 "nbformat_minor": 2
}
