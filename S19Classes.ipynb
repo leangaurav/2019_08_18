{
 "cells": [
  {
   "cell_type": "code",
   "execution_count": 3,
   "metadata": {},
   "outputs": [
    {
     "name": "stdout",
     "output_type": "stream",
     "text": [
      "<class 'type'>\n",
      "<class '__main__.Temp'>\n",
      "['__class__', '__delattr__', '__dict__', '__dir__', '__doc__', '__eq__', '__format__', '__ge__', '__getattribute__', '__gt__', '__hash__', '__init__', '__init_subclass__', '__le__', '__lt__', '__module__', '__ne__', '__new__', '__reduce__', '__reduce_ex__', '__repr__', '__setattr__', '__sizeof__', '__str__', '__subclasshook__', '__weakref__']\n"
     ]
    }
   ],
   "source": [
    "class Temp:\n",
    "    pass\n",
    "\n",
    "print(type(Temp))\n",
    "print(Temp)\n",
    "print(dir(Temp))"
   ]
  },
  {
   "cell_type": "code",
   "execution_count": 6,
   "metadata": {},
   "outputs": [
    {
     "name": "stdout",
     "output_type": "stream",
     "text": [
      "<__main__.Person object at 0x00000221C397D4A8>\n",
      "<__main__.Person object at 0x00000221C397D470>\n"
     ]
    }
   ],
   "source": [
    "class Person:\n",
    "    pass\n",
    "\n",
    "p1 = Person()\n",
    "p2 = Person()\n",
    "print(p1)\n",
    "print(p2)"
   ]
  },
  {
   "cell_type": "code",
   "execution_count": 10,
   "metadata": {},
   "outputs": [
    {
     "name": "stdout",
     "output_type": "stream",
     "text": [
      "10\n"
     ]
    },
    {
     "ename": "AttributeError",
     "evalue": "'Temp' object has no attribute 'x'",
     "output_type": "error",
     "traceback": [
      "\u001b[1;31m---------------------------------------------------------------------------\u001b[0m",
      "\u001b[1;31mAttributeError\u001b[0m                            Traceback (most recent call last)",
      "\u001b[1;32m<ipython-input-10-691b33821978>\u001b[0m in \u001b[0;36m<module>\u001b[1;34m()\u001b[0m\n\u001b[0;32m      7\u001b[0m \u001b[1;33m\u001b[0m\u001b[0m\n\u001b[0;32m      8\u001b[0m \u001b[0mt2\u001b[0m \u001b[1;33m=\u001b[0m\u001b[0mTemp\u001b[0m\u001b[1;33m(\u001b[0m\u001b[1;33m)\u001b[0m\u001b[1;33m\u001b[0m\u001b[0m\n\u001b[1;32m----> 9\u001b[1;33m \u001b[0mprint\u001b[0m\u001b[1;33m(\u001b[0m\u001b[0mt2\u001b[0m\u001b[1;33m.\u001b[0m\u001b[0mx\u001b[0m\u001b[1;33m)\u001b[0m\u001b[1;33m\u001b[0m\u001b[0m\n\u001b[0m",
      "\u001b[1;31mAttributeError\u001b[0m: 'Temp' object has no attribute 'x'"
     ]
    }
   ],
   "source": [
    "class Temp:\n",
    "    pass\n",
    "\n",
    "t1 =Temp()\n",
    "t1.x = 10\n",
    "print(t1.x)\n",
    "\n",
    "t2 =Temp()\n",
    "print(t2.x)"
   ]
  },
  {
   "cell_type": "code",
   "execution_count": 16,
   "metadata": {},
   "outputs": [
    {
     "name": "stdout",
     "output_type": "stream",
     "text": [
      "10 20\n"
     ]
    }
   ],
   "source": [
    "class Complex:\n",
    "    pass\n",
    "\n",
    "c1 = Complex()\n",
    "c1.re = 10\n",
    "c1.im = 20\n",
    "\n",
    "print(c1.re, c1.im)"
   ]
  },
  {
   "cell_type": "code",
   "execution_count": 15,
   "metadata": {},
   "outputs": [
    {
     "name": "stdout",
     "output_type": "stream",
     "text": [
      "Init called <__main__.Temp object at 0x00000221C39856D8>\n",
      "Init called <__main__.Temp object at 0x00000221C39855C0>\n",
      "<__main__.Temp object at 0x00000221C39856D8> <__main__.Temp object at 0x00000221C39855C0>\n",
      "10 10\n"
     ]
    }
   ],
   "source": [
    "class Temp:\n",
    "    def __init__(self): # constructor\n",
    "        print(\"Init called\", self)\n",
    "        self.x = 10\n",
    "        \n",
    "t1 = Temp()\n",
    "t2 = Temp()\n",
    "print(t1, t2)\n",
    "print(t1.x, t2.x)"
   ]
  },
  {
   "cell_type": "code",
   "execution_count": 18,
   "metadata": {},
   "outputs": [
    {
     "name": "stdout",
     "output_type": "stream",
     "text": [
      "Init called <__main__.Temp object at 0x00000221C3992940>\n",
      "Init called <__main__.Temp object at 0x00000221C3992860>\n",
      "<__main__.Temp object at 0x00000221C3992940> <__main__.Temp object at 0x00000221C3992860>\n",
      "10 20\n"
     ]
    }
   ],
   "source": [
    "class Temp:\n",
    "    def __init__(self,x): # constructor\n",
    "        print(\"Init called\", self)\n",
    "        self.x = x\n",
    "        \n",
    "t1 = Temp(10)\n",
    "t2 = Temp(20)\n",
    "print(t1, t2)\n",
    "print(t1.x, t2.x)"
   ]
  },
  {
   "cell_type": "code",
   "execution_count": 20,
   "metadata": {},
   "outputs": [
    {
     "name": "stdout",
     "output_type": "stream",
     "text": [
      "10 20\n",
      "<__main__.Complex object at 0x00000221C399FF98>\n"
     ]
    }
   ],
   "source": [
    "class Complex:\n",
    "    def __init__(self, re, im):\n",
    "        self.re = re\n",
    "        self.im = im\n",
    "\n",
    "c1 = Complex(10,200)\n",
    "c1.im = 20\n",
    "\n",
    "print(c1.re, c1.im)\n",
    "print(c1)"
   ]
  },
  {
   "cell_type": "code",
   "execution_count": 27,
   "metadata": {},
   "outputs": [
    {
     "name": "stdout",
     "output_type": "stream",
     "text": [
      "10 + 200i\n",
      "1 + 20i\n",
      "11 + 220i\n"
     ]
    }
   ],
   "source": [
    "class Complex:\n",
    "    def __init__(self, re, im):\n",
    "        self.re = re\n",
    "        self.im = im\n",
    "        \n",
    "    def __str__(self):\n",
    "        sym = \"+\" if self.im >= 0 else \"-\"\n",
    "        return \"{} {} {}i\".format(self.re, sym, abs(self.im))\n",
    "    \n",
    "    def mag(self):\n",
    "        s = self.re**2 + self.im **2\n",
    "        return s**0.5\n",
    "    \n",
    "    def add(self, other):\n",
    "        re = self.re + other.re\n",
    "        im = self.im + other.im\n",
    "        \n",
    "        r = Complex(re, im)\n",
    "        return r\n",
    "\n",
    "c1 = Complex(10,200)\n",
    "c2 = Complex(1,20)\n",
    "\n",
    "print(c1)\n",
    "print(c2)\n",
    "\n",
    "c3 = c1.add(c2)\n",
    "print(c3)\n"
   ]
  },
  {
   "cell_type": "code",
   "execution_count": 34,
   "metadata": {},
   "outputs": [
    {
     "name": "stdout",
     "output_type": "stream",
     "text": [
      "10 + 200i\n",
      "1 + 20i\n",
      "11 + 220i\n",
      "11 + 220i\n",
      "['__add__', '__class__', '__delattr__', '__dict__', '__dir__', '__doc__', '__eq__', '__format__', '__ge__', '__getattribute__', '__gt__', '__hash__', '__init__', '__init_subclass__', '__le__', '__lt__', '__module__', '__ne__', '__new__', '__reduce__', '__reduce_ex__', '__repr__', '__setattr__', '__sizeof__', '__str__', '__subclasshook__', '__weakref__', 'mag']\n"
     ]
    }
   ],
   "source": [
    "class Complex:\n",
    "    def __init__(self, re, im):\n",
    "        self.re = re\n",
    "        self.im = im\n",
    "        \n",
    "    def __str__(self):\n",
    "        sym = \"+\" if self.im >= 0 else \"-\"\n",
    "        return \"{} {} {}i\".format(self.re, sym, abs(self.im))\n",
    "    \n",
    "    def mag(self):\n",
    "        s = self.re**2 + self.im **2\n",
    "        return s**0.5\n",
    "    \n",
    "    def __add__(self, other):\n",
    "        re = self.re + other.re\n",
    "        im = self.im + other.im\n",
    "        \n",
    "        r = Complex(re, im)\n",
    "        return r\n",
    "\n",
    "c1 = Complex(10,200)\n",
    "c2 = Complex(1,20)\n",
    "\n",
    "print(c1)\n",
    "print(c2)\n",
    "\n",
    "c3 = c1 + c2\n",
    "print(c3)\n",
    "\n",
    "c4 = c1 + c2\n",
    "print(c4)\n",
    "\n",
    "print(dir(Complex))"
   ]
  },
  {
   "cell_type": "code",
   "execution_count": 33,
   "metadata": {},
   "outputs": [
    {
     "name": "stdout",
     "output_type": "stream",
     "text": [
      "{'x': 10}\n",
      "{'x': 10, 'y': 100}\n",
      "{'y': 100}\n"
     ]
    }
   ],
   "source": [
    "class Temp:\n",
    "    pass\n",
    "\n",
    "t1 = Temp()\n",
    "t1.x = 10\n",
    "\n",
    "print(t1.__dict__)\n",
    "t1.y = 100\n",
    "\n",
    "print(t1.__dict__)\n",
    "\n",
    "del t1.x\n",
    "print(t1.__dict__)"
   ]
  },
  {
   "cell_type": "code",
   "execution_count": 42,
   "metadata": {},
   "outputs": [
    {
     "name": "stdout",
     "output_type": "stream",
     "text": [
      "Funct\n",
      "<class '__main__.Temp'>\n",
      "<function Temp.funct at 0x00000221C39761E0>\n",
      "Funct\n",
      "Funct\n",
      "somefunct\n"
     ]
    }
   ],
   "source": [
    "class Temp:\n",
    "    def funct(self):\n",
    "        print(\"Funct\")\n",
    "        \n",
    "    def some_funct():\n",
    "        print(\"somefunct\")\n",
    "        \n",
    "t1 = Temp()\n",
    "t1.funct()\n",
    "print(t1.__class__)\n",
    "print(t1.__class__.funct)\n",
    "t1.__class__.funct(t1)\n",
    "Temp.funct(t1)\n",
    "\n",
    "#t1.some_funct()\n",
    "Temp.some_funct()"
   ]
  },
  {
   "cell_type": "code",
   "execution_count": 46,
   "metadata": {},
   "outputs": [
    {
     "name": "stdout",
     "output_type": "stream",
     "text": [
      "\n",
      "    This is documentation of Temp class\n",
      "    \n",
      " doc of funct of class Temp\n"
     ]
    }
   ],
   "source": [
    "class Temp:\n",
    "    \"\"\"\n",
    "    This is documentation of Temp class\n",
    "    \"\"\"\n",
    "    def funct(self):\n",
    "        \"\"\" doc of funct of class Temp\"\"\"\n",
    "        pass\n",
    "\n",
    "print(Temp.__doc__)\n",
    "print(Temp.funct.__doc__)"
   ]
  },
  {
   "cell_type": "code",
   "execution_count": 51,
   "metadata": {},
   "outputs": [
    {
     "name": "stdout",
     "output_type": "stream",
     "text": [
      "[repr]\n",
      "Str\n"
     ]
    }
   ],
   "source": [
    "class Test:\n",
    "    def __str__(self):\n",
    "        return \"Str\"\n",
    "    def __repr__(self):\n",
    "        return \"repr\"\n",
    "        \n",
    "a = [Test()]\n",
    "print(a)\n",
    "print(Test())"
   ]
  },
  {
   "cell_type": "code",
   "execution_count": 54,
   "metadata": {},
   "outputs": [
    {
     "name": "stdout",
     "output_type": "stream",
     "text": [
      "[repr]\n",
      "repr\n"
     ]
    },
    {
     "data": {
      "text/plain": [
       "'repr'"
      ]
     },
     "execution_count": 54,
     "metadata": {},
     "output_type": "execute_result"
    }
   ],
   "source": [
    "class Test:\n",
    "    def __repr__(self):\n",
    "        return \"repr\"\n",
    "        \n",
    "a = [Test()]\n",
    "print(a)\n",
    "print(Test())\n",
    "\n",
    "str(Test())"
   ]
  },
  {
   "cell_type": "code",
   "execution_count": 53,
   "metadata": {},
   "outputs": [
    {
     "name": "stdout",
     "output_type": "stream",
     "text": [
      "[<__main__.Test object at 0x00000221C399FB00>]\n",
      "Str\n"
     ]
    }
   ],
   "source": [
    "class Test:\n",
    "    def __str__(self):\n",
    "        return \"Str\"\n",
    "a = [Test()]\n",
    "print(a)\n",
    "print(Test())"
   ]
  },
  {
   "cell_type": "code",
   "execution_count": 57,
   "metadata": {},
   "outputs": [
    {
     "name": "stdout",
     "output_type": "stream",
     "text": [
      "100\n",
      "100\n",
      "100\n",
      "200\n"
     ]
    }
   ],
   "source": [
    "class Test:\n",
    "    x = 100\n",
    "    \n",
    "print(Test.x)\n",
    "t1 = Test()\n",
    "print(t1.x)\n",
    "\n",
    "t1.x = 200\n",
    "\n",
    "print(Test.x)\n",
    "print(t1.x)"
   ]
  },
  {
   "cell_type": "code",
   "execution_count": 62,
   "metadata": {},
   "outputs": [
    {
     "name": "stdout",
     "output_type": "stream",
     "text": [
      "Static\n",
      "Static\n"
     ]
    }
   ],
   "source": [
    "class Temp:\n",
    "    \n",
    "    @staticmethod\n",
    "    def meth1():\n",
    "        print(\"Static\")\n",
    "        \n",
    "t1 = Temp()\n",
    "Temp.meth1()\n",
    "t1.meth1()"
   ]
  },
  {
   "cell_type": "code",
   "execution_count": 65,
   "metadata": {},
   "outputs": [
    {
     "name": "stdout",
     "output_type": "stream",
     "text": [
      "Static 10\n",
      "Static 10\n",
      "Class Method <class '__main__.Temp'>\n",
      "Class Method <class '__main__.Temp'>\n"
     ]
    }
   ],
   "source": [
    "class Temp:\n",
    "    \n",
    "    @staticmethod\n",
    "    def meth1(x):\n",
    "        print(\"Static\", x)\n",
    "\n",
    "    @classmethod\n",
    "    def meth2(cls):\n",
    "        print(\"Class Method\", cls)\n",
    "        \n",
    "t1 = Temp()\n",
    "Temp.meth1(10)\n",
    "t1.meth1(10)\n",
    "Temp.meth2()\n",
    "t1.meth2()"
   ]
  },
  {
   "cell_type": "code",
   "execution_count": 6,
   "metadata": {},
   "outputs": [
    {
     "name": "stdout",
     "output_type": "stream",
     "text": [
      "My Error\n",
      "Soemthing\n"
     ]
    }
   ],
   "source": [
    "class MyException(Exception):\n",
    "    pass\n",
    "\n",
    "print(MyException(\"My Error\"))\n",
    "\n",
    "try:\n",
    "    raise MyException\n",
    "except Exception:\n",
    "    print(\"Soemthing\")"
   ]
  }
 ],
 "metadata": {
  "kernelspec": {
   "display_name": "Python 3",
   "language": "python",
   "name": "python3"
  },
  "language_info": {
   "codemirror_mode": {
    "name": "ipython",
    "version": 3
   },
   "file_extension": ".py",
   "mimetype": "text/x-python",
   "name": "python",
   "nbconvert_exporter": "python",
   "pygments_lexer": "ipython3",
   "version": "3.6.4"
  }
 },
 "nbformat": 4,
 "nbformat_minor": 2
}
