{
 "cells": [
  {
   "cell_type": "code",
   "execution_count": 1,
   "metadata": {},
   "outputs": [
    {
     "name": "stdout",
     "output_type": "stream",
     "text": [
      "funct\n"
     ]
    }
   ],
   "source": [
    "def funct():\n",
    "    print('funct')\n",
    "    \n",
    "\n",
    "funct()\n"
   ]
  },
  {
   "cell_type": "code",
   "execution_count": 4,
   "metadata": {},
   "outputs": [
    {
     "name": "stdout",
     "output_type": "stream",
     "text": [
      "None\n"
     ]
    }
   ],
   "source": [
    "def outer():\n",
    "    def funct():\n",
    "        print('Funct')\n",
    "        \n",
    "r = outer()\n",
    "print(r)"
   ]
  },
  {
   "cell_type": "code",
   "execution_count": 10,
   "metadata": {},
   "outputs": [
    {
     "name": "stdout",
     "output_type": "stream",
     "text": [
      "<function outer.<locals>.funct at 0x000001D472EF56A8>\n",
      "<function outer.<locals>.funct at 0x000001D472EF51E0>\n"
     ]
    }
   ],
   "source": [
    "def outer():\n",
    "    def funct():\n",
    "        print('Funct')\n",
    "    return funct\n",
    "        \n",
    "r = outer()\n",
    "print(r)\n",
    "r = outer()\n",
    "print(r)"
   ]
  },
  {
   "cell_type": "code",
   "execution_count": 13,
   "metadata": {},
   "outputs": [
    {
     "name": "stdout",
     "output_type": "stream",
     "text": [
      "Funct 10\n",
      "Funct 10\n",
      "Funct 100\n"
     ]
    }
   ],
   "source": [
    "def outer(num):\n",
    "    def funct():\n",
    "        print('Funct', num)\n",
    "    return funct\n",
    "        \n",
    "f1 = outer(10)\n",
    "f2 = outer(100)\n",
    "f1()\n",
    "f1()\n",
    "f2()"
   ]
  },
  {
   "cell_type": "code",
   "execution_count": null,
   "metadata": {},
   "outputs": [],
   "source": [
    "# Higher order function\n",
    "# that takes a function as argument \n",
    "# and returns a function\n",
    "# while adding some new functionality to original function"
   ]
  },
  {
   "cell_type": "code",
   "execution_count": 15,
   "metadata": {},
   "outputs": [
    {
     "name": "stdout",
     "output_type": "stream",
     "text": [
      "calling funct1\n",
      "This is funct 1\n",
      "calling funct1\n",
      "This is funct 1\n"
     ]
    }
   ],
   "source": [
    "def outer(funct):\n",
    "    def inner():\n",
    "        print(\"calling\", funct.__name__)\n",
    "        funct()\n",
    "        \n",
    "    return inner\n",
    "\n",
    "def funct1():\n",
    "    print(\"This is funct 1\")\n",
    "    \n",
    "f1 = outer(funct1)\n",
    "\n",
    "f1()\n",
    "f1()\n"
   ]
  },
  {
   "cell_type": "code",
   "execution_count": 17,
   "metadata": {},
   "outputs": [
    {
     "name": "stdout",
     "output_type": "stream",
     "text": [
      "calling funct1\n",
      "This is funct 1\n",
      "10\n"
     ]
    }
   ],
   "source": [
    "def outer(funct):\n",
    "    def inner():\n",
    "        print(\"calling\", funct.__name__)\n",
    "        return funct()\n",
    "        \n",
    "    return inner\n",
    "\n",
    "def funct1():\n",
    "    print(\"This is funct 1\")\n",
    "    return 10\n",
    "    \n",
    "f1 = outer(funct1)\n",
    "\n",
    "r = f1()\n",
    "print(r)\n"
   ]
  },
  {
   "cell_type": "code",
   "execution_count": 18,
   "metadata": {},
   "outputs": [
    {
     "name": "stdout",
     "output_type": "stream",
     "text": [
      "calling funct1\n",
      "This is funct 1\n",
      "10\n"
     ]
    }
   ],
   "source": [
    "def outer(funct):\n",
    "    def inner():\n",
    "        print(\"calling\", funct.__name__)\n",
    "        return funct()\n",
    "        \n",
    "    return inner\n",
    "\n",
    "def funct1():\n",
    "    print(\"This is funct 1\")\n",
    "    return 10\n",
    "    \n",
    "funct1 = outer(funct1)\n",
    "\n",
    "r = funct1()\n",
    "print(r)\n"
   ]
  },
  {
   "cell_type": "code",
   "execution_count": 19,
   "metadata": {},
   "outputs": [
    {
     "name": "stdout",
     "output_type": "stream",
     "text": [
      "calling funct1\n",
      "This is funct 1\n",
      "10\n"
     ]
    }
   ],
   "source": [
    "def outer(funct):\n",
    "    def inner():\n",
    "        print(\"calling\", funct.__name__)\n",
    "        return funct()\n",
    "        \n",
    "    return inner\n",
    "\n",
    "@outer\n",
    "def funct1():\n",
    "    print(\"This is funct 1\")\n",
    "    return 10\n",
    "    \n",
    "r = funct1()\n",
    "print(r)\n"
   ]
  },
  {
   "cell_type": "code",
   "execution_count": 25,
   "metadata": {},
   "outputs": [
    {
     "name": "stdout",
     "output_type": "stream",
     "text": [
      "calling funct1 (10, 20, 30) {}\n",
      "This is funct 1 10 20 30\n",
      "60\n"
     ]
    }
   ],
   "source": [
    "def outer(funct):\n",
    "    def inner(*args, **kwargs):\n",
    "        print(\"calling\", funct.__name__, args, kwargs)\n",
    "        return funct(*args, **kwargs)\n",
    "        \n",
    "    return inner\n",
    "\n",
    "@outer\n",
    "def funct1(n1, n2, n3):\n",
    "    print(\"This is funct 1\", n1 , n2, n3)\n",
    "    return n1 + n2 + n3\n",
    "    \n",
    "r = funct1(10,20,30)\n",
    "print(r)\n"
   ]
  },
  {
   "cell_type": "code",
   "execution_count": 32,
   "metadata": {},
   "outputs": [
    {
     "name": "stdout",
     "output_type": "stream",
     "text": [
      "calling add (10, 20) {} Returned 30\n",
      "30\n",
      "calling sub (10, 20) {} Returned 30\n",
      "30\n",
      "inner\n",
      "None\n"
     ]
    }
   ],
   "source": [
    "def logger_decorator(funct):\n",
    "    def inner(*args, **kwargs):\n",
    "        r = funct(*args, **kwargs)\n",
    "        print(\"calling\", funct.__name__, args, kwargs, \"Returned\", r)\n",
    "        return r\n",
    "        \n",
    "    return inner\n",
    "\n",
    "@logger_decorator\n",
    "def add(x,y):\n",
    "    \"\"\"This is a function to do addition\"\"\"\n",
    "    return x + y\n",
    "\n",
    "\n",
    "@logger_decorator\n",
    "def sub(x,y):\n",
    "    return x + y\n",
    "    \n",
    "print(add(10,20))\n",
    "print(sub(10,20))\n",
    "\n",
    "print(add.__name__)\n",
    "print(add.__doc__)"
   ]
  },
  {
   "cell_type": "code",
   "execution_count": 33,
   "metadata": {},
   "outputs": [
    {
     "name": "stdout",
     "output_type": "stream",
     "text": [
      "calling add (10, 20) {} Returned 30\n",
      "30\n",
      "calling sub (10, 20) {} Returned 30\n",
      "30\n",
      "add\n",
      "This is a function to do addition\n"
     ]
    }
   ],
   "source": [
    "from functools import wraps\n",
    "\n",
    "def logger_decorator(funct):\n",
    "    \n",
    "    @wraps(funct)\n",
    "    def inner(*args, **kwargs):\n",
    "        r = funct(*args, **kwargs)\n",
    "        print(\"calling\", funct.__name__, args, kwargs, \"Returned\", r)\n",
    "        return r\n",
    "        \n",
    "    return inner\n",
    "\n",
    "@logger_decorator\n",
    "def add(x,y):\n",
    "    \"\"\"This is a function to do addition\"\"\"\n",
    "    return x + y\n",
    "\n",
    "\n",
    "@logger_decorator\n",
    "def sub(x,y):\n",
    "    return x + y\n",
    "    \n",
    "print(add(10,20))\n",
    "print(sub(10,20))\n",
    "\n",
    "print(add.__name__)\n",
    "print(add.__doc__)"
   ]
  },
  {
   "cell_type": "code",
   "execution_count": 34,
   "metadata": {},
   "outputs": [
    {
     "name": "stdout",
     "output_type": "stream",
     "text": [
      "calling add (10, 20) {} Returned 30\n",
      "calling add (10, 20) {} Returned 30\n",
      "30\n",
      "add\n",
      "This is a function to do addition\n"
     ]
    }
   ],
   "source": [
    "from functools import wraps\n",
    "\n",
    "def logger_decorator(funct):\n",
    "    \n",
    "    @wraps(funct)\n",
    "    def inner(*args, **kwargs):\n",
    "        r = funct(*args, **kwargs)\n",
    "        print(\"calling\", funct.__name__, args, kwargs, \"Returned\", r)\n",
    "        return r\n",
    "        \n",
    "    return inner\n",
    "\n",
    "@logger_decorator\n",
    "@logger_decorator\n",
    "def add(x,y):\n",
    "    \"\"\"This is a function to do addition\"\"\"\n",
    "    return x + y\n",
    "\n",
    "    \n",
    "print(add(10,20))\n",
    "\n",
    "print(add.__name__)\n",
    "print(add.__doc__)"
   ]
  },
  {
   "cell_type": "code",
   "execution_count": 36,
   "metadata": {},
   "outputs": [
    {
     "name": "stdout",
     "output_type": "stream",
     "text": [
      "[20, 11, 13, 20, 13, 11, 15, 17, 19, 12]\n"
     ]
    }
   ],
   "source": [
    "def dec1(n):\n",
    "    def dec2(funct):\n",
    "        @wraps(funct)\n",
    "        def inner(*args, **kwargs):\n",
    "            return [funct(*args, **kwargs) for _ in range(n)]\n",
    "        \n",
    "        return inner\n",
    "    return dec2\n",
    "\n",
    "@dec1(10) # @dec2\n",
    "def get_random():\n",
    "    import random\n",
    "    return random.randint(10,20)\n",
    "\n",
    "# get_random = dec1(10)(get_random)\n",
    "print(get_random())\n",
    "            "
   ]
  }
 ],
 "metadata": {
  "kernelspec": {
   "display_name": "Python 3",
   "language": "python",
   "name": "python3"
  },
  "language_info": {
   "codemirror_mode": {
    "name": "ipython",
    "version": 3
   },
   "file_extension": ".py",
   "mimetype": "text/x-python",
   "name": "python",
   "nbconvert_exporter": "python",
   "pygments_lexer": "ipython3",
   "version": "3.7.3"
  }
 },
 "nbformat": 4,
 "nbformat_minor": 2
}
