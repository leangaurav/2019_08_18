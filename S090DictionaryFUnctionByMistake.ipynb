{
 "cells": [
  {
   "cell_type": "code",
   "execution_count": 8,
   "metadata": {},
   "outputs": [
    {
     "name": "stdout",
     "output_type": "stream",
     "text": [
      "Enter a string: assa\n",
      "Pallindrome\n"
     ]
    }
   ],
   "source": [
    "# WAP to input a string and check if it is a pallindrome without reversing it\n",
    "# abcd : not\n",
    "# abcba : yes\n",
    "# madam : yes\n",
    "# 01234\n",
    "s = input('Enter a string: ')\n",
    "\n",
    "i = 0\n",
    "j = len(s) - 1\n",
    "\n",
    "flag = True\n",
    "\n",
    "while i < j:\n",
    "    if s[i] != s[j]:\n",
    "        flag = False\n",
    "        break\n",
    "    i += 1\n",
    "    j -= 1\n",
    "    \n",
    "if flag :\n",
    "    print('Pallindrome')\n",
    "else:\n",
    "    print('Not Pallindrome')\n",
    "# madam\n",
    "# 01234\n",
    "# i     0 1 2\n",
    "# j     4 3 2\n",
    "# flag T\n"
   ]
  },
  {
   "cell_type": "code",
   "execution_count": 6,
   "metadata": {},
   "outputs": [
    {
     "name": "stdout",
     "output_type": "stream",
     "text": [
      "enter palandrome string abcba\n",
      "lenth of string is  5\n",
      "string is not a palandrome\n"
     ]
    }
   ],
   "source": [
    "s=input('enter palandrome string ')\n",
    "l=len(s)\n",
    "f=False\n",
    "print('lenth of string is ',l)\n",
    "\n",
    "for i in range(0,l):\n",
    "    if s[i]!=s[l-i-1]:\n",
    "        f=False\n",
    "        break\n",
    "\n",
    "if f==True:\n",
    "    print('string is palandrome')\n",
    "else:\n",
    "    print('string is not a palandrome')"
   ]
  },
  {
   "cell_type": "code",
   "execution_count": 14,
   "metadata": {},
   "outputs": [
    {
     "name": "stdout",
     "output_type": "stream",
     "text": [
      "Enter string:aba\n",
      "It is palindrome\n"
     ]
    }
   ],
   "source": [
    "my_str=input(\"Enter string:\")\n",
    "\n",
    "if my_str == my_str[::-1]:\n",
    "    print(\"It is palindrome\")\n",
    "else:\n",
    "    print(\"It is not palindrome\")"
   ]
  },
  {
   "cell_type": "code",
   "execution_count": 15,
   "metadata": {},
   "outputs": [
    {
     "name": "stdout",
     "output_type": "stream",
     "text": [
      "edcba\n"
     ]
    }
   ],
   "source": [
    "s = 'abcde'\n",
    "s1 = ''\n",
    "for c in s:\n",
    "    s1 = c + s1\n",
    "    \n",
    "print(s1)\n",
    "# c   a  b  c  ....\n",
    "# s1  a  ba cba.."
   ]
  },
  {
   "cell_type": "code",
   "execution_count": 20,
   "metadata": {},
   "outputs": [
    {
     "name": "stdout",
     "output_type": "stream",
     "text": [
      "edcba\n"
     ]
    }
   ],
   "source": [
    "s = 'abcde'\n",
    "a = []\n",
    "for c in s:\n",
    "    a.insert(0,c)\n",
    "    \n",
    "print(''.join(a))\n",
    "\n",
    "# c   a  b  c  ....\n",
    "# s1  a  ba cba.."
   ]
  },
  {
   "cell_type": "code",
   "execution_count": 19,
   "metadata": {},
   "outputs": [
    {
     "name": "stdout",
     "output_type": "stream",
     "text": [
      "edcba\n"
     ]
    }
   ],
   "source": [
    "s = 'abcde'\n",
    "a = list(s)\n",
    "a.reverse()\n",
    "print(''.join(a))"
   ]
  },
  {
   "cell_type": "code",
   "execution_count": 33,
   "metadata": {},
   "outputs": [
    {
     "name": "stdout",
     "output_type": "stream",
     "text": [
      "u\n",
      "t\n",
      "T\n"
     ]
    }
   ],
   "source": [
    "import random\n",
    "import string\n",
    "\n",
    "def funct():\n",
    "    s = string.ascii_letters\n",
    "    print( s[ random.randrange(len(s)) ]  )\n",
    "    \n",
    "f = funct\n",
    "\n",
    "funct() # function call\n",
    "funct() # function call\n",
    "f()"
   ]
  },
  {
   "cell_type": "code",
   "execution_count": 34,
   "metadata": {},
   "outputs": [
    {
     "name": "stdout",
     "output_type": "stream",
     "text": [
      "[100, 2]\n"
     ]
    }
   ],
   "source": [
    "x = [1,2]\n",
    "y = x\n",
    "y[0] = 100\n",
    "print(x)"
   ]
  },
  {
   "cell_type": "code",
   "execution_count": 37,
   "metadata": {},
   "outputs": [
    {
     "name": "stdout",
     "output_type": "stream",
     "text": [
      "Return value eskGm\n"
     ]
    }
   ],
   "source": [
    "import random\n",
    "import string\n",
    "\n",
    "# function should take rquired data as argument and return the result\n",
    "def funct():\n",
    "    s = string.ascii_letters\n",
    "    return s[ random.randrange(len(s)) ]\n",
    "    \n",
    "r = funct() + funct() + funct() + funct() + funct()\n",
    "print('Return value', r)"
   ]
  },
  {
   "cell_type": "code",
   "execution_count": 48,
   "metadata": {},
   "outputs": [
    {
     "name": "stdout",
     "output_type": "stream",
     "text": [
      "UcHIr\n",
      "SlqYNyrrcRxnNXYFvTdTMaaAguZPogMojBaeUXYxKUNGSEjuFd\n"
     ]
    }
   ],
   "source": [
    "# WAF that generates a password of length n: gen_pass(n)\n",
    "import random\n",
    "import string\n",
    "\n",
    "def gen_pass(n):\n",
    "    s = string.ascii_letters\n",
    "    a = []\n",
    "    for _ in range(n):\n",
    "        a.append( s[ random.randrange(len(s)) ] )\n",
    "    return ''.join(a)\n",
    "\n",
    "print(gen_pass(5))\n",
    "print(gen_pass(50))"
   ]
  },
  {
   "cell_type": "code",
   "execution_count": 46,
   "metadata": {},
   "outputs": [
    {
     "name": "stdout",
     "output_type": "stream",
     "text": [
      "30\n",
      "210\n",
      "abcd\n"
     ]
    },
    {
     "ename": "TypeError",
     "evalue": "can only concatenate str (not \"int\") to str",
     "output_type": "error",
     "traceback": [
      "\u001b[1;31m---------------------------------------------------------------------------\u001b[0m",
      "\u001b[1;31mTypeError\u001b[0m                                 Traceback (most recent call last)",
      "\u001b[1;32m<ipython-input-46-33ece8815f18>\u001b[0m in \u001b[0;36m<module>\u001b[1;34m\u001b[0m\n\u001b[0;32m      6\u001b[0m \u001b[0madd\u001b[0m\u001b[1;33m(\u001b[0m\u001b[0ma\u001b[0m\u001b[1;33m,\u001b[0m \u001b[1;36m200\u001b[0m\u001b[1;33m)\u001b[0m\u001b[1;33m\u001b[0m\u001b[1;33m\u001b[0m\u001b[0m\n\u001b[0;32m      7\u001b[0m \u001b[0madd\u001b[0m\u001b[1;33m(\u001b[0m\u001b[1;34m'ab'\u001b[0m\u001b[1;33m,\u001b[0m\u001b[1;34m'cd'\u001b[0m\u001b[1;33m)\u001b[0m\u001b[1;33m\u001b[0m\u001b[1;33m\u001b[0m\u001b[0m\n\u001b[1;32m----> 8\u001b[1;33m \u001b[0madd\u001b[0m\u001b[1;33m(\u001b[0m\u001b[1;34m'ab'\u001b[0m\u001b[1;33m,\u001b[0m\u001b[1;36m10\u001b[0m\u001b[1;33m)\u001b[0m\u001b[1;33m\u001b[0m\u001b[1;33m\u001b[0m\u001b[0m\n\u001b[0m\u001b[0;32m      9\u001b[0m \u001b[0madd\u001b[0m\u001b[1;33m(\u001b[0m\u001b[1;36m1\u001b[0m\u001b[1;33m,\u001b[0m\u001b[1;36m2\u001b[0m\u001b[1;33m,\u001b[0m\u001b[1;36m3\u001b[0m\u001b[1;33m)\u001b[0m\u001b[1;33m\u001b[0m\u001b[1;33m\u001b[0m\u001b[0m\n",
      "\u001b[1;32m<ipython-input-46-33ece8815f18>\u001b[0m in \u001b[0;36madd\u001b[1;34m(x, y)\u001b[0m\n\u001b[0;32m      1\u001b[0m \u001b[1;32mdef\u001b[0m \u001b[0madd\u001b[0m\u001b[1;33m(\u001b[0m\u001b[0mx\u001b[0m\u001b[1;33m,\u001b[0m\u001b[0my\u001b[0m\u001b[1;33m)\u001b[0m\u001b[1;33m:\u001b[0m\u001b[1;33m\u001b[0m\u001b[1;33m\u001b[0m\u001b[0m\n\u001b[1;32m----> 2\u001b[1;33m     \u001b[0mprint\u001b[0m\u001b[1;33m(\u001b[0m\u001b[0mx\u001b[0m \u001b[1;33m+\u001b[0m \u001b[0my\u001b[0m\u001b[1;33m)\u001b[0m\u001b[1;33m\u001b[0m\u001b[1;33m\u001b[0m\u001b[0m\n\u001b[0m\u001b[0;32m      3\u001b[0m \u001b[1;33m\u001b[0m\u001b[0m\n\u001b[0;32m      4\u001b[0m \u001b[0madd\u001b[0m\u001b[1;33m(\u001b[0m\u001b[1;36m10\u001b[0m\u001b[1;33m,\u001b[0m\u001b[1;36m20\u001b[0m\u001b[1;33m)\u001b[0m\u001b[1;33m\u001b[0m\u001b[1;33m\u001b[0m\u001b[0m\n\u001b[0;32m      5\u001b[0m \u001b[0ma\u001b[0m \u001b[1;33m=\u001b[0m \u001b[1;36m10\u001b[0m\u001b[1;33m\u001b[0m\u001b[1;33m\u001b[0m\u001b[0m\n",
      "\u001b[1;31mTypeError\u001b[0m: can only concatenate str (not \"int\") to str"
     ]
    }
   ],
   "source": [
    "def add(x,y):\n",
    "    print(x + y)\n",
    "    \n",
    "add(10,20)\n",
    "a = 10\n",
    "add(a, 200)\n",
    "add('ab','cd')\n",
    "add('ab',10)\n",
    "add(1,2,3)"
   ]
  },
  {
   "cell_type": "code",
   "execution_count": 55,
   "metadata": {},
   "outputs": [
    {
     "name": "stdout",
     "output_type": "stream",
     "text": [
      "False\n",
      "True\n"
     ]
    }
   ],
   "source": [
    "# is_pallindrome() : takes string and returns boolean\n",
    "\n",
    "\n",
    "def is_pallindrome(s):\n",
    "    i = 0\n",
    "    j = len(s) - 1\n",
    "\n",
    "    while i < j:\n",
    "        if s[i] != s[j]:\n",
    "            return False\n",
    "        i += 1\n",
    "        j -= 1\n",
    "\n",
    "    return True\n",
    "\n",
    "print(is_pallindrome('ABCD'))\n",
    "print(is_pallindrome('ABCDCBA'))"
   ]
  },
  {
   "cell_type": "code",
   "execution_count": 58,
   "metadata": {},
   "outputs": [
    {
     "name": "stdout",
     "output_type": "stream",
     "text": [
      "100\n",
      "-1\n"
     ]
    }
   ],
   "source": [
    "a = [1,3,2,5,4,6]\n",
    "#O(1)\n",
    "#O(logN)\n",
    "#O(n)\n",
    "#O(NlonN) \n",
    "#O(N^2)\n",
    "#O(2^n)\n",
    "#O(n!)\n",
    "\n",
    "data = int(input())\n",
    "pos = -1\n",
    "for i in range(len(a)):\n",
    "    if a[i] == data:\n",
    "        pos = i\n",
    "        break\n",
    "        \n",
    "print(pos)\n",
    "\n",
    "\n"
   ]
  },
  {
   "cell_type": "code",
   "execution_count": null,
   "metadata": {},
   "outputs": [],
   "source": []
  },
  {
   "cell_type": "code",
   "execution_count": null,
   "metadata": {},
   "outputs": [],
   "source": []
  },
  {
   "cell_type": "markdown",
   "metadata": {},
   "source": [
    "## Dict\n",
    "- dict is mutable type\n",
    "- key:value\n",
    "- key : immutable ; like index\n",
    "- value : any type\n",
    "- insert and other operations work in O(1) time\n",
    "- operations via key are optimized not by value\n",
    "- keys are unique, values can repeat"
   ]
  },
  {
   "cell_type": "code",
   "execution_count": 61,
   "metadata": {},
   "outputs": [
    {
     "name": "stdout",
     "output_type": "stream",
     "text": [
      "{} <class 'dict'> 0 False\n"
     ]
    }
   ],
   "source": [
    "d = dict()\n",
    "print(d, type(d), len(d), bool(d) )"
   ]
  },
  {
   "cell_type": "code",
   "execution_count": 62,
   "metadata": {},
   "outputs": [
    {
     "name": "stdout",
     "output_type": "stream",
     "text": [
      "{} <class 'dict'> 0 False\n"
     ]
    }
   ],
   "source": [
    "d = {}\n",
    "print(d, type(d), len(d), bool(d) )"
   ]
  },
  {
   "cell_type": "code",
   "execution_count": 63,
   "metadata": {},
   "outputs": [
    {
     "name": "stdout",
     "output_type": "stream",
     "text": [
      "{1: 100, 'abc': [1, 2]} <class 'dict'> 2 True\n"
     ]
    }
   ],
   "source": [
    "d = {1:100, 'abc':[1,2]}\n",
    "print(d, type(d), len(d), bool(d) )"
   ]
  },
  {
   "cell_type": "code",
   "execution_count": 70,
   "metadata": {},
   "outputs": [
    {
     "name": "stdout",
     "output_type": "stream",
     "text": [
      "{1: 100, 'abc': [1, 2], (1, 2): 100, 100: {}} <class 'dict'> 4 True\n"
     ]
    }
   ],
   "source": [
    "# any immutable type can be key tuple, int, string etc....\n",
    "d = {1:100, 'abc':[1,2], (1,2): 100, 100:{}}\n",
    "print(d, type(d), len(d), bool(d) )"
   ]
  },
  {
   "cell_type": "code",
   "execution_count": 65,
   "metadata": {},
   "outputs": [
    {
     "ename": "TypeError",
     "evalue": "unhashable type: 'list'",
     "output_type": "error",
     "traceback": [
      "\u001b[1;31m---------------------------------------------------------------------------\u001b[0m",
      "\u001b[1;31mTypeError\u001b[0m                                 Traceback (most recent call last)",
      "\u001b[1;32m<ipython-input-65-b58ec6bb1cdc>\u001b[0m in \u001b[0;36m<module>\u001b[1;34m\u001b[0m\n\u001b[1;32m----> 1\u001b[1;33m \u001b[0md\u001b[0m \u001b[1;33m=\u001b[0m \u001b[1;33m{\u001b[0m\u001b[1;36m1\u001b[0m\u001b[1;33m:\u001b[0m\u001b[1;36m100\u001b[0m\u001b[1;33m,\u001b[0m \u001b[1;34m'abc'\u001b[0m\u001b[1;33m:\u001b[0m\u001b[1;33m[\u001b[0m\u001b[1;36m1\u001b[0m\u001b[1;33m,\u001b[0m\u001b[1;36m2\u001b[0m\u001b[1;33m]\u001b[0m\u001b[1;33m,\u001b[0m \u001b[1;33m(\u001b[0m\u001b[1;36m1\u001b[0m\u001b[1;33m,\u001b[0m\u001b[1;36m2\u001b[0m\u001b[1;33m)\u001b[0m\u001b[1;33m:\u001b[0m \u001b[1;36m100\u001b[0m\u001b[1;33m,\u001b[0m  \u001b[1;33m[\u001b[0m\u001b[1;36m1\u001b[0m\u001b[1;33m]\u001b[0m\u001b[1;33m:\u001b[0m \u001b[1;36m100\u001b[0m\u001b[1;33m}\u001b[0m\u001b[1;33m\u001b[0m\u001b[1;33m\u001b[0m\u001b[0m\n\u001b[0m\u001b[0;32m      2\u001b[0m \u001b[0mprint\u001b[0m\u001b[1;33m(\u001b[0m\u001b[0md\u001b[0m\u001b[1;33m,\u001b[0m \u001b[0mtype\u001b[0m\u001b[1;33m(\u001b[0m\u001b[0md\u001b[0m\u001b[1;33m)\u001b[0m\u001b[1;33m,\u001b[0m \u001b[0mlen\u001b[0m\u001b[1;33m(\u001b[0m\u001b[0md\u001b[0m\u001b[1;33m)\u001b[0m\u001b[1;33m,\u001b[0m \u001b[0mbool\u001b[0m\u001b[1;33m(\u001b[0m\u001b[0md\u001b[0m\u001b[1;33m)\u001b[0m \u001b[1;33m)\u001b[0m\u001b[1;33m\u001b[0m\u001b[1;33m\u001b[0m\u001b[0m\n",
      "\u001b[1;31mTypeError\u001b[0m: unhashable type: 'list'"
     ]
    }
   ],
   "source": [
    "# mutable type cannot be key\n",
    "d = {1:100, 'abc':[1,2], (1,2): 100,  [1]: 100}\n",
    "print(d, type(d), len(d), bool(d) )"
   ]
  },
  {
   "cell_type": "code",
   "execution_count": 71,
   "metadata": {},
   "outputs": [
    {
     "name": "stdout",
     "output_type": "stream",
     "text": [
      "{1: 40, 2: 30}\n",
      "40\n",
      "{1: 400, 2: 30}\n",
      "{1: 400, 2: 30, 4: 500}\n"
     ]
    },
    {
     "ename": "KeyError",
     "evalue": "'abc'",
     "output_type": "error",
     "traceback": [
      "\u001b[1;31m---------------------------------------------------------------------------\u001b[0m",
      "\u001b[1;31mKeyError\u001b[0m                                  Traceback (most recent call last)",
      "\u001b[1;32m<ipython-input-71-50a79a79a4e0>\u001b[0m in \u001b[0;36m<module>\u001b[1;34m\u001b[0m\n\u001b[0;32m      8\u001b[0m \u001b[0mprint\u001b[0m\u001b[1;33m(\u001b[0m\u001b[0md\u001b[0m\u001b[1;33m)\u001b[0m\u001b[1;33m\u001b[0m\u001b[1;33m\u001b[0m\u001b[0m\n\u001b[0;32m      9\u001b[0m \u001b[1;33m\u001b[0m\u001b[0m\n\u001b[1;32m---> 10\u001b[1;33m \u001b[0mprint\u001b[0m\u001b[1;33m(\u001b[0m\u001b[0md\u001b[0m\u001b[1;33m[\u001b[0m\u001b[1;34m'abc'\u001b[0m\u001b[1;33m]\u001b[0m\u001b[1;33m)\u001b[0m\u001b[1;33m\u001b[0m\u001b[1;33m\u001b[0m\u001b[0m\n\u001b[0m",
      "\u001b[1;31mKeyError\u001b[0m: 'abc'"
     ]
    }
   ],
   "source": [
    "d = {1:20, 2:30, 1:40}\n",
    "print(d)\n",
    "print( d[1] ) # accessing\n",
    "\n",
    "d[1] = 400 # update/create\n",
    "print(d)\n",
    "d[4] = 500 # update/create\n",
    "print(d)\n",
    "\n",
    "print(d['abc'])"
   ]
  },
  {
   "cell_type": "code",
   "execution_count": 73,
   "metadata": {},
   "outputs": [
    {
     "name": "stdout",
     "output_type": "stream",
     "text": [
      "True\n",
      "False\n"
     ]
    }
   ],
   "source": [
    "a = [1,'abcd', True]\n",
    "\n",
    "print( 1 in a )\n",
    "print( 11 in a )"
   ]
  },
  {
   "cell_type": "code",
   "execution_count": 75,
   "metadata": {},
   "outputs": [
    {
     "name": "stdout",
     "output_type": "stream",
     "text": [
      "{1: 'abcd', 'a': 'A', 3: [90, 100]}\n",
      "True\n",
      "True\n",
      "False\n"
     ]
    }
   ],
   "source": [
    "d = {}\n",
    "d[1] = 'abcd'\n",
    "d['a'] = 'A'\n",
    "d[3] = [90,100]\n",
    "\n",
    "print(d)\n",
    "print(1 in d)\n",
    "print('a' in d)\n",
    "print('A' in d)"
   ]
  },
  {
   "cell_type": "code",
   "execution_count": 78,
   "metadata": {},
   "outputs": [
    {
     "name": "stdout",
     "output_type": "stream",
     "text": [
      "{'a': 'a', 'b': 'b', 'c': 'c'} 3\n"
     ]
    }
   ],
   "source": [
    "s = 'abcaba'\n",
    "d = {}\n",
    "for c in s:\n",
    "    d[c] = c\n",
    "print(d, len(d))\n",
    "# d {} {a:a} {a:a, b:b} {a:a, b:b, c:c}"
   ]
  },
  {
   "cell_type": "code",
   "execution_count": 79,
   "metadata": {},
   "outputs": [
    {
     "name": "stdout",
     "output_type": "stream",
     "text": [
      "{} 0\n"
     ]
    }
   ],
   "source": [
    "s = 'abcaba' # 1\n",
    "d = {}\n",
    "for c in s:\n",
    "    if c in d:\n",
    "        d[c] = c\n",
    "print(d, len(d))"
   ]
  },
  {
   "cell_type": "code",
   "execution_count": 80,
   "metadata": {},
   "outputs": [
    {
     "name": "stdout",
     "output_type": "stream",
     "text": [
      "{'a': 'a', 'b': 'b', 'c': 'c'} 3\n"
     ]
    }
   ],
   "source": [
    "s = 'abcaba' # 2\n",
    "d = {}\n",
    "for c in s:\n",
    "    if c not in d:\n",
    "        d[c] = c\n",
    "print(d, len(d))"
   ]
  },
  {
   "cell_type": "code",
   "execution_count": 81,
   "metadata": {},
   "outputs": [
    {
     "name": "stdout",
     "output_type": "stream",
     "text": [
      "{'a': 3, 'b': 2, 'c': 1} 3\n"
     ]
    }
   ],
   "source": [
    "s = 'abcaba' # 1\n",
    "d = {}\n",
    "for c in s:\n",
    "    if c in d:\n",
    "        d[c] = d[c] + 1\n",
    "    else:\n",
    "        d[c] = 1\n",
    "print(d, len(d))\n",
    "\n",
    "# c -   a    b           c              a             b              a\n",
    "# d {} {a:1} {a:1, b:1} {a:1, b:1,c:1} {a:2, b:1,c:1} {a:2, b:2,c:1} {a:3, b:2,c:1}"
   ]
  },
  {
   "cell_type": "code",
   "execution_count": 82,
   "metadata": {},
   "outputs": [
    {
     "name": "stdout",
     "output_type": "stream",
     "text": [
      "Enter a string: this is a string\n",
      "{'t': 2, 'h': 1, 'i': 3, 's': 3, ' ': 3, 'a': 1, 'r': 1, 'n': 1, 'g': 1} 9\n"
     ]
    }
   ],
   "source": [
    "s = input('Enter a string: ')\n",
    "d = {}\n",
    "for c in s:\n",
    "    if c in d:\n",
    "        d[c] = d[c] + 1\n",
    "    else:\n",
    "        d[c] = 1\n",
    "print(d, len(d))\n"
   ]
  },
  {
   "cell_type": "code",
   "execution_count": 91,
   "metadata": {},
   "outputs": [
    {
     "name": "stdout",
     "output_type": "stream",
     "text": [
      "100\n",
      "100\n",
      "\n",
      "None\n",
      "Give me what i want\n",
      "100\n",
      "-1\n",
      "{10: 100, 20: 300, 3: 500}\n"
     ]
    }
   ],
   "source": [
    "d = {10:100, 20:300, 3: 500}\n",
    "\n",
    "print(d[10])\n",
    "print(d.get(10))\n",
    "print()\n",
    "#print(d[1])\n",
    "print(d.get(1))\n",
    "print(d.get(1, 'Give me what i want'))\n",
    "print(d.get(10, 'Give me what i want'))\n",
    "print(d.get(1, -1))\n",
    "print(d)"
   ]
  },
  {
   "cell_type": "code",
   "execution_count": 92,
   "metadata": {},
   "outputs": [
    {
     "name": "stdout",
     "output_type": "stream",
     "text": [
      "Enter a string: abcaba\n",
      "{'a': 3, 'b': 2, 'c': 1} 3\n"
     ]
    }
   ],
   "source": [
    "s = input('Enter a string: ')\n",
    "d = {}\n",
    "for c in s:\n",
    "    d[c] = d.get(c, 0) + 1\n",
    "    \n",
    "print(d, len(d))\n"
   ]
  },
  {
   "cell_type": "code",
   "execution_count": 95,
   "metadata": {},
   "outputs": [
    {
     "name": "stdout",
     "output_type": "stream",
     "text": [
      "dict_keys([10, 20, 3])\n",
      "dict_values([100, 300, 500])\n",
      "dict_items([(10, 100), (20, 300), (3, 500)])\n",
      "10 100\n",
      "20 300\n",
      "3 500\n"
     ]
    }
   ],
   "source": [
    "d = {10:100, 20:300, 3: 500}\n",
    "print(d.keys())\n",
    "print(d.values())\n",
    "print(d.items())\n",
    "\n",
    "for x in d:\n",
    "    print(x, d[x])"
   ]
  },
  {
   "cell_type": "code",
   "execution_count": 96,
   "metadata": {},
   "outputs": [
    {
     "name": "stdout",
     "output_type": "stream",
     "text": [
      "Enter a string: aaabcaabcde\n",
      "a occures 5 times \n",
      "b occures 2 times \n",
      "c occures 2 times \n",
      "d occures 1 times \n",
      "e occures 1 times \n"
     ]
    }
   ],
   "source": [
    "s = input('Enter a string: ')\n",
    "d = {}\n",
    "for c in s:\n",
    "    d[c] = d.get(c, 0) + 1\n",
    "    \n",
    "for x in d:\n",
    "    print(\"{} occures {} times \".format(x, d[x]))\n"
   ]
  },
  {
   "cell_type": "code",
   "execution_count": 113,
   "metadata": {},
   "outputs": [
    {
     "name": "stdout",
     "output_type": "stream",
     "text": [
      "{20: 300, 3: 500}\n",
      "{3: 500} 300\n"
     ]
    },
    {
     "ename": "KeyError",
     "evalue": "20",
     "output_type": "error",
     "traceback": [
      "\u001b[1;31m---------------------------------------------------------------------------\u001b[0m",
      "\u001b[1;31mKeyError\u001b[0m                                  Traceback (most recent call last)",
      "\u001b[1;32m<ipython-input-113-a56fbe5a5109>\u001b[0m in \u001b[0;36m<module>\u001b[1;34m\u001b[0m\n\u001b[0;32m      8\u001b[0m \u001b[0mprint\u001b[0m\u001b[1;33m(\u001b[0m\u001b[0md\u001b[0m\u001b[1;33m,\u001b[0m \u001b[0mr\u001b[0m\u001b[1;33m)\u001b[0m\u001b[1;33m\u001b[0m\u001b[1;33m\u001b[0m\u001b[0m\n\u001b[0;32m      9\u001b[0m \u001b[1;33m\u001b[0m\u001b[0m\n\u001b[1;32m---> 10\u001b[1;33m \u001b[0mr\u001b[0m \u001b[1;33m=\u001b[0m \u001b[0md\u001b[0m\u001b[1;33m.\u001b[0m\u001b[0mpop\u001b[0m\u001b[1;33m(\u001b[0m\u001b[1;36m20\u001b[0m\u001b[1;33m)\u001b[0m\u001b[1;33m\u001b[0m\u001b[1;33m\u001b[0m\u001b[0m\n\u001b[0m\u001b[0;32m     11\u001b[0m \u001b[1;33m\u001b[0m\u001b[0m\n\u001b[0;32m     12\u001b[0m \u001b[0mr\u001b[0m \u001b[1;33m=\u001b[0m \u001b[0md\u001b[0m\u001b[1;33m.\u001b[0m\u001b[0mpop\u001b[0m\u001b[1;33m(\u001b[0m\u001b[1;36m20\u001b[0m\u001b[1;33m,\u001b[0m \u001b[1;34m'I too behave like get'\u001b[0m\u001b[1;33m)\u001b[0m \u001b[1;31m# not exist now\u001b[0m\u001b[1;33m\u001b[0m\u001b[1;33m\u001b[0m\u001b[0m\n",
      "\u001b[1;31mKeyError\u001b[0m: 20"
     ]
    }
   ],
   "source": [
    "d = {10:100, 20:300, 3: 500}\n",
    "\n",
    "del d[10]\n",
    "print(d)\n",
    "#del d[1]\n",
    "\n",
    "r = d.pop(20)\n",
    "print(d, r)\n",
    "\n",
    "#r = d.pop(20)\n",
    "\n",
    "r = d.pop(20, 'I too behave like get') # not exist now\n",
    "print(r)"
   ]
  },
  {
   "cell_type": "code",
   "execution_count": 109,
   "metadata": {},
   "outputs": [
    {
     "name": "stdout",
     "output_type": "stream",
     "text": [
      "{1: 200, 'p': 100}\n"
     ]
    }
   ],
   "source": [
    "d = dict( [(1,2) , ('p', 100) , (1,200)] )\n",
    "print(d)"
   ]
  },
  {
   "cell_type": "code",
   "execution_count": 112,
   "metadata": {},
   "outputs": [
    {
     "name": "stdout",
     "output_type": "stream",
     "text": [
      "{'x': 10, 'y': 0, 'gaurav': []}\n"
     ]
    }
   ],
   "source": [
    "d = dict( x = 10, y =0, gaurav = [])\n",
    "print(d)"
   ]
  },
  {
   "cell_type": "code",
   "execution_count": null,
   "metadata": {},
   "outputs": [],
   "source": [
    "dict : hashmap O(1)\n",
    "     : treemap O(log n)"
   ]
  },
  {
   "cell_type": "code",
   "execution_count": null,
   "metadata": {},
   "outputs": [],
   "source": []
  },
  {
   "cell_type": "code",
   "execution_count": null,
   "metadata": {},
   "outputs": [],
   "source": []
  }
 ],
 "metadata": {
  "kernelspec": {
   "display_name": "Python 3",
   "language": "python",
   "name": "python3"
  },
  "language_info": {
   "codemirror_mode": {
    "name": "ipython",
    "version": 3
   },
   "file_extension": ".py",
   "mimetype": "text/x-python",
   "name": "python",
   "nbconvert_exporter": "python",
   "pygments_lexer": "ipython3",
   "version": "3.7.3"
  }
 },
 "nbformat": 4,
 "nbformat_minor": 2
}
