{
 "cells": [
  {
   "cell_type": "code",
   "execution_count": 2,
   "metadata": {},
   "outputs": [
    {
     "name": "stdout",
     "output_type": "stream",
     "text": [
      "[1, 2, 3, 4, 5, 6, 7, 8, 9, 10]\n"
     ]
    }
   ],
   "source": [
    "a = [i+1 for i in range(10)]\n",
    "print(a)"
   ]
  },
  {
   "cell_type": "code",
   "execution_count": 4,
   "metadata": {},
   "outputs": [
    {
     "name": "stdout",
     "output_type": "stream",
     "text": [
      "<generator object <genexpr> at 0x000002BAA0A141B0>\n",
      "1\n",
      "2\n",
      "3\n",
      "4\n",
      "5\n",
      "6\n",
      "7\n",
      "8\n",
      "9\n",
      "10\n"
     ]
    }
   ],
   "source": [
    "a = (i+1 for i in range(10))\n",
    "print(a)\n",
    "for data in a:\n",
    "    print(data)"
   ]
  },
  {
   "cell_type": "code",
   "execution_count": 10,
   "metadata": {},
   "outputs": [
    {
     "name": "stdout",
     "output_type": "stream",
     "text": [
      "[2, 7, 5, 8, 0, 7, 2, 3, 5, 5]\n",
      "254\n"
     ]
    }
   ],
   "source": [
    "import random\n",
    "\n",
    "nums = [random.randrange(10) for i in range(10)]\n",
    "print(nums)\n",
    "s = sum( (i**2 for i in nums) )\n",
    "print(s)"
   ]
  },
  {
   "cell_type": "code",
   "execution_count": 11,
   "metadata": {},
   "outputs": [
    {
     "name": "stdout",
     "output_type": "stream",
     "text": [
      "{0: 0, 1: 1, 2: 4, 3: 9, 4: 16}\n"
     ]
    }
   ],
   "source": [
    "d = { i : i**2 for i in range(5)  }\n",
    "print(d)"
   ]
  },
  {
   "cell_type": "code",
   "execution_count": null,
   "metadata": {},
   "outputs": [],
   "source": [
    "# bubble\n",
    "# selection\n",
    "# insertion\n",
    "\n",
    "# quiksort\n",
    "# heapsort\n",
    "# mergesort\n",
    "\n",
    "\n",
    "# divide and conquer"
   ]
  },
  {
   "cell_type": "code",
   "execution_count": 12,
   "metadata": {},
   "outputs": [
    {
     "name": "stdout",
     "output_type": "stream",
     "text": [
      "[1, 2, 3, 4, 5, 6, 10, 15, 20, 25, 30, 40]\n"
     ]
    }
   ],
   "source": [
    "# Given two sorted arrays/ lists create a new list which contains the data of both in sorted order.\n",
    "l1 = [1,4,5,6,10,20,30,40]\n",
    "l2 = [2,3,15,25]\n",
    "\n",
    "l3 = list(l1)\n",
    "l3.extend(l2)\n",
    "\n",
    "l3.sort()\n",
    "print(l3)"
   ]
  },
  {
   "cell_type": "code",
   "execution_count": 14,
   "metadata": {},
   "outputs": [
    {
     "name": "stdout",
     "output_type": "stream",
     "text": [
      "[1, 2, 3, 4, 5, 6, 10, 15, 25, 25, 30, 40]\n"
     ]
    }
   ],
   "source": [
    "# Given two sorted arrays/ lists create a new list which contains the data of both in sorted order.\n",
    "l1 = [1,4,5,6,10,25,30,40]\n",
    "l2 = [2,3,15,25]\n",
    "\n",
    "l3 = []\n",
    "\n",
    "i = 0\n",
    "j = 0\n",
    "\n",
    "while i < len(l1) and j < len(l2):\n",
    "    if l1[i] < l2[j]:\n",
    "        l3.append(l1[i])\n",
    "        i+=1\n",
    "    else:\n",
    "        l3.append(l2[j])\n",
    "        j+=1\n",
    "\n",
    "while i < len(l1):\n",
    "    l3.append(l1[i])\n",
    "    i+=1\n",
    "while j < len(l2):\n",
    "    l3.append(l2[j])\n",
    "    j+=1\n",
    "\"\"\"\n",
    "l1 : [1,4,5 ,6 ,10,20,30,40] : 8\n",
    "l2 : [2,3,15,25] :4\n",
    "      0 1  2 3  4  5  6  7\n",
    "i  0  1    1     1     2          3           4             5               5                   \n",
    "j  0  0    1     2     2          2           2             2               3                   \n",
    "l3 [] [1] [1,2][1,2,3] [1,2,3,4] [1,2,3,4,5] [1,2,3,4,5,6] [1,2,3,4,5,6,10] [1,2,3,4,5,6,10,15] \n",
    "\n",
    "6                       6\n",
    "3                       4\n",
    "[1,2,3,4,5,6,10,15,20] [1,2,3,4,5,6,10,15,20,25] \n",
    "\"\"\"\n",
    "print(l3)"
   ]
  },
  {
   "cell_type": "code",
   "execution_count": null,
   "metadata": {},
   "outputs": [],
   "source": [
    "l1 = [1,2,3,4]\n",
    "l2 = [10,20,30,40]"
   ]
  },
  {
   "cell_type": "code",
   "execution_count": null,
   "metadata": {},
   "outputs": [],
   "source": [
    "a = [10,4,5,15,25,7, 19, 1] # 8\n",
    "#   [10,4,5,15] ,                           [25,7, 19, 1] > [1,4,5,7,10,15,19,25]\n",
    "#   [10,4]            [5,15] > [4,5,10,15]  [25,7]         [19, 1] > [1,7,19,25] \n",
    "#   [10][4]>[4,10]   [5][15]>[5,15]         [25][7]>[7,25]  [19][1] >[1,19]\n"
   ]
  },
  {
   "cell_type": "code",
   "execution_count": 17,
   "metadata": {},
   "outputs": [
    {
     "name": "stdout",
     "output_type": "stream",
     "text": [
      "merge_impl 0 4 8\n",
      "merge_impl 0 2 4\n",
      "merge_impl 0 1 2\n",
      "merge_impl 0 0 1\n",
      "merge_impl 1 1 2\n",
      "merge_impl 2 3 4\n",
      "merge_impl 2 2 3\n",
      "merge_impl 3 3 4\n",
      "merge_impl 4 6 8\n",
      "merge_impl 4 5 6\n",
      "merge_impl 4 4 5\n",
      "merge_impl 5 5 6\n",
      "merge_impl 6 7 8\n",
      "merge_impl 6 6 7\n",
      "merge_impl 7 7 8\n",
      "[1, 4, 5, 7, 10, 15, 19, 25]\n"
     ]
    }
   ],
   "source": [
    "def merge_sort(array):\n",
    "    merge_impl(array, 0, len(array)//2, len(array) )\n",
    "    \n",
    "def merge_impl(array, s1, s2, e2):\n",
    "    print(\"merge_impl\", s1, s2, e2)\n",
    "    if s1 == s2:\n",
    "        return\n",
    "    merge_impl(array, s1, (s1+s2)//2, s2)\n",
    "    merge_impl(array, s2, (s2+e2)//2, e2)\n",
    "    \n",
    "    l1 = array[s1:s2] # create a copy of original data elements\n",
    "    l2 = array[s2:e2]\n",
    "    i = 0\n",
    "    j = 0\n",
    "    k = s1\n",
    "\n",
    "    while i < len(l1) and j < len(l2):\n",
    "        if l1[i] < l2[j]:\n",
    "            array[k] = l1[i]\n",
    "            i+=1\n",
    "        else:\n",
    "            array[k] = l2[j]\n",
    "            j+=1\n",
    "        k += 1\n",
    "\n",
    "    while i < len(l1):\n",
    "        array[k] = l1[i]\n",
    "        i+=1\n",
    "        k+=1\n",
    "    while j < len(l2):\n",
    "        array[k] = l2[j]\n",
    "        j+=1\n",
    "        k+=1\n",
    "    \n",
    "    \n",
    "\"\"\"\n",
    "merge_impl(0,4,8)\n",
    "merge_impl(0,2,4),                         merge_impl(4,6,8)\n",
    "\n",
    "merge_impl(0,1,2), merge_impl(2,3,4),  merge_impl(4,5,6), merge_impl(6,7,8)\n",
    "\"\"\"\n",
    "a = [10,4,5,15,25,7, 19, 1]\n",
    "merge_sort(a)\n",
    "print(a)\n",
    "# 0,1,2\n",
    "l1 [10]\n",
    "l2 [4]\n",
    "[4,10,5,15,25,7, 19, 1]\n",
    " 0  1 2  3  4 5   6  7\n",
    "# 2,3,4\n",
    "l1 [5]\n",
    "l2 [15]\n",
    "[4,10,5,15,25,7, 19, 1]\n",
    " 0  1 2  3  4 5   6  7\n",
    "# 2,3,4\n",
    "l1 [4,10]\n",
    "l2 [5,15]\n",
    "[4,5,10,15,25,7, 19, 1]\n",
    " 0  1 2  3  4 5   6  7"
   ]
  },
  {
   "cell_type": "code",
   "execution_count": null,
   "metadata": {},
   "outputs": [],
   "source": [
    "# given an array of size n\n",
    "# all elements in array are in range 0 to n-1\n",
    "# one of the elements is duplicate. find the duplicate\n",
    "[1,3,4,1,2]"
   ]
  },
  {
   "cell_type": "code",
   "execution_count": 18,
   "metadata": {},
   "outputs": [
    {
     "name": "stdout",
     "output_type": "stream",
     "text": [
      "2\n"
     ]
    }
   ],
   "source": [
    "# given an array, find first duplicate element in the array\n",
    "a = [1,2,3,6000,4,5,2]\n",
    "\n",
    "def get_first_duplicate(a):\n",
    "    for i,data in enumerate(a):\n",
    "        for j in range(i+1, len(a)):\n",
    "            if data == a[j]:\n",
    "                return data\n",
    "            \n",
    "    return None\n",
    "\n",
    "print(get_first_duplicate(a))\n",
    "        "
   ]
  }
 ],
 "metadata": {
  "kernelspec": {
   "display_name": "Python 3",
   "language": "python",
   "name": "python3"
  },
  "language_info": {
   "codemirror_mode": {
    "name": "ipython",
    "version": 3
   },
   "file_extension": ".py",
   "mimetype": "text/x-python",
   "name": "python",
   "nbconvert_exporter": "python",
   "pygments_lexer": "ipython3",
   "version": "3.7.3"
  }
 },
 "nbformat": 4,
 "nbformat_minor": 2
}
