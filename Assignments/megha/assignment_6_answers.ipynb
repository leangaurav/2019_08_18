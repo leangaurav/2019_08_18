{
 "cells": [
  {
   "cell_type": "code",
   "execution_count": 2,
   "metadata": {},
   "outputs": [
    {
     "name": "stdout",
     "output_type": "stream",
     "text": [
      "Enter first integer:4\n",
      "Enter second integer:2\n",
      "True\n"
     ]
    }
   ],
   "source": [
    "#wap to input 2 numbers and check whether the first is divisible by second and print true or false \n",
    "a=int(input(\"Enter first integer:\"))\n",
    "b=int(input(\"Enter second integer:\"))\n",
    "if(a%b==0):\n",
    "    print(\"True\")\n",
    "else:\n",
    "    print(\"False\")"
   ]
  },
  {
   "cell_type": "code",
   "execution_count": 1,
   "metadata": {},
   "outputs": [
    {
     "name": "stdout",
     "output_type": "stream",
     "text": [
      "Enter string:Naman\n",
      "It is palindrome\n"
     ]
    }
   ],
   "source": [
    "#in case of palindrome, make the code case insensitive\n",
    "my_str=input(\"Enter string:\").lower()\n",
    "str1=''\n",
    "for i in my_str: \n",
    "    str1 = i + str1\n",
    "if list(my_str) ==list(str1):       \n",
    "    print(\"It is palindrome\".format(my_str))\n",
    "else:\n",
    "    print(\"It is not palindrome\".format(my_str))"
   ]
  },
  {
   "cell_type": "code",
   "execution_count": 4,
   "metadata": {},
   "outputs": [
    {
     "name": "stdout",
     "output_type": "stream",
     "text": [
      "Enter side a:5\n",
      "Enter side b:5\n",
      "Enter side c:5\n",
      "Equilateral Triangle\n"
     ]
    }
   ],
   "source": [
    "#wap to input the sides of triangle and print whether equilateral, scalene and isoceles\n",
    "a=int(input(\"Enter side a:\"))\n",
    "b=int(input(\"Enter side b:\"))\n",
    "c=int(input(\"Enter side c:\"))\n",
    "if(a==b==c):\n",
    "    print(\"Equilateral Triangle\")\n",
    "elif(a==b or b==c or c==a):\n",
    "    print(\"Isoceles Triangle\")\n",
    "else:\n",
    "    print(\"Scalene Triangle\")"
   ]
  },
  {
   "cell_type": "code",
   "execution_count": 5,
   "metadata": {},
   "outputs": [
    {
     "name": "stdout",
     "output_type": "stream",
     "text": [
      "Enter input:7\n",
      "odd\n"
     ]
    }
   ],
   "source": [
    "#wap to input a number and print if it is even or odd\n",
    "n=int(input(\"Enter input:\"))\n",
    "if(n%2==0):\n",
    "    print(\"Even\")\n",
    "else:\n",
    "    print(\"odd\")"
   ]
  },
  {
   "cell_type": "code",
   "execution_count": 6,
   "metadata": {},
   "outputs": [
    {
     "name": "stdout",
     "output_type": "stream",
     "text": [
      "Enter age:25\n",
      "Adult\n"
     ]
    }
   ],
   "source": [
    "#wap to input age and print the respective text\n",
    "age=int(input(\"Enter age:\"))\n",
    "if(age>0 and age<=12):\n",
    "    print(\"Child\")\n",
    "elif(age>13 and age<=17):\n",
    "    print(\"Teen\")\n",
    "elif(age>18 and age<=50):\n",
    "    print(\"Adult\")\n",
    "elif(age>51 and age<=100):\n",
    "    print(\"Senior Citizen\")\n",
    "elif(age>100):\n",
    "    print(\"Contratulations\")\n",
    "else:\n",
    "    print(\"Exit\")\n",
    "    "
   ]
  },
  {
   "cell_type": "code",
   "execution_count": 2,
   "metadata": {},
   "outputs": [
    {
     "name": "stdout",
     "output_type": "stream",
     "text": [
      "Enter year:2004\n",
      "2004 is a leap year\n"
     ]
    }
   ],
   "source": [
    "#wap to input year and print whether leap year or not\n",
    "year=int(input(\"Enter year:\"))\n",
    "if (year % 4) == 0:\n",
    "   if (year % 100) == 0:\n",
    "       if (year % 400) == 0:\n",
    "           print(\"{0} is a leap year\".format(year))\n",
    "       else:\n",
    "           print(\"{0} is not a leap year\".format(year))\n",
    "   else:\n",
    "       print(\"{0} is a leap year\".format(year))\n",
    "else:\n",
    "   print(\"{0} is not a leap year\".format(year))"
   ]
  },
  {
   "cell_type": "code",
   "execution_count": 11,
   "metadata": {},
   "outputs": [
    {
     "name": "stdout",
     "output_type": "stream",
     "text": [
      "Enter String:final\n",
      "When number of characters is odd: FINAL\n"
     ]
    }
   ],
   "source": [
    "#wap to input a string and convert it to upper case if number of characters is odd and convert to lowercase otherwise\n",
    "ch=input(\"Enter String:\")\n",
    "char=0\n",
    "for i in ch:\n",
    "      char=char+1\n",
    "if(char%2!=0):\n",
    "    print(\"When number of characters is odd:\",ch.upper())\n",
    "else:\n",
    "    print(\"otherwise:\",ch.lower())\n"
   ]
  },
  {
   "cell_type": "code",
   "execution_count": 13,
   "metadata": {},
   "outputs": [
    {
     "name": "stdout",
     "output_type": "stream",
     "text": [
      "Enter Sentence:roll\n",
      "Veg\n"
     ]
    }
   ],
   "source": [
    "#wap to input a string and print \"Veg\" if the string doesnot contain egg otherwise \"non veg\"\n",
    "food=input(\"Enter Sentence:\")\n",
    "res = food.find(\"egg\") \n",
    "if res>=0:\n",
    "    print(\"Non veg\")\n",
    "else:\n",
    "    print(\"Veg\")"
   ]
  },
  {
   "cell_type": "code",
   "execution_count": 14,
   "metadata": {},
   "outputs": [
    {
     "name": "stdout",
     "output_type": "stream",
     "text": [
      "True\n",
      "True\n",
      "Weird\n",
      "[4, 3, 2, 1]\n"
     ]
    }
   ],
   "source": [
    "#predict output\n",
    "if not 1:\n",
    "    print(\"False\")\n",
    "else:\n",
    "    print(\"True\")\n",
    "if 1:\n",
    "    print(\"True\")\n",
    "else:\n",
    "    print(\"False\")\n",
    "if 'a'>'A':\n",
    "    print(\"Weird\")\n",
    "else:\n",
    "    print(\"Makes Sense\")\n",
    "a=[1,2,3,4]\n",
    "if 1>1:\n",
    "    a=a[::-1]\n",
    "else:\n",
    "    a=a[-1::-1]\n",
    "print(a)"
   ]
  },
  {
   "cell_type": "code",
   "execution_count": 2,
   "metadata": {},
   "outputs": [
    {
     "name": "stdout",
     "output_type": "stream",
     "text": [
      "Enter marks for subject1:44\n",
      "Enter marks for subject2:88\n",
      "Enter marks for subject3:77\n",
      "Enter marks for subject4:86\n",
      "Enter marks for subject5:93\n",
      "grade-C\n"
     ]
    }
   ],
   "source": [
    "#wap to input marks in 5 subjects and print the grade as per following logic\n",
    "subj1=int(input(\"Enter marks for subject1:\"))\n",
    "subj2=int(input(\"Enter marks for subject2:\"))\n",
    "subj3=int(input(\"Enter marks for subject3:\"))\n",
    "subj4=int(input(\"Enter marks for subject4:\"))\n",
    "subj5=int(input(\"Enter marks for subject5:\"))\n",
    "percentage=((subj1+subj2+subj3+subj4+subj5)/500)*100\n",
    "if(percentage>90 and percentage<=100):\n",
    "    print(\"grade-A\")\n",
    "elif(percentage>80 and percentage<=89):\n",
    "     print(\"grade-B\")\n",
    "elif(percentage>60 and percentage<=79):\n",
    "    print(\"grade-C\")\n",
    "elif(percentage<60):\n",
    "    print(\"grade-F\")\n",
    "else:\n",
    "    print(\"exit\")\n",
    "    "
   ]
  },
  {
   "cell_type": "code",
   "execution_count": 1,
   "metadata": {},
   "outputs": [
    {
     "name": "stdout",
     "output_type": "stream",
     "text": [
      "Enter age:30\n",
      "Enter salary:20000000\n",
      "220000000\n"
     ]
    }
   ],
   "source": [
    "#wap to input age and salary and calculate tax as per tax rates\n",
    "age=int(input(\"Enter age:\"))\n",
    "salary=int(input(\"Enter salary:\"))\n",
    "def calc_tax(salary, tax_rate):\n",
    "    total = salary + (salary * tax_rate)\n",
    "    return total\n",
    "if(salary>0 and salary<=250000):\n",
    "    if(age<60 and age>=60):\n",
    "        tax_rate=0\n",
    "        print(calc_tax(salary,0))\n",
    "elif(salary>250001 and salary<=500000):\n",
    "    if(age<60):\n",
    "        tax_rate=5\n",
    "        print(calc_tax(salary,5))\n",
    "    if(age>=60):\n",
    "        tax_rate=3\n",
    "        print(calc_tax(salary,3))\n",
    "elif(salary<500001 and salary>=1000000):\n",
    "    if(age<60):\n",
    "        tax_rate=10\n",
    "        print(calc_tax(salary,10))\n",
    "    if(age>=60):\n",
    "        tax_rate=8\n",
    "        print(calc_tax(salary,8))\n",
    "elif(salary>1000001):\n",
    "    if(age<60):\n",
    "        tax_rate=15\n",
    "        print(calc_tax(salary,10))\n",
    "    if(age>=60):\n",
    "        tax_rate=12\n",
    "        print(calc_tax(salary,8))\n",
    "    \n",
    "else:\n",
    "    print(\"Exit\")\n"
   ]
  },
  {
   "cell_type": "code",
   "execution_count": 6,
   "metadata": {},
   "outputs": [
    {
     "name": "stdout",
     "output_type": "stream",
     "text": [
      "10\n",
      "10\n",
      "10\n",
      "OMG\n"
     ]
    }
   ],
   "source": [
    "#predict output\n",
    "print(20 if not 1==1 else 10)\n",
    "print(30 if not 1==1 else 20 if 'a'<'A' else 10)\n",
    "print(40 if not 1==1 else 30 if 'a'<'A' else 20 if '' else 10)\n",
    "print('No' if not 1==1 else ('No' if 'a' <'A' else ('OMG' if 'oh!!' else 'No')))\n"
   ]
  },
  {
   "cell_type": "code",
   "execution_count": 5,
   "metadata": {},
   "outputs": [
    {
     "name": "stdout",
     "output_type": "stream",
     "text": [
      "Input your height in centimeters: 400\n",
      "Input your weight in kilogram: 75\n",
      "concern to doctor\n"
     ]
    },
    {
     "data": {
      "text/plain": [
       "4.69"
      ]
     },
     "execution_count": 5,
     "metadata": {},
     "output_type": "execute_result"
    }
   ],
   "source": [
    "#calculate bmi()\n",
    "import math\n",
    "def mass_index(height,weight):\n",
    "    bmi1=round(weight/(height*height),2)\n",
    "    if(bmi1 < 0.74):\n",
    "        print(\"underweight\")\n",
    "    elif(bmi1>0.74 and bmi1<=1.0):\n",
    "        print(\"Normal\")\n",
    "    elif(bmi1>1.0 and bmi1<=2.0):\n",
    "        print(\"overweight\")\n",
    "    else:\n",
    "        print(\"concern to doctor\")\n",
    "    return bmi1\n",
    "\n",
    "h = float(input(\"Input your height in centimeters: \"))\n",
    "h=(h/100)\n",
    "w = float(input(\"Input your weight in kilogram: \"))\n",
    "mass_index(h,w)\n"
   ]
  },
  {
   "cell_type": "code",
   "execution_count": 2,
   "metadata": {},
   "outputs": [
    {
     "name": "stdout",
     "output_type": "stream",
     "text": [
      "Enter age for people: 45\n",
      "Enter age for people: 74\n",
      "Enter age for people: 14\n",
      "oldest : 74  youngest : 14\n"
     ]
    }
   ],
   "source": [
    "#wap to input age from 3 people and find oldest and youngest among them\n",
    "lst = []\n",
    "for n in range(0,3):\n",
    "    numbers = int(input('Enter age for people: '))\n",
    "    lst.append(numbers)\n",
    "print(\"oldest :\", max(lst), \" youngest :\", min(lst))"
   ]
  },
  {
   "cell_type": "code",
   "execution_count": 6,
   "metadata": {},
   "outputs": [
    {
     "name": "stdout",
     "output_type": "stream",
     "text": [
      "Enter number:70\n",
      "number divisible by both 5 and 7\n"
     ]
    }
   ],
   "source": [
    "#wap to input a number and check if number is divisible by both 5 and 7\n",
    "num=int(input(\"Enter number:\"))\n",
    "if(num%5==0 and num%7==0):\n",
    "    if(num%35==0):\n",
    "        print(\"number divisible by both 5 and 7\")\n",
    "else:\n",
    "    print(\"exit\")"
   ]
  },
  {
   "cell_type": "code",
   "execution_count": null,
   "metadata": {},
   "outputs": [],
   "source": []
  }
 ],
 "metadata": {
  "kernelspec": {
   "display_name": "Python 3",
   "language": "python",
   "name": "python3"
  },
  "language_info": {
   "codemirror_mode": {
    "name": "ipython",
    "version": 3
   },
   "file_extension": ".py",
   "mimetype": "text/x-python",
   "name": "python",
   "nbconvert_exporter": "python",
   "pygments_lexer": "ipython3",
   "version": "3.7.3"
  }
 },
 "nbformat": 4,
 "nbformat_minor": 2
}
