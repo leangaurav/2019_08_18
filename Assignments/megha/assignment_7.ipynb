{
 "cells": [
  {
   "cell_type": "code",
   "execution_count": 3,
   "metadata": {},
   "outputs": [
    {
     "name": "stdout",
     "output_type": "stream",
     "text": [
      "{1: -1, 2: -2, 3: -3, 4: -4, 5: -5}\n"
     ]
    }
   ],
   "source": [
    "#wap to create a dictionary of numbers mapped to their negative value for numbers 1-5\n",
    "d={}\n",
    "for i in range(1,6):\n",
    "    d[i]=d.get(i,-i)\n",
    "print(d)\n"
   ]
  },
  {
   "cell_type": "code",
   "execution_count": 15,
   "metadata": {},
   "outputs": [
    {
     "name": "stdout",
     "output_type": "stream",
     "text": [
      "{'x': 2, 'y': 3}\n"
     ]
    }
   ],
   "source": [
    "#check which of following declarations will work\n",
    "#d={1=2,2=3}    #invalid syntax\n",
    "d={1:2,2:3}\n",
    "#d={1,2;2,3}    #invalid syntax\n",
    "d={(1,2),(2,3)}\n",
    "#d={'a':'A','b':1,c:[1234]}  #c is not defined\n",
    "d={'a':'A','b':1,'c':[1234]}\n",
    "d=dict([(1,2),(2,3)])\n",
    "d=dict(((1,2),(2,3)))\n",
    "#d=dict((1,2),(2,3)])  #invalid syntax\n",
    "d=dict(x=2,y=3)\n",
    "#d=dict('x'=2,'y'=3)    #keyword can't be an expression\n",
    "#d=dict(1=2,2=3)        #keyword can't be an expression\n",
    "print(d)\n",
    "\n"
   ]
  },
  {
   "cell_type": "code",
   "execution_count": 16,
   "metadata": {},
   "outputs": [
    {
     "name": "stdout",
     "output_type": "stream",
     "text": [
      "{1: 10, 2: 20, 3: 30, 4: 40}\n"
     ]
    }
   ],
   "source": [
    "#read help for zip and write a program that has two lists\n",
    "l1=[1,2,3,4]\n",
    "l2=[10,20,30,40]\n",
    "d=dict(zip(l1,l2))\n",
    "print(d)"
   ]
  },
  {
   "cell_type": "code",
   "execution_count": 17,
   "metadata": {},
   "outputs": [
    {
     "name": "stdout",
     "output_type": "stream",
     "text": [
      "{'A': 'Apple', 'B': 'Ball', 'C': 'Cat', 'D': 'Dog'}\n",
      "{'A': 'Apple', 'C': 'Cat'}\n"
     ]
    }
   ],
   "source": [
    "#predict output\n",
    "l1=['A','B','C','D']\n",
    "l2=['Apple','Ball','Cat','Dog']\n",
    "d1=dict(zip(l1,l2))\n",
    "print(d1)\n",
    "d2=dict(list(d1.items())[::2])\n",
    "print(d2)\n"
   ]
  },
  {
   "cell_type": "code",
   "execution_count": 1,
   "metadata": {},
   "outputs": [
    {
     "name": "stdout",
     "output_type": "stream",
     "text": [
      "Enter string:hello\n",
      "{'a': 0, 'e': 1, 'i': 0, 'o': 1, 'u': 0}\n"
     ]
    }
   ],
   "source": [
    "vowels = 'aeiou'\n",
    "ip_str = input(\"Enter string:\")\n",
    "\n",
    "# make a dictionary with each vowel a key and value 0\n",
    "count = {}.fromkeys(vowels,0)\n",
    "\n",
    "# count the vowels\n",
    "for char in ip_str:\n",
    "    if char in count:\n",
    "        count[char] += 1\n",
    "\n",
    "print(count)"
   ]
  },
  {
   "cell_type": "code",
   "execution_count": 9,
   "metadata": {},
   "outputs": [
    {
     "name": "stdout",
     "output_type": "stream",
     "text": [
      "{'A': 65, 'B': 66, 'C': 67, 'D': 68, 'E': 69, 'F': 70, 'G': 71, 'H': 72, 'I': 73, 'J': 74, 'K': 75, 'L': 76, 'M': 77, 'N': 78, 'O': 79, 'P': 80, 'Q': 81, 'R': 82, 'S': 83, 'T': 84, 'U': 85, 'V': 86, 'W': 87, 'X': 88, 'Y': 89, 'Z': 90}\n"
     ]
    }
   ],
   "source": [
    "#create dictionary having range of alphabets with ascii values\n",
    "l1=[]\n",
    "for i in range(65,91):\n",
    "    l1.append(chr(i))\n",
    "l2=[]\n",
    "for i in range(65,91):\n",
    "    ch = chr(i);\n",
    "    l2.append(i)\n",
    "d1=dict(zip(l1,l2))\n",
    "print(d1)"
   ]
  },
  {
   "cell_type": "code",
   "execution_count": 10,
   "metadata": {},
   "outputs": [
    {
     "name": "stdout",
     "output_type": "stream",
     "text": [
      "Enter String:hello morning\n",
      "h occurs 1 times\n",
      "e occurs 1 times\n",
      "l occurs 2 times\n",
      "o occurs 2 times\n",
      "  occurs 1 times\n",
      "m occurs 1 times\n",
      "r occurs 1 times\n",
      "n occurs 2 times\n",
      "i occurs 1 times\n",
      "g occurs 1 times\n"
     ]
    }
   ],
   "source": [
    "#wap to input string and count frequency of alphabets\n",
    "s=input(\"Enter String:\")\n",
    "d={}\n",
    "for c in s:\n",
    "    d[c]=d.get(c,0)+1\n",
    "for x in d:\n",
    "    print(\"{} occurs {} times\".format(x,d[x]))"
   ]
  },
  {
   "cell_type": "code",
   "execution_count": 26,
   "metadata": {},
   "outputs": [
    {
     "name": "stdout",
     "output_type": "stream",
     "text": [
      "Enter String:apple mango red yellow mango too red\n",
      "Frequency of apple is : 1\n",
      "Frequency of mango is : 2\n",
      "Frequency of red is : 2\n",
      "Frequency of yellow is : 1\n",
      "Frequency of too is : 1\n"
     ]
    }
   ],
   "source": [
    "#wap that takes a string as input and prints frequency of each word\n",
    "wordstring = input(\"Enter String:\")\n",
    "wordlist = wordstring.split()\n",
    "\n",
    "wordfreq = []\n",
    "for i in wordlist:              \n",
    "        if i not in wordfreq:   # checking for the duplicacy \n",
    "            wordfreq.append(i)  \n",
    "              \n",
    "for i in range(0, len(wordfreq)): \n",
    "        print('Frequency of', wordfreq[i], 'is :', wordlist.count(wordfreq[i]))  # count the frequency of each word(present  \n",
    "        # in str2) in str and print \n",
    "\n"
   ]
  },
  {
   "cell_type": "code",
   "execution_count": 17,
   "metadata": {},
   "outputs": [
    {
     "name": "stdout",
     "output_type": "stream",
     "text": [
      "dict_keys([0, 1, 2, 3, 4, 5, 6, 7, 8, 9])\n",
      "dict_values(['Zero', 'One', 'Two', 'Three', 'Four', 'Five', 'Six', 'Seven', 'Eight', 'Nine'])\n",
      "{0: 'Zero', 1: 'One', 2: 'Two', 3: 'Three', 4: 'Four', 5: 'Five', 6: 'Six', 7: 'Seven', 8: 'Eight', 9: 'Nine'}\n"
     ]
    }
   ],
   "source": [
    "#create a mapping of number to word from 0-9 {0:'zero',....}\n",
    "def num2words(num):\n",
    "    under_20 = ['Zero','One','Two','Three','Four','Five','Six','Seven','Eight','Nine']\n",
    "    if num < 20:\n",
    "        return under_20[num]\n",
    "d={}\n",
    "for i in range(0,10):\n",
    "    d[i]=d.get(i,num2words(i))\n",
    "    \n",
    "print(d.keys())\n",
    "print(d.values())   \n",
    "print(d)\n"
   ]
  },
  {
   "cell_type": "code",
   "execution_count": 7,
   "metadata": {},
   "outputs": [
    {
     "ename": "ModuleNotFoundError",
     "evalue": "No module named 'num2words'",
     "output_type": "error",
     "traceback": [
      "\u001b[1;31m---------------------------------------------------------------------------\u001b[0m",
      "\u001b[1;31mModuleNotFoundError\u001b[0m                       Traceback (most recent call last)",
      "\u001b[1;32m<ipython-input-7-4f1f77c41900>\u001b[0m in \u001b[0;36m<module>\u001b[1;34m\u001b[0m\n\u001b[1;32m----> 1\u001b[1;33m \u001b[1;32mfrom\u001b[0m \u001b[0mnum2words\u001b[0m \u001b[1;32mimport\u001b[0m \u001b[0mnum2words\u001b[0m\u001b[1;33m\u001b[0m\u001b[1;33m\u001b[0m\u001b[0m\n\u001b[0m\u001b[0;32m      2\u001b[0m \u001b[0mnum2words\u001b[0m\u001b[1;33m(\u001b[0m\u001b[1;36m42\u001b[0m\u001b[1;33m)\u001b[0m\u001b[1;33m\u001b[0m\u001b[1;33m\u001b[0m\u001b[0m\n",
      "\u001b[1;31mModuleNotFoundError\u001b[0m: No module named 'num2words'"
     ]
    }
   ],
   "source": []
  },
  {
   "cell_type": "code",
   "execution_count": null,
   "metadata": {},
   "outputs": [],
   "source": []
  }
 ],
 "metadata": {
  "kernelspec": {
   "display_name": "Python 3",
   "language": "python",
   "name": "python3"
  },
  "language_info": {
   "codemirror_mode": {
    "name": "ipython",
    "version": 3
   },
   "file_extension": ".py",
   "mimetype": "text/x-python",
   "name": "python",
   "nbconvert_exporter": "python",
   "pygments_lexer": "ipython3",
   "version": "3.7.3"
  }
 },
 "nbformat": 4,
 "nbformat_minor": 2
}
