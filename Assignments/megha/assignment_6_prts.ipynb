{
 "cells": [
  {
   "cell_type": "code",
   "execution_count": 1,
   "metadata": {},
   "outputs": [
    {
     "name": "stdout",
     "output_type": "stream",
     "text": [
      "Enter string:adfghb\n",
      "a\n",
      "d\n",
      "f\n",
      "g\n",
      "h\n",
      "b\n"
     ]
    }
   ],
   "source": [
    "#wap to input string and print individiual characters using for loop\n",
    "str1=input(\"Enter string:\")\n",
    "for c in str1:\n",
    "    print(c)"
   ]
  },
  {
   "cell_type": "code",
   "execution_count": 1,
   "metadata": {},
   "outputs": [
    {
     "name": "stdout",
     "output_type": "stream",
     "text": [
      "Enter string:asdfgcv\n",
      "ASCII value for a : 97\n",
      "ASCII value for s : 115\n",
      "ASCII value for d : 100\n",
      "ASCII value for f : 102\n",
      "ASCII value for g : 103\n",
      "ASCII value for c : 99\n",
      "ASCII value for v : 118\n"
     ]
    }
   ],
   "source": [
    "#wap to input string and print ASCII value of each character in string\n",
    "str1=input(\"Enter string:\")\n",
    "for c in str1:\n",
    "    print(\"ASCII value for\",c,\":\",ord(c))"
   ]
  },
  {
   "cell_type": "code",
   "execution_count": 9,
   "metadata": {},
   "outputs": [
    {
     "name": "stdout",
     "output_type": "stream",
     "text": [
      "How many numbers to be entered:4\n",
      "Enter numbers to be in list:55\n",
      "Enter numbers to be in list:44\n",
      "Enter numbers to be in list:22\n",
      "Enter numbers to be in list:33\n",
      "sum of only odd numbers: 88\n"
     ]
    }
   ],
   "source": [
    "#write a function that takes list of numbers from users as arguements and return the sum of only odd numbers\n",
    "n=int(input(\"How many numbers to be entered:\"))\n",
    "def sum_odd():\n",
    "    a=[]\n",
    "    odd_num=0\n",
    "    for c in range(0,n):\n",
    "        c=int(input(\"Enter numbers to be in list:\"))\n",
    "        a.append(c)\n",
    "    for c in range(0,n):\n",
    "        if(a[c]%2!=0):\n",
    "            odd_num+=a[c]\n",
    "    print(\"sum of only odd numbers:\",odd_num)\n",
    "sum_odd()\n",
    "        "
   ]
  },
  {
   "cell_type": "code",
   "execution_count": 9,
   "metadata": {},
   "outputs": [
    {
     "name": "stdout",
     "output_type": "stream",
     "text": [
      "Input some comma seperated numbers : 44,55,66\n",
      "('44', '55', '66', 9, 3)\n"
     ]
    }
   ],
   "source": [
    "#wap to input list of numbers and store in tuple. Now input another number and print index of this number in tuple.(use index function)\n",
    "values = input(\"Input some comma seperated numbers : \")\n",
    "list1 = values.split(\",\")\n",
    "t=tuple(list1)\n",
    "t=t+(9,)\n",
    "index = t.index(9)\n",
    "t=t+(index,)\n",
    "print(t)"
   ]
  },
  {
   "cell_type": "code",
   "execution_count": 2,
   "metadata": {},
   "outputs": [
    {
     "name": "stdout",
     "output_type": "stream",
     "text": [
      "[0, 1, 2, 3, 4, 5, 6, 7, 8, 9]\n",
      "45\n",
      "4.5\n",
      "Even numbers in the list:  [0, 2, 4, 6, 8]\n"
     ]
    }
   ],
   "source": [
    "#create a list of 10 random numbers and then print the list, sum of all numbers and average. Use a for loop. Also print elements at even index in list\n",
    "import random\n",
    "a=[]\n",
    "for i in range(0,10):\n",
    "    a.append(i)\n",
    "print(a)\n",
    "Sum1=sum(a)\n",
    "print(Sum1)\n",
    "avg1=(Sum1/10)\n",
    "print(avg1)\n",
    "even_nos = [num for num in a if num % 2 == 0] \n",
    "print(\"Even numbers in the list: \", even_nos) \n",
    "\n",
    "    \n"
   ]
  },
  {
   "cell_type": "code",
   "execution_count": 6,
   "metadata": {},
   "outputs": [
    {
     "name": "stdout",
     "output_type": "stream",
     "text": [
      "Enter number:44\n",
      "Enter number:56\n",
      "Enter number:66\n",
      "Enter number:63\n",
      "Enter number:52\n",
      "Enter number:78\n",
      "Enter number:88\n",
      "Enter number:58\n",
      "Enter number:663\n",
      "Enter number:452\n",
      "[44, 56, 66, 63, 52, 78, 88, 58, 663, 452] Sum: 1620\n"
     ]
    }
   ],
   "source": [
    "#wap to input 10 numbers repeatedly (using range based for loop) and store them in list. Print the list and sum of numbers in list\n",
    "a=[]\n",
    "for i in range(0,10):\n",
    "    i=int(input(\"Enter number:\"))\n",
    "    a.append(i)\n",
    "sum1=sum(a)\n",
    "print(a,\"Sum:\",sum1)\n"
   ]
  },
  {
   "cell_type": "code",
   "execution_count": 7,
   "metadata": {},
   "outputs": [
    {
     "name": "stdout",
     "output_type": "stream",
     "text": [
      "Enter number:7\n",
      "7 x 1 = 7\n",
      "7 x 2 = 14\n",
      "7 x 3 = 21\n",
      "7 x 4 = 28\n",
      "7 x 5 = 35\n",
      "7 x 6 = 42\n",
      "7 x 7 = 49\n",
      "7 x 8 = 56\n",
      "7 x 9 = 63\n",
      "7 x 10 = 70\n"
     ]
    }
   ],
   "source": [
    "#wap to input a number and print table of that number\n",
    "n1=int(input(\"Enter number:\"))\n",
    "mul=1\n",
    "for i in range(1,11):\n",
    "    print(n1,\"x\",i,\"=\",n1*i)"
   ]
  },
  {
   "cell_type": "code",
   "execution_count": 8,
   "metadata": {},
   "outputs": [
    {
     "name": "stdout",
     "output_type": "stream",
     "text": [
      "Enter string:hello good morning to everyone\n",
      "Enter no. of space: 4\n"
     ]
    }
   ],
   "source": [
    "#wap to print total number of spaces in string\n",
    "str1=input(\"Enter string:\")\n",
    "space=0\n",
    "for i in str1:\n",
    "    if(i==' '):\n",
    "        space=space+1\n",
    "print(\"Total no. of spaces:\",space)"
   ]
  },
  {
   "cell_type": "code",
   "execution_count": 9,
   "metadata": {},
   "outputs": [
    {
     "name": "stdout",
     "output_type": "stream",
     "text": [
      "Enter string:hello afternoon\n",
      "Total no of vowels: 6\n"
     ]
    }
   ],
   "source": [
    "#wap to input string and count number of vowels\n",
    "str1=input(\"Enter string:\")\n",
    "v=0\n",
    "for i in str1:\n",
    "    if i.upper() in 'AEIOU':\n",
    "        v += 1\n",
    "print(\"Total no of vowels:\",v)\n",
    "    "
   ]
  },
  {
   "cell_type": "code",
   "execution_count": 16,
   "metadata": {},
   "outputs": [
    {
     "name": "stdout",
     "output_type": "stream",
     "text": [
      "Enter string:hello\n",
      "h_ll_\n"
     ]
    }
   ],
   "source": [
    "#wap to input string and replace all vowels with '_'\n",
    "str1=input(\"Enter string:\")\n",
    "vowels = \"aeiouAEIOU\";\n",
    "for char in vowels:\n",
    "    str1 = str1.replace(char, \"_\")\n",
    "print(str1)"
   ]
  },
  {
   "cell_type": "code",
   "execution_count": 19,
   "metadata": {},
   "outputs": [
    {
     "name": "stdout",
     "output_type": "stream",
     "text": [
      "Num: 0\n",
      "loop ends\n",
      "Num: 0\n"
     ]
    },
    {
     "ename": "SystemExit",
     "evalue": "",
     "output_type": "error",
     "traceback": [
      "An exception has occurred, use %tb to see the full traceback.\n",
      "\u001b[1;31mSystemExit\u001b[0m\n"
     ]
    },
    {
     "name": "stderr",
     "output_type": "stream",
     "text": [
      "C:\\ProgramData\\Anaconda3\\lib\\site-packages\\IPython\\core\\interactiveshell.py:3333: UserWarning: To exit: use 'exit', 'quit', or Ctrl-D.\n",
      "  warn(\"To exit: use 'exit', 'quit', or Ctrl-D.\", stacklevel=1)\n"
     ]
    }
   ],
   "source": [
    "#predict output\n",
    "for num in range(10):\n",
    "    print(\"Num:\",num)\n",
    "    if num%4==0:\n",
    "        break\n",
    "print(\"loop ends\")\n",
    "\n",
    "import sys\n",
    "for num in range(10):\n",
    "    print(\"Num:\",num)\n",
    "    if num%4==0:\n",
    "        sys.exit()\n",
    "print(\"loop ends\") \n",
    "    "
   ]
  },
  {
   "cell_type": "code",
   "execution_count": 24,
   "metadata": {},
   "outputs": [
    {
     "name": "stdout",
     "output_type": "stream",
     "text": [
      "*****\n",
      "*****\n",
      "*****\n",
      "*****\n",
      "*****\n",
      "1\n",
      "22\n",
      "333\n",
      "4444\n",
      "55555\n",
      "1\n",
      "22\n",
      "333\n",
      "4444\n",
      "55555\n",
      "**\n",
      "***\n",
      "****\n",
      "*****\n",
      "******\n"
     ]
    }
   ],
   "source": [
    "#predict output\n",
    "for i1 in range(1,6):\n",
    "    for i2 in range(5):\n",
    "        print('*',end='')\n",
    "    print()\n",
    "\n",
    "for i1 in range(1,6):\n",
    "    print(str(i1)*i1)\n",
    "\n",
    "for i1 in range(1,6):\n",
    "    for i2 in range(i1):\n",
    "        print(i1, end='')\n",
    "    print()\n",
    "    \n",
    "for i1 in range(1,6):\n",
    "    for i2 in range(i1+1):\n",
    "        print('*',end='')\n",
    "    print()"
   ]
  },
  {
   "cell_type": "code",
   "execution_count": null,
   "metadata": {},
   "outputs": [],
   "source": []
  }
 ],
 "metadata": {
  "kernelspec": {
   "display_name": "Python 3",
   "language": "python",
   "name": "python3"
  },
  "language_info": {
   "codemirror_mode": {
    "name": "ipython",
    "version": 3
   },
   "file_extension": ".py",
   "mimetype": "text/x-python",
   "name": "python",
   "nbconvert_exporter": "python",
   "pygments_lexer": "ipython3",
   "version": "3.7.3"
  }
 },
 "nbformat": 4,
 "nbformat_minor": 2
}
