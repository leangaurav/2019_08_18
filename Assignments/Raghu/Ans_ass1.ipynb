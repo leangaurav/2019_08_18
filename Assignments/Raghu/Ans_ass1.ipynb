{
 "cells": [
  {
   "cell_type": "code",
   "execution_count": 1,
   "metadata": {},
   "outputs": [
    {
     "name": "stdout",
     "output_type": "stream",
     "text": [
      "5 20\n"
     ]
    }
   ],
   "source": [
    "#Predict the o/p\n",
    "s1='Raghu'\n",
    "s2='raghuch.py@gmail.com'\n",
    "print(len(s1),len(s2))   #5 20"
   ]
  },
  {
   "cell_type": "code",
   "execution_count": null,
   "metadata": {},
   "outputs": [],
   "source": [
    "#WAP to input string and write its length\n",
    "s=input('enter a string:')\n",
    "print(len(s))\n"
   ]
  },
  {
   "cell_type": "code",
   "execution_count": null,
   "metadata": {},
   "outputs": [],
   "source": [
    "#WAP TO INPUT 2 NUMBERS AND PRINT THEIR SUM AND DIFFERENCE\n",
    "n1=input('enter a number:')\n",
    "n2=input('enter a number:')\n",
    "print('sum of n1 and n2 is :'n1+n2)\n",
    "print('difference of n1 and n2 is :'n1+n2)"
   ]
  },
  {
   "cell_type": "code",
   "execution_count": null,
   "metadata": {},
   "outputs": [],
   "source": [
    "#predict the output\n",
    "s1='ab'\n",
    "s2='de'\n",
    "s3=s1+s2\n",
    "print(s3)   #'abde'"
   ]
  },
  {
   "cell_type": "code",
   "execution_count": 3,
   "metadata": {},
   "outputs": [
    {
     "name": "stdout",
     "output_type": "stream",
     "text": [
      "abde\n"
     ]
    }
   ],
   "source": [
    "#predict the output\n",
    "s1='ab'\n",
    "s2='de'\n",
    "s3=s1+s2\n",
    "print(s3)  #'abde'"
   ]
  },
  {
   "cell_type": "code",
   "execution_count": 4,
   "metadata": {},
   "outputs": [
    {
     "name": "stdout",
     "output_type": "stream",
     "text": [
      "abababab\n"
     ]
    }
   ],
   "source": [
    "#predict the o/p\n",
    "s='ab'*4\n",
    "print(s)  #'abababab'"
   ]
  },
  {
   "cell_type": "code",
   "execution_count": null,
   "metadata": {},
   "outputs": [],
   "source": [
    "#predict the o/p\n",
    "s='ab\\n'*4\n",
    "print(s)\n",
    "#o/p\n",
    "#ab\n",
    "#ab\n",
    "#ab\n",
    "#ab"
   ]
  },
  {
   "cell_type": "code",
   "execution_count": null,
   "metadata": {},
   "outputs": [],
   "source": [
    "#WAP to input string 's' and number 'n'.Print the string n \n",
    "# times in the newline.(no loops use the multiplication)\n",
    "s==input('enter the string: ')\n",
    "n=int(input('enter the number: '))\n",
    "s=s+'\\n'\n",
    "print(s*n)"
   ]
  },
  {
   "cell_type": "code",
   "execution_count": null,
   "metadata": {},
   "outputs": [],
   "source": [
    "#predict the o/p\n",
    "res=print('Raghu')\n",
    "print(res)  #Raghu"
   ]
  },
  {
   "cell_type": "code",
   "execution_count": null,
   "metadata": {},
   "outputs": [],
   "source": [
    "#predict the o/p\n",
    "res=len('taghuch57@gmail.com')\n",
    "print(type(res))   #int"
   ]
  },
  {
   "cell_type": "code",
   "execution_count": 9,
   "metadata": {},
   "outputs": [],
   "source": [
    "#predict the o/p\n",
    "s1='Gaurav'\n",
    "s2='tuter.py@gmail.com'\n",
    "s3=s1+'\\n'+s2\n",
    "print(type(s3))  #string\n",
    "print(len(s3))   #25"
   ]
  },
  {
   "cell_type": "code",
   "execution_count": null,
   "metadata": {},
   "outputs": [],
   "source": [
    "import math\n",
    "'sqrt' in dir(math)\n"
   ]
  },
  {
   "cell_type": "code",
   "execution_count": 13,
   "metadata": {},
   "outputs": [
    {
     "name": "stdout",
     "output_type": "stream",
     "text": [
      "enter the number: 123\n",
      "11.090536506409418\n"
     ]
    }
   ],
   "source": [
    "#wap to input a number and print its square root\n",
    "from math import sqrt\n",
    "n=int(input('enter the number: '))\n",
    "print(sqrt(n))\n",
    "\n"
   ]
  },
  {
   "cell_type": "code",
   "execution_count": 14,
   "metadata": {},
   "outputs": [
    {
     "name": "stdout",
     "output_type": "stream",
     "text": [
      "enter the number n1: 1\n",
      "enter the number n2: 2\n",
      "enter the number n3: 3\n",
      "enter the number n4: 4\n",
      "2.5\n"
     ]
    }
   ],
   "source": [
    "#WAP to input 4 numbers and print their avg\n",
    "n1=int(input('enter the number n1: '))\n",
    "n2=int(input('enter the number n2: '))\n",
    "n3=int(input('enter the number n3: '))\n",
    "n4=int(input('enter the number n4: '))\n",
    "print('Avg value of number is : '(n1+n2+n3+n4)/4)"
   ]
  },
  {
   "cell_type": "code",
   "execution_count": 15,
   "metadata": {},
   "outputs": [
    {
     "name": "stdout",
     "output_type": "stream",
     "text": [
      "Help on built-in function abs in module builtins:\n",
      "\n",
      "abs(x, /)\n",
      "    Return the absolute value of the argument.\n",
      "\n"
     ]
    }
   ],
   "source": [
    "#Statement check the help on perticular builtin function\n",
    "help(abs)"
   ]
  },
  {
   "cell_type": "code",
   "execution_count": null,
   "metadata": {},
   "outputs": [],
   "source": [
    "#predit the o/p in interpreter\n",
    "print(__name__)   #__main__\n"
   ]
  },
  {
   "cell_type": "code",
   "execution_count": null,
   "metadata": {},
   "outputs": [],
   "source": [
    "#predit the o/p in script\n",
    "print(__name__)    #__main__"
   ]
  },
  {
   "cell_type": "code",
   "execution_count": null,
   "metadata": {},
   "outputs": [],
   "source": [
    "#does dir of int class contains __name__  (Y/N)\n",
    "#ANS:N"
   ]
  },
  {
   "cell_type": "code",
   "execution_count": null,
   "metadata": {},
   "outputs": [],
   "source": [
    "#predict the output\n",
    "print(__name__)   #__main__\n",
    "print(__builtins__.__name__)  #builtin\n",
    "print(int.__name__)  #int"
   ]
  }
 ],
 "metadata": {
  "kernelspec": {
   "display_name": "Python 3",
   "language": "python",
   "name": "python3"
  },
  "language_info": {
   "codemirror_mode": {
    "name": "ipython",
    "version": 3
   },
   "file_extension": ".py",
   "mimetype": "text/x-python",
   "name": "python",
   "nbconvert_exporter": "python",
   "pygments_lexer": "ipython3",
   "version": "3.7.3"
  }
 },
 "nbformat": 4,
 "nbformat_minor": 2
}
