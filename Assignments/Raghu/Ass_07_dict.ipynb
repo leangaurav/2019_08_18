{
 "cells": [
  {
   "cell_type": "code",
   "execution_count": 1,
   "metadata": {},
   "outputs": [
    {
     "name": "stdout",
     "output_type": "stream",
     "text": [
      "{1: -1, 2: -2, 3: -3, 4: -4, 5: -5}\n"
     ]
    }
   ],
   "source": [
    "#WAP to create a dictionary of numbers mapped to their negative value for numbers from 1-5.\n",
    "# The dictionary should contain something like this:\n",
    "# Do with both with and without range based for loop.\n",
    "# {1:-1,2:-2,3:-3….}\n",
    "\n",
    "num_dict={}\n",
    "for i in range(1,6):\n",
    "    num_dict[i]=-i\n",
    "print(num_dict)"
   ]
  },
  {
   "cell_type": "code",
   "execution_count": 2,
   "metadata": {},
   "outputs": [
    {
     "name": "stdout",
     "output_type": "stream",
     "text": [
      "enter the 5 nums :12345\n",
      "{'1': -1, '2': -2, '3': -3, '4': -4, '5': -5}\n"
     ]
    }
   ],
   "source": [
    "n=input('enter the 5 nums :')  #12345 or 67895\n",
    "num_dict={}\n",
    "for ele in n:\n",
    "    num_dict[ele]=-int(ele)\n",
    "print(num_dict)"
   ]
  },
  {
   "cell_type": "code",
   "execution_count": 3,
   "metadata": {},
   "outputs": [
    {
     "ename": "SyntaxError",
     "evalue": "invalid syntax (<ipython-input-3-cb87c23ca255>, line 1)",
     "output_type": "error",
     "traceback": [
      "\u001b[1;36m  File \u001b[1;32m\"<ipython-input-3-cb87c23ca255>\"\u001b[1;36m, line \u001b[1;32m1\u001b[0m\n\u001b[1;33m    d={1=2,2=3}\u001b[0m\n\u001b[1;37m        ^\u001b[0m\n\u001b[1;31mSyntaxError\u001b[0m\u001b[1;31m:\u001b[0m invalid syntax\n"
     ]
    }
   ],
   "source": [
    "d={1=2,2=3}\n"
   ]
  },
  {
   "cell_type": "code",
   "execution_count": 4,
   "metadata": {},
   "outputs": [],
   "source": [
    "d={1:2,2:3}"
   ]
  },
  {
   "cell_type": "code",
   "execution_count": 5,
   "metadata": {},
   "outputs": [
    {
     "ename": "SyntaxError",
     "evalue": "invalid syntax (<ipython-input-5-6b768d513104>, line 1)",
     "output_type": "error",
     "traceback": [
      "\u001b[1;36m  File \u001b[1;32m\"<ipython-input-5-6b768d513104>\"\u001b[1;36m, line \u001b[1;32m1\u001b[0m\n\u001b[1;33m    d={1,2;2,3}\u001b[0m\n\u001b[1;37m          ^\u001b[0m\n\u001b[1;31mSyntaxError\u001b[0m\u001b[1;31m:\u001b[0m invalid syntax\n"
     ]
    }
   ],
   "source": [
    "d={1,2;2,3}"
   ]
  },
  {
   "cell_type": "code",
   "execution_count": 6,
   "metadata": {},
   "outputs": [],
   "source": [
    "d={(1,2),(2,3)}"
   ]
  },
  {
   "cell_type": "code",
   "execution_count": 7,
   "metadata": {},
   "outputs": [],
   "source": [
    "d=dict([(1,2),(2,3)])"
   ]
  },
  {
   "cell_type": "code",
   "execution_count": 8,
   "metadata": {},
   "outputs": [
    {
     "ename": "TypeError",
     "evalue": "dict expected at most 1 arguments, got 2",
     "output_type": "error",
     "traceback": [
      "\u001b[1;31m---------------------------------------------------------------------------\u001b[0m",
      "\u001b[1;31mTypeError\u001b[0m                                 Traceback (most recent call last)",
      "\u001b[1;32m<ipython-input-8-381561efa3dd>\u001b[0m in \u001b[0;36m<module>\u001b[1;34m\u001b[0m\n\u001b[1;32m----> 1\u001b[1;33m \u001b[0md\u001b[0m\u001b[1;33m=\u001b[0m\u001b[0mdict\u001b[0m\u001b[1;33m(\u001b[0m\u001b[1;33m(\u001b[0m\u001b[1;36m1\u001b[0m\u001b[1;33m,\u001b[0m\u001b[1;36m2\u001b[0m\u001b[1;33m)\u001b[0m\u001b[1;33m,\u001b[0m\u001b[1;33m(\u001b[0m\u001b[1;36m2\u001b[0m\u001b[1;33m,\u001b[0m\u001b[1;36m3\u001b[0m\u001b[1;33m)\u001b[0m\u001b[1;33m)\u001b[0m\u001b[1;33m\u001b[0m\u001b[1;33m\u001b[0m\u001b[0m\n\u001b[0m",
      "\u001b[1;31mTypeError\u001b[0m: dict expected at most 1 arguments, got 2"
     ]
    }
   ],
   "source": [
    "d=dict((1,2),(2,3))"
   ]
  },
  {
   "cell_type": "code",
   "execution_count": 10,
   "metadata": {},
   "outputs": [
    {
     "name": "stdout",
     "output_type": "stream",
     "text": [
      "{'x': 2, 'y': 3}\n"
     ]
    }
   ],
   "source": [
    "d=dict(x=2,y=3)\n",
    "print(d)"
   ]
  },
  {
   "cell_type": "code",
   "execution_count": 14,
   "metadata": {},
   "outputs": [
    {
     "name": "stdout",
     "output_type": "stream",
     "text": [
      "{2: 3, 0: 6}\n"
     ]
    }
   ],
   "source": [
    "d=dict([(2,3)])\n",
    "d[0]=6\n",
    "print(d)"
   ]
  },
  {
   "cell_type": "code",
   "execution_count": 36,
   "metadata": {},
   "outputs": [
    {
     "name": "stdout",
     "output_type": "stream",
     "text": [
      "(1, 10)\n",
      "(2, 20)\n",
      "(3, 30)\n",
      "(4, 40)\n",
      "{1: 10, 2: 20, 3: 30, 4: 40}\n"
     ]
    }
   ],
   "source": [
    "#Read help for zip and write a program that has two lists\n",
    "l1 = [1,2,3,4]\n",
    "l2 = [10,20,30,40]\n",
    "#And converts them to a dictionary d containing { 1:10,2:20 …….}\n",
    "l=zip(l1,l2)\n",
    "print(l.__next__())\n",
    "print(l.__next__())\n",
    "print(l.__next__())\n",
    "print(l.__next__())\n",
    "#print(l.__next__())\n",
    "l3=dict(zip(l1,l2))\n",
    "print(l3)\n",
    "\n"
   ]
  },
  {
   "cell_type": "code",
   "execution_count": 47,
   "metadata": {},
   "outputs": [
    {
     "name": "stdout",
     "output_type": "stream",
     "text": [
      "{'A': 65, 'B': 66, 'C': 67, 'D': 68, 'E': 69, 'F': 70, 'G': 71, 'H': 72, 'I': 73, 'J': 74, 'K': 75, 'L': 76, 'M': 77, 'N': 78, 'O': 79, 'P': 80, 'Q': 81, 'R': 82, 'S': 83, 'T': 84, 'U': 85, 'V': 86, 'W': 87, 'X': 88, 'Y': 89, 'Z': 90}\n",
      "{'A': 65, 'B': 66, 'C': 67, 'D': 68, 'E': 69, 'F': 70, 'G': 71, 'H': 72, 'I': 73, 'J': 74, 'K': 75, 'L': 76, 'M': 77, 'N': 78, 'O': 79, 'P': 80, 'Q': 81, 'R': 82, 'S': 83, 'T': 84, 'U': 85, 'V': 86, 'W': 87, 'X': 88, 'Y': 89, 'Z': 90}\n"
     ]
    }
   ],
   "source": [
    "#Use range based for loop to store all upper case alphabets and their corresponding ASCII\n",
    "# values in the dictionary d.\n",
    "# The result should be d = {‘A’: 65, ‘B’:66,…..}\n",
    "\n",
    "import string\n",
    "d={}\n",
    "for num in range(65,91):\n",
    "    d[chr(num)]=num\n",
    "print(d)\n",
    "d2={}\n",
    "for i in string.ascii_uppercase:\n",
    "    d2[i]=ord(i)\n",
    "print(d2)"
   ]
  },
  {
   "cell_type": "code",
   "execution_count": 52,
   "metadata": {},
   "outputs": [
    {
     "name": "stdout",
     "output_type": "stream",
     "text": [
      "Enter the singe digit +ve number:1\n",
      "Enter the singe digit +ve number:2\n",
      "Enter the singe digit +ve number:3\n",
      "Enter the singe digit +ve number:4\n",
      "Enter the singe digit +ve number:5\n",
      "Enter the singe digit +ve number:6\n",
      "Enter the singe digit +ve number:7\n",
      "Enter the singe digit +ve number:8\n",
      "Enter the singe digit +ve number:9\n",
      "Enter the singe digit +ve number:0\n",
      "{1: 'one', 2: 'two', 3: 'three', 4: 'four', 5: 'five', 6: 'six', 7: 'seven', 8: 'eight', 9: 'nine', 0: 'zero'}\n",
      "dict_items([(1, 'one'), (2, 'two'), (3, 'three'), (4, 'four'), (5, 'five'), (6, 'six'), (7, 'seven'), (8, 'eight'), (9, 'nine'), (0, 'zero')])\n",
      "dict_keys([1, 2, 3, 4, 5, 6, 7, 8, 9, 0])\n",
      "dict_values(['one', 'two', 'three', 'four', 'five', 'six', 'seven', 'eight', 'nine', 'zero'])\n"
     ]
    }
   ],
   "source": [
    "# Create a mapping of number to word from 0-9. (0:’zero’……)\n",
    "# • Ask user for a single digit number and print the corresponding word format.\n",
    "\n",
    "def int_to_en(num):\n",
    "    d = { 0 : 'zero', 1 : 'one', 2 : 'two', 3 : 'three', 4 : 'four', 5 : 'five',\n",
    "          6 : 'six', 7 : 'seven', 8 : 'eight', 9:'nine'}\n",
    "    return d[num]\n",
    "d2={}\n",
    "for i in range(10):\n",
    "    n=int(input('Enter the singe digit +ve number:'))\n",
    "    d2[n]=int_to_en(n)\n",
    "print(d2)\n",
    "print(d2.items())\n",
    "print(d2.keys())\n",
    "print(d2.values())"
   ]
  },
  {
   "cell_type": "code",
   "execution_count": 54,
   "metadata": {},
   "outputs": [
    {
     "name": "stdout",
     "output_type": "stream",
     "text": [
      "{'A': 'America', 'B': 'Bharth', 'C': 'Chickballapur', 'D': 'Delhi'}\n",
      "{'A': 'America', 'C': 'Chickballapur'}\n"
     ]
    }
   ],
   "source": [
    "l1=['A','B','C','D']\n",
    "l2=['America','Bharth','Chickballapur','Delhi']\n",
    "d1=dict(zip(l1,l2))\n",
    "print(d1)\n",
    "d2=dict(list(d1.items())[::2])\n",
    "print(d2)"
   ]
  },
  {
   "cell_type": "code",
   "execution_count": 55,
   "metadata": {},
   "outputs": [
    {
     "name": "stdout",
     "output_type": "stream",
     "text": [
      "Beautiful Day\n",
      "{'a': 2, 'e': 1, 'i': 1, 'o': 0, 'u': 2}\n"
     ]
    }
   ],
   "source": [
    "#WAP to input a string and count occurrence of each vowel in a string.\n",
    "s=input().lower()\n",
    "v='aeiou'\n",
    "d={}\n",
    "for ch in v:\n",
    "    d[ch]=s.count(ch)\n",
    "print(d)"
   ]
  },
  {
   "cell_type": "code",
   "execution_count": 62,
   "metadata": {},
   "outputs": [
    {
     "name": "stdout",
     "output_type": "stream",
     "text": [
      "vvjfvnjihojfowm,wmhtcuddnxhyegyxmiifxolckbkfxalkmscl\n",
      "{'a': 1, 'e': 1, 'i': 3, 'o': 3, 'u': 1}\n"
     ]
    }
   ],
   "source": [
    "s=input().lower()\n",
    "v='aeiou'\n",
    "d={'a':0,'e':0,'i':0,'o':0,'u':0}\n",
    "for ch in s:\n",
    "    if ch in v:\n",
    "        d[ch]+=1\n",
    "print(d)\n",
    "    "
   ]
  },
  {
   "cell_type": "code",
   "execution_count": 64,
   "metadata": {},
   "outputs": [
    {
     "name": "stdout",
     "output_type": "stream",
     "text": [
      "ojchogwhru8ur74o8y 30i0-xqrqx94uq cnmesfmhiyduil,uwu\n",
      "{'a': 0, 'e': 1, 'i': 3, 'o': 3, 'u': 6}\n",
      "39\n"
     ]
    }
   ],
   "source": [
    "#Update above program to print frequency of each alphabet present in string\n",
    "s=input().lower()\n",
    "v='aeiou'\n",
    "d={'a':0,'e':0,'i':0,'o':0,'u':0}\n",
    "alp_cnt=0\n",
    "for ch in s:\n",
    "    if ch.isalpha():\n",
    "        alp_cnt+=1\n",
    "        if ch in v:\n",
    "            d[ch]+=1\n",
    "print(d)\n",
    "print(alp_cnt)"
   ]
  },
  {
   "cell_type": "code",
   "execution_count": 66,
   "metadata": {},
   "outputs": [
    {
     "name": "stdout",
     "output_type": "stream",
     "text": [
      "enter the stringcount the words in the sentence in\n",
      "{'count': 1, 'the': 2, 'words': 1, 'in': 2, 'sentence': 1}\n"
     ]
    }
   ],
   "source": [
    "#WAP that takes a string as input and prints frequency of each word.\n",
    "#Ex: if input is “count the words in the sentence in”\n",
    "\n",
    "s=input('enter the string').split(' ')\n",
    "str_dict={}\n",
    "for letter in s:\n",
    "    if letter in str_dict:\n",
    "        str_dict[letter]+=1\n",
    "    else:\n",
    "        str_dict[letter]=1\n",
    "print(str_dict)"
   ]
  },
  {
   "cell_type": "code",
   "execution_count": null,
   "metadata": {},
   "outputs": [],
   "source": []
  }
 ],
 "metadata": {
  "kernelspec": {
   "display_name": "Python 3",
   "language": "python",
   "name": "python3"
  },
  "language_info": {
   "codemirror_mode": {
    "name": "ipython",
    "version": 3
   },
   "file_extension": ".py",
   "mimetype": "text/x-python",
   "name": "python",
   "nbconvert_exporter": "python",
   "pygments_lexer": "ipython3",
   "version": "3.7.3"
  }
 },
 "nbformat": 4,
 "nbformat_minor": 2
}
