{
 "cells": [
  {
   "cell_type": "code",
   "execution_count": null,
   "metadata": {},
   "outputs": [],
   "source": [
    "#WAP to input 2 strings and swap the strings\n",
    "s1=input('enter a string :')\n",
    "s2=input('enter a string :')\n",
    "print(s1[::-1])\n",
    "print(s2[::-1])"
   ]
  },
  {
   "cell_type": "code",
   "execution_count": 6,
   "metadata": {},
   "outputs": [
    {
     "name": "stdout",
     "output_type": "stream",
     "text": [
      "66\n"
     ]
    }
   ],
   "source": [
    "#WAP to generate 4 random numbers in a range 0-26 and print their avg\n",
    "import random as rd\n",
    "n1=rd.randrange(0,26)\n",
    "n2=rd.randrange(0,26)\n",
    "n3=rd.randrange(0,26)\n",
    "n4=rd.randrange(0,26)\n",
    "print(n1+n2+n3+n4)\n",
    "    \n"
   ]
  },
  {
   "cell_type": "code",
   "execution_count": 9,
   "metadata": {},
   "outputs": [
    {
     "name": "stdout",
     "output_type": "stream",
     "text": [
      "v\n"
     ]
    }
   ],
   "source": [
    "import string\n",
    "import random\n",
    "def get_char():\n",
    "    return random.choice(string.ascii_letters)\n",
    "print(get_char())"
   ]
  },
  {
   "cell_type": "code",
   "execution_count": 12,
   "metadata": {},
   "outputs": [
    {
     "name": "stdout",
     "output_type": "stream",
     "text": [
      "enter the p:1234\n",
      "enter the r:10\n",
      "enter the t:1\n",
      "Simple interest :  123.4\n"
     ]
    }
   ],
   "source": [
    "#WAF get_si() taht takes principle,rate and time as arguments and returns SI\n",
    "p=int(input('enter the p:'))\n",
    "r=int(input('enter the r:'))\n",
    "t=int(input('enter the t:'))\n",
    "def get_si(principle,rate,time):\n",
    "    print('Simple interest : ',(principle*rate*time/100))\n",
    "get_si(p,r,t)"
   ]
  },
  {
   "cell_type": "code",
   "execution_count": 11,
   "metadata": {},
   "outputs": [
    {
     "name": "stdout",
     "output_type": "stream",
     "text": [
      "enter the principle anount:1234\n",
      "1357.4\n"
     ]
    }
   ],
   "source": [
    "#WAF get_amount() that takes principle,rate and time as argv and returs\n",
    "# the total amount using function from above to calculate the SI\n",
    "#Also provide RATE=10 and time=1 as default argv\n",
    "p=int(input('enter the principle anount:'))\n",
    "def get_si(principle,rate=10,time=1):\n",
    "    si=principle*rate*time/100\n",
    "    return si\n",
    "def get_amount(principle):\n",
    "    return principle+get_si(principle)\n",
    "print(get_amount(p))"
   ]
  },
  {
   "cell_type": "code",
   "execution_count": null,
   "metadata": {},
   "outputs": [],
   "source": [
    "#WAP get_ci() that takes principle,rate an time as argv and print\n",
    "#compound interest\n",
    "def get_ci(principle, rate, time):\n",
    "    result = principle * (pow((1 + rate / 100), time))\n",
    "    return result\n",
    " \n",
    " \n",
    "p = float(input(\"Enter the principal amount: \"))\n",
    "r = float(input(\"Enter the interest rate: \"))\n",
    "t = float(input(\"Enter the time in years: \"))\n",
    " \n",
    "interest = get_ci(p, r, t)\n",
    "print(\"Compound interest is %.2f\" % interest)"
   ]
  },
  {
   "cell_type": "code",
   "execution_count": 22,
   "metadata": {},
   "outputs": [
    {
     "name": "stdout",
     "output_type": "stream",
     "text": [
      "enter a number : 23\n",
      "enter a number : 5\n",
      "<class 'tuple'>\n",
      "Quotitent and Remainder are : (4.0, 3.0)\n"
     ]
    }
   ],
   "source": [
    "#WAP get_q_r() taking 2 numbers as parameters and returns\n",
    "#the quotient and remainder in the form of tuple\n",
    "def get_q_r(n1,n2):\n",
    "    q=n1//n2\n",
    "    r=n1%n2\n",
    "    return q,r\n",
    "n1=float(input('enter a number : '))\n",
    "n2=float(input('enter a number : '))\n",
    "print(type(get_q_r(n1,n2)))\n",
    "print('Quotitent and Remainder are :',get_q_r(n1,n2))"
   ]
  },
  {
   "cell_type": "code",
   "execution_count": 21,
   "metadata": {},
   "outputs": [
    {
     "name": "stdout",
     "output_type": "stream",
     "text": [
      "enter the height of a triange :23\n",
      "enter the base of a triange :43\n",
      "Length of hypotenues :  48\n"
     ]
    }
   ],
   "source": [
    "#WAP to find the length of the hypotenues of a right angled triange \n",
    "#Input the height and base\n",
    "from math import sqrt\n",
    "h=int(input('enter the height of a triange :'))\n",
    "b=int(input('enter the base of a triange :'))\n",
    "hyp_len=int(sqrt(h*h+b*b))\n",
    "print('Length of hypotenues : ',hyp_len)\n"
   ]
  },
  {
   "cell_type": "code",
   "execution_count": 8,
   "metadata": {},
   "outputs": [
    {
     "name": "stdout",
     "output_type": "stream",
     "text": [
      "Enter a seconds :10000\n",
      "0 days 2 hours 46 minutes 40 seconds\n"
     ]
    }
   ],
   "source": [
    "#WAP to input seconds and print in days ,minutes and seconds\n",
    "#A day,hour and minute Value in second\n",
    "day=24*60*60\n",
    "hour=60*60\n",
    "minu=60\n",
    "sec=int(input('Enter a seconds :'))\n",
    "days=sec//day\n",
    "hours=(sec-days*hour)//hour\n",
    "minutes=(sec-hours*hour)//minu\n",
    "seconds=(sec-hours*hour)%minu\n",
    "print(str(days) + ' days ' + str(hours) + ' hours ' + str(minutes) + ' minutes ' + str(seconds) + ' seconds')\n"
   ]
  },
  {
   "cell_type": "code",
   "execution_count": 9,
   "metadata": {},
   "outputs": [
    {
     "ename": "NameError",
     "evalue": "name 'python' is not defined",
     "output_type": "error",
     "traceback": [
      "\u001b[1;31m---------------------------------------------------------------------------\u001b[0m",
      "\u001b[1;31mNameError\u001b[0m                                 Traceback (most recent call last)",
      "\u001b[1;32m<ipython-input-9-a4637bbefc43>\u001b[0m in \u001b[0;36m<module>\u001b[1;34m\u001b[0m\n\u001b[1;32m----> 1\u001b[1;33m \u001b[0mpython\u001b[0m \u001b[1;33m-\u001b[0m\u001b[1;33m-\u001b[0m\u001b[0mversion\u001b[0m\u001b[1;33m\u001b[0m\u001b[1;33m\u001b[0m\u001b[0m\n\u001b[0m",
      "\u001b[1;31mNameError\u001b[0m: name 'python' is not defined"
     ]
    }
   ],
   "source": [
    "python --version"
   ]
  },
  {
   "cell_type": "code",
   "execution_count": null,
   "metadata": {},
   "outputs": [],
   "source": [
    "#Find the output\n",
    "x=2\n",
    "x *=3\n",
    "x=x%4\n",
    "y=-x\n",
    "print(x,y)   # 2,-2\n"
   ]
  },
  {
   "cell_type": "code",
   "execution_count": 10,
   "metadata": {},
   "outputs": [
    {
     "name": "stdout",
     "output_type": "stream",
     "text": [
      "None\n"
     ]
    }
   ],
   "source": [
    "#find the o/p\n",
    "def func():\n",
    "    pass\n",
    "print(func())  #None"
   ]
  },
  {
   "cell_type": "code",
   "execution_count": 12,
   "metadata": {},
   "outputs": [
    {
     "name": "stdout",
     "output_type": "stream",
     "text": [
      "Enter the real number :10\n",
      "Enter the imaginary munber :20\n",
      "re:10 im:20\n"
     ]
    }
   ],
   "source": [
    "#WAP to input the real and imaginary part of a complex number and \n",
    "#print it on the screen\n",
    "re=int(input('Enter the real number :'))\n",
    "im=int(input('Enter the imaginary number :'))\n",
    "print('re:'+str(re) + ' im:'+ str(im))"
   ]
  },
  {
   "cell_type": "code",
   "execution_count": 30,
   "metadata": {},
   "outputs": [
    {
     "name": "stdout",
     "output_type": "stream",
     "text": [
      "Enter the real number :12\n",
      "Enter the imaginary number :34\n",
      "re:12 im:34\n",
      "Enter the real number :34\n",
      "Enter the imaginary number :54\n",
      "re:34 im:54\n"
     ]
    }
   ],
   "source": [
    "def input_complex():\n",
    "    re=int(input('Enter the real number :'))\n",
    "    im=int(input('Enter the imaginary number :'))\n",
    "    return re,im\n",
    "def print_complex(re,im):\n",
    "    print('re:'+str(re) + ' im:'+ str(im))\n",
    "print_complex(*(input_complex()))\n",
    "print_complex(*(input_complex()))"
   ]
  },
  {
   "cell_type": "code",
   "execution_count": 40,
   "metadata": {},
   "outputs": [
    {
     "name": "stdout",
     "output_type": "stream",
     "text": [
      "Enter the real number :-23\n",
      "Enter the imaginary number :3\n",
      "Enter the real number :32\n",
      "Enter the imaginary number :-23\n",
      "re1:-23 im2:3 re2:32 im2:-23\n",
      "Addition two complex numbers :  (9, -20)\n",
      "Subtraction two complex numbers :  (-55, 26)\n"
     ]
    }
   ],
   "source": [
    "def input_complex():\n",
    "    global re1,re2,im1,im2\n",
    "    re1=int(input('Enter the real number :'))\n",
    "    im1=int(input('Enter the imaginary number :'))\n",
    "    re2=int(input('Enter the real number :'))\n",
    "    im2=int(input('Enter the imaginary number :'))\n",
    "    \n",
    "    return re1,im1,re2,im2\n",
    "def print_complex(re1,im1,re2,im2):\n",
    "    print('re1:'+str(re1) + ' im2:'+ str(im1)+\\\n",
    "       ' re2:'+ str(re2) + ' im2:'+ str(im2)  )\n",
    "def add(re1,im1,re2,im2):\n",
    "    return re1+re2,im1+im2\n",
    "def sub(re1,im1,re2,im2):\n",
    "    return re1-re2,im1-im2\n",
    "print_complex(*(input_complex()))\n",
    "print('Addition two complex numbers : ',add(re1,im1,re2,im2))\n",
    "print('Subtraction two complex numbers : ',sub(re1,im1,re2,im2))\n",
    "#input_complex.add()\n",
    "#print_complex(*(input_complex()))\n"
   ]
  },
  {
   "cell_type": "code",
   "execution_count": null,
   "metadata": {},
   "outputs": [],
   "source": []
  }
 ],
 "metadata": {
  "kernelspec": {
   "display_name": "Python 3",
   "language": "python",
   "name": "python3"
  },
  "language_info": {
   "codemirror_mode": {
    "name": "ipython",
    "version": 3
   },
   "file_extension": ".py",
   "mimetype": "text/x-python",
   "name": "python",
   "nbconvert_exporter": "python",
   "pygments_lexer": "ipython3",
   "version": "3.7.3"
  }
 },
 "nbformat": 4,
 "nbformat_minor": 2
}
