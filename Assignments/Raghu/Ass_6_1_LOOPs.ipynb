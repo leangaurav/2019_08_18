{
 "cells": [
  {
   "cell_type": "code",
   "execution_count": 5,
   "metadata": {},
   "outputs": [
    {
     "name": "stdout",
     "output_type": "stream",
     "text": [
      "Enter the string :hhhhh\n",
      "h\n",
      "h\n",
      "h\n",
      "h\n",
      "h\n",
      "hhhhh"
     ]
    }
   ],
   "source": [
    "#WAP to input a string and print individual characters in the string using for loop.\n",
    "s=input('Enter the string :')\n",
    "for ch in s:\n",
    "    print(ch)\n",
    "i=0\n",
    "while i<len(s):\n",
    "    print(s[i],end='')\n",
    "    i+=1"
   ]
  },
  {
   "cell_type": "code",
   "execution_count": 7,
   "metadata": {},
   "outputs": [
    {
     "name": "stdout",
     "output_type": "stream",
     "text": [
      "Enter the string :raghuRAGHU\n",
      "114\n",
      "97\n",
      "103\n",
      "104\n",
      "117\n",
      "82\n",
      "65\n",
      "71\n",
      "72\n",
      "85\n"
     ]
    }
   ],
   "source": [
    "#WAP to input a string and print the ASCII value of each character in the string.\n",
    "s=input('Enter the string :')\n",
    "for ch in s:\n",
    "    print(ord(ch))"
   ]
  },
  {
   "cell_type": "code",
   "execution_count": 9,
   "metadata": {},
   "outputs": [
    {
     "name": "stdout",
     "output_type": "stream",
     "text": [
      "1\n",
      "2\n",
      "3\n",
      "5\n",
      "8\n",
      "8\n",
      "4\n"
     ]
    }
   ],
   "source": [
    "#WAP to input a list of numbers and store in a tuple. Now input another number and print the\n",
    "#index of this number in the tuple. [Use index function]\n",
    "lst=[]\n",
    "for i in range(5):\n",
    "    lst.append(int(input()))\n",
    "t=tuple(lst)\n",
    "print(t.index(int(input())))\n"
   ]
  },
  {
   "cell_type": "code",
   "execution_count": 11,
   "metadata": {},
   "outputs": [
    {
     "name": "stdout",
     "output_type": "stream",
     "text": [
      "17\n",
      "23\n",
      "80\n",
      "28\n",
      "46\n",
      "sum of 10 random numbers 525 and avearage is 52.5\n"
     ]
    }
   ],
   "source": [
    "#Create a list of 10 random numbers and then print the list, sum of all numbers and average. Use\n",
    "#a for loop. Also print elements at only even indexes in the list.\n",
    "import random\n",
    "num_lst=[]\n",
    "for num in range(10):\n",
    "    num_lst.append(random.randint(1,100))\n",
    "for i in range(0,10,2):\n",
    "    print(num_lst[i])\n",
    "print('sum of 10 random numbers {} and avearage is {}'.format(sum(num_lst),sum(num_lst)/10))"
   ]
  },
  {
   "cell_type": "code",
   "execution_count": 13,
   "metadata": {},
   "outputs": [
    {
     "name": "stdout",
     "output_type": "stream",
     "text": [
      "Enter the number to print its table :11\n",
      "11 X 1 = 11\n",
      "11 X 2 = 22\n",
      "11 X 3 = 33\n",
      "11 X 4 = 44\n",
      "11 X 5 = 55\n",
      "11 X 6 = 66\n",
      "11 X 7 = 77\n",
      "11 X 8 = 88\n",
      "11 X 9 = 99\n",
      "11 X 10 = 110\n"
     ]
    }
   ],
   "source": [
    "n=int(input('Enter the number to print its table :'))\n",
    "for i in range(1,11):\n",
    "    print('{} X {} = {}'.format(n,i,n*i))"
   ]
  },
  {
   "cell_type": "code",
   "execution_count": 16,
   "metadata": {},
   "outputs": [
    {
     "name": "stdout",
     "output_type": "stream",
     "text": [
      "Enter the string :rgdh hd hkv hsdh hdsih hsdhkh hfddshd  fhfhf\n",
      "8\n"
     ]
    }
   ],
   "source": [
    "#WAP to print total number of spaces in a string (Use for loop to iterate over the string. Don’t use\n",
    "#count function).\n",
    "s=input('Enter the string :')\n",
    "c=0\n",
    "for i in s:\n",
    "    if i == ' ':\n",
    "        c+=1\n",
    "print(c)"
   ]
  },
  {
   "cell_type": "code",
   "execution_count": 18,
   "metadata": {},
   "outputs": [
    {
     "name": "stdout",
     "output_type": "stream",
     "text": [
      "RAGHUTALLTECH INDIpvt limited india\n",
      "12\n"
     ]
    }
   ],
   "source": [
    "#WAP to input a string and count number of vowels in the string. [Note: it should work for both\n",
    "#capital and small alphabets]\n",
    "s=input().lower()\n",
    "vowels='aeiou'\n",
    "c=0\n",
    "for ch in s:\n",
    "    if ch in vowels:\n",
    "        c+=1\n",
    "print(c)"
   ]
  },
  {
   "cell_type": "code",
   "execution_count": 21,
   "metadata": {},
   "outputs": [
    {
     "name": "stdout",
     "output_type": "stream",
     "text": [
      "Enter the string :bvjhssss fajh iahfuehoby hfhacn8\n",
      "bvjhssss f_jh __hf__h_by hfh_cn8\n"
     ]
    }
   ],
   "source": [
    "#WAP to input a string and replace all vowels with ‘_’.\n",
    "#[Hint: Convert string to list. Remember!! Strings are immutable. Replace in the list and then join]\n",
    "s=list(input('Enter the string :'))\n",
    "vowels='aeiou'\n",
    "for i in range(len(s)):\n",
    "    if s[i] in vowels:\n",
    "        s[i]='_'\n",
    "print(''.join(s))"
   ]
  },
  {
   "cell_type": "code",
   "execution_count": 22,
   "metadata": {},
   "outputs": [
    {
     "name": "stdout",
     "output_type": "stream",
     "text": [
      "*****\n",
      "*****\n",
      "*****\n",
      "*****\n",
      "*****\n"
     ]
    }
   ],
   "source": [
    "for i in range(1,6):\n",
    "    for i in range(5):\n",
    "        print('*',end='')\n",
    "    print()"
   ]
  },
  {
   "cell_type": "code",
   "execution_count": 23,
   "metadata": {},
   "outputs": [
    {
     "name": "stdout",
     "output_type": "stream",
     "text": [
      "1\n",
      "22\n",
      "333\n",
      "4444\n",
      "55555\n"
     ]
    }
   ],
   "source": [
    "for i in range(1,6):\n",
    "    print(str(i)*i)"
   ]
  },
  {
   "cell_type": "code",
   "execution_count": 24,
   "metadata": {},
   "outputs": [
    {
     "name": "stdout",
     "output_type": "stream",
     "text": [
      "**\n",
      "***\n",
      "****\n",
      "*****\n",
      "******\n"
     ]
    }
   ],
   "source": [
    "for i in range(1,6):\n",
    "    for j in range(i+1):\n",
    "        print('*',end='')\n",
    "    print()"
   ]
  },
  {
   "cell_type": "code",
   "execution_count": null,
   "metadata": {},
   "outputs": [],
   "source": []
  }
 ],
 "metadata": {
  "kernelspec": {
   "display_name": "Python 3",
   "language": "python",
   "name": "python3"
  },
  "language_info": {
   "codemirror_mode": {
    "name": "ipython",
    "version": 3
   },
   "file_extension": ".py",
   "mimetype": "text/x-python",
   "name": "python",
   "nbconvert_exporter": "python",
   "pygments_lexer": "ipython3",
   "version": "3.7.3"
  }
 },
 "nbformat": 4,
 "nbformat_minor": 2
}
