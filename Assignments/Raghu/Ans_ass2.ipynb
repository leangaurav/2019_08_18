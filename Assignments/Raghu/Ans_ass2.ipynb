{
 "cells": [
  {
   "cell_type": "code",
   "execution_count": null,
   "metadata": {},
   "outputs": [],
   "source": [
    "#Guess the o/p\n",
    "s='Python is Object Oriented'\n",
    "s[-1]  # d\n",
    "s[::-1]  # detneirO tcejbO si nohtyP\n",
    "s[:-1]   # Python is Object Oriented\n",
    "s[1:1]    #none\n",
    "s[4:10]   # on is\n"
   ]
  },
  {
   "cell_type": "code",
   "execution_count": null,
   "metadata": {},
   "outputs": [],
   "source": [
    "#What is the error for the following statement\n",
    "s=''\n",
    "print(s[1])  #index error\n"
   ]
  },
  {
   "cell_type": "code",
   "execution_count": null,
   "metadata": {},
   "outputs": [],
   "source": [
    "#what error you get fi not what is the o/p of the following\n",
    "S='Gaurav'\n",
    "print(s[1])  #Name error"
   ]
  },
  {
   "cell_type": "code",
   "execution_count": 1,
   "metadata": {},
   "outputs": [
    {
     "ename": "NameError",
     "evalue": "name 's' is not defined",
     "output_type": "error",
     "traceback": [
      "\u001b[1;31m---------------------------------------------------------------------------\u001b[0m",
      "\u001b[1;31mNameError\u001b[0m                                 Traceback (most recent call last)",
      "\u001b[1;32m<ipython-input-1-f0ce6df656cb>\u001b[0m in \u001b[0;36m<module>\u001b[1;34m\u001b[0m\n\u001b[0;32m      1\u001b[0m \u001b[1;31m#Find the o/p of the following\u001b[0m\u001b[1;33m\u001b[0m\u001b[1;33m\u001b[0m\u001b[1;33m\u001b[0m\u001b[0m\n\u001b[0;32m      2\u001b[0m \u001b[0mds\u001b[0m\u001b[1;33m=\u001b[0m\u001b[1;34m'a b cd'\u001b[0m\u001b[1;33m\u001b[0m\u001b[1;33m\u001b[0m\u001b[0m\n\u001b[1;32m----> 3\u001b[1;33m \u001b[0mprint\u001b[0m\u001b[1;33m(\u001b[0m\u001b[0mlen\u001b[0m\u001b[1;33m(\u001b[0m\u001b[0ms\u001b[0m\u001b[1;33m)\u001b[0m\u001b[1;33m)\u001b[0m  \u001b[1;31m#6\u001b[0m\u001b[1;33m\u001b[0m\u001b[1;33m\u001b[0m\u001b[0m\n\u001b[0m\u001b[0;32m      4\u001b[0m \u001b[0mprint\u001b[0m\u001b[1;33m(\u001b[0m\u001b[0ms\u001b[0m\u001b[1;33m[\u001b[0m\u001b[1;33m:\u001b[0m\u001b[1;33m:\u001b[0m\u001b[1;36m2\u001b[0m\u001b[1;33m]\u001b[0m\u001b[1;33m)\u001b[0m  \u001b[1;31m#abc\u001b[0m\u001b[1;33m\u001b[0m\u001b[1;33m\u001b[0m\u001b[0m\n\u001b[0;32m      5\u001b[0m \u001b[0mprint\u001b[0m\u001b[1;33m(\u001b[0m\u001b[0mlen\u001b[0m\u001b[1;33m(\u001b[0m\u001b[0ms\u001b[0m\u001b[1;33m[\u001b[0m\u001b[1;33m:\u001b[0m\u001b[1;33m:\u001b[0m\u001b[1;36m2\u001b[0m\u001b[1;33m]\u001b[0m\u001b[1;33m)\u001b[0m\u001b[1;33m)\u001b[0m \u001b[1;31m#3\u001b[0m\u001b[1;33m\u001b[0m\u001b[1;33m\u001b[0m\u001b[0m\n",
      "\u001b[1;31mNameError\u001b[0m: name 's' is not defined"
     ]
    }
   ],
   "source": [
    "#Find the o/p of the following\n",
    "s='a b cd'\n",
    "print(len(s))  #6\n",
    "print(s[::2])  #abc\n",
    "print(len(s[::2])) #3"
   ]
  },
  {
   "cell_type": "code",
   "execution_count": 4,
   "metadata": {},
   "outputs": [
    {
     "name": "stdout",
     "output_type": "stream",
     "text": [
      "['a$b$c$d$']\n",
      "['a$b$c$d$']\n",
      "a$b$c$d$\n"
     ]
    }
   ],
   "source": [
    "s='a#b#c#d#'\n",
    "print(s.split())  # ['a#b#c#d#']\n",
    "print(s.split('#'))  #['a','b','c','d','']\n",
    "l=s.split('#')\n",
    "s='$'.join(l)\n",
    "print(s)         #  a$b$c$d$"
   ]
  },
  {
   "cell_type": "code",
   "execution_count": 7,
   "metadata": {},
   "outputs": [
    {
     "name": "stdout",
     "output_type": "stream",
     "text": [
      "vra\n"
     ]
    }
   ],
   "source": [
    "S='Gaurav'\n",
    "S=S[::-2][::-2]\n",
    "print(S)   # av"
   ]
  },
  {
   "cell_type": "code",
   "execution_count": null,
   "metadata": {},
   "outputs": [],
   "source": [
    "print(1>2)  #False"
   ]
  },
  {
   "cell_type": "code",
   "execution_count": null,
   "metadata": {},
   "outputs": [],
   "source": [
    "print(4%2,5%2,2%5,sep=',')  #0,1,2"
   ]
  },
  {
   "cell_type": "code",
   "execution_count": 1,
   "metadata": {},
   "outputs": [
    {
     "name": "stdout",
     "output_type": "stream",
     "text": [
      "ABCBA\n",
      "2,0,0,"
     ]
    }
   ],
   "source": [
    "s='abcba'\n",
    "s=s.upper()\n",
    "print(s) # ABCBA\n",
    "print(s.count('A'),end=',')  # 2,\n",
    "print(s.count('A',2,4),end=',')  #2,0,\n",
    "print(s.count('a',2,4),end=',')  #2,0,0,\n"
   ]
  },
  {
   "cell_type": "code",
   "execution_count": 4,
   "metadata": {},
   "outputs": [
    {
     "name": "stdout",
     "output_type": "stream",
     "text": [
      "enter a string : bgjgd hdh  iijhd\n",
      "bgjgd hdh  iijhd\n"
     ]
    }
   ],
   "source": [
    "#WAP program to input a string and remove spaces from it\n",
    "s=input('enter a string : ')\n",
    "print(s.replace(' ',''))\n"
   ]
  },
  {
   "cell_type": "code",
   "execution_count": null,
   "metadata": {},
   "outputs": [],
   "source": [
    "#What does [] denotes---->Index or empty list"
   ]
  },
  {
   "cell_type": "code",
   "execution_count": null,
   "metadata": {},
   "outputs": [],
   "source": [
    "#WAP to print all the methods available in string\n",
    "\n",
    "import string\n",
    "print(dir(string))\n"
   ]
  },
  {
   "cell_type": "code",
   "execution_count": null,
   "metadata": {},
   "outputs": [],
   "source": [
    "#Write a statement to check rstrip method is available in\n",
    "# the str class.\n",
    "'rstrip' in dir(str)\n"
   ]
  },
  {
   "cell_type": "code",
   "execution_count": null,
   "metadata": {},
   "outputs": [],
   "source": [
    "#WAP to store the following pattern in a string variable and then print them\n",
    "s='*'\n",
    "for i in range(5):\n",
    "    print(s,end=\"\")\n",
    "for i in range(4):    \n",
    "    print('  '+s)"
   ]
  },
  {
   "cell_type": "code",
   "execution_count": null,
   "metadata": {},
   "outputs": [],
   "source": []
  },
  {
   "cell_type": "code",
   "execution_count": null,
   "metadata": {},
   "outputs": [],
   "source": []
  },
  {
   "cell_type": "code",
   "execution_count": 6,
   "metadata": {},
   "outputs": [
    {
     "name": "stdout",
     "output_type": "stream",
     "text": [
      "enter a string : tg hkufh hhc gd\n",
      "tg\n",
      "hkufh\n",
      "hhc\n",
      "gd\n"
     ]
    }
   ],
   "source": [
    "#WAP to input a string and replace all spaces with new line(\\n) and print again\n",
    "s=input(('enter a string : '))\n",
    "\n",
    "s=s.replace(' ','\\n')\n",
    "print(s)"
   ]
  },
  {
   "cell_type": "code",
   "execution_count": 15,
   "metadata": {},
   "outputs": [
    {
     "name": "stdout",
     "output_type": "stream",
     "text": [
      "enter the full name: raghu ram\n",
      "first name : RAGHU 5\n",
      "first name : RAM 3\n"
     ]
    }
   ],
   "source": [
    "#WAP to input first name and last name seperated by space.print both names\n",
    "# separately along with their length in upper case\n",
    "name=input('enter the full name: ')\n",
    "name=name.split(' ')\n",
    "#first=name[0]\n",
    "print('First Name and length :',name[0].upper(),len(name[0]))\n",
    "print('Second Name and length :',name[1].upper(),len(name[1]))"
   ]
  },
  {
   "cell_type": "code",
   "execution_count": 22,
   "metadata": {},
   "outputs": [
    {
     "name": "stdout",
     "output_type": "stream",
     "text": [
      "Enter the string : raghu\n",
      "ra hu\n"
     ]
    }
   ],
   "source": [
    "#WAP to input a string and split it into 2 halves.The string can be any length\n",
    "s=input('Enter the string : ')\n",
    "l=len(s)//2\n",
    "S1=s[:l]\n",
    "if len(s)%2 ==0:\n",
    "    S2=s[l:]\n",
    "else:\n",
    "    S2=s[l+1:]\n",
    "print(S1,S2)"
   ]
  },
  {
   "cell_type": "code",
   "execution_count": null,
   "metadata": {},
   "outputs": [],
   "source": []
  },
  {
   "cell_type": "code",
   "execution_count": null,
   "metadata": {},
   "outputs": [],
   "source": []
  }
 ],
 "metadata": {
  "kernelspec": {
   "display_name": "Python 3",
   "language": "python",
   "name": "python3"
  },
  "language_info": {
   "codemirror_mode": {
    "name": "ipython",
    "version": 3
   },
   "file_extension": ".py",
   "mimetype": "text/x-python",
   "name": "python",
   "nbconvert_exporter": "python",
   "pygments_lexer": "ipython3",
   "version": "3.7.3"
  }
 },
 "nbformat": 4,
 "nbformat_minor": 2
}
