{
 "cells": [
  {
   "cell_type": "code",
   "execution_count": 10,
   "metadata": {},
   "outputs": [
    {
     "name": "stdout",
     "output_type": "stream",
     "text": [
      "enter temperature in fahrenheat : 34\n",
      "The teperature 34 celsius in Fahrenheat : 1.1111111111111112\n"
     ]
    }
   ],
   "source": [
    "#Input temperature in fahrenheat and print in celsius\n",
    "a=int(input('enter temperature in fahrenheat : '))\n",
    "print('The teperature %d celsius in Fahrenheat :'%a,(a-32)*5/9)"
   ]
  },
  {
   "cell_type": "code",
   "execution_count": 5,
   "metadata": {
    "scrolled": true
   },
   "outputs": [
    {
     "name": "stdout",
     "output_type": "stream",
     "text": [
      "enter number :: 3\n",
      "The suqare of the the number 3 is 9\n",
      "The cube of the the number 3 is 27\n"
     ]
    }
   ],
   "source": [
    "#wap to input number & print its square and cube\n",
    "b=int(input('enter number :: '))\n",
    "print('The suqare of the the number',b,'is',b*b)\n",
    "print('The cube of the the number',b,'is',b*b*b)"
   ]
  },
  {
   "cell_type": "code",
   "execution_count": 6,
   "metadata": {
    "scrolled": true
   },
   "outputs": [
    {
     "name": "stdout",
     "output_type": "stream",
     "text": [
      "enter the n number :: 2\n",
      "enter the m number :: 4\n",
      "The result of n2+m2 is  20\n",
      "The result of n2+m2 is  20\n"
     ]
    }
   ],
   "source": [
    "#WAP to input a number n and a number m and print the result of following n2 + m2 \n",
    "n=int(input('enter the n number :: '))\n",
    "m=int(input('enter the m number :: '))\n",
    "print('The result of n2+m2 is ',(n*n)+m*m)\n"
   ]
  },
  {
   "cell_type": "code",
   "execution_count": 4,
   "metadata": {
    "scrolled": true
   },
   "outputs": [
    {
     "name": "stdout",
     "output_type": "stream",
     "text": [
      "enter the n number :: 4\n",
      "enter the m number :: 2\n",
      "the result of MN is  16\n",
      "the power of MN is  16\n"
     ]
    }
   ],
   "source": [
    "#WAP to input a numbers M and N and print result of MN. (use both ** and pow) \n",
    "n=int(input('enter the n number :: '))\n",
    "m=int(input('enter the m number :: '))\n",
    "print('the result of MN is ',m**n)\n",
    "print('the power of MN is ',pow(m,n))"
   ]
  },
  {
   "cell_type": "code",
   "execution_count": 8,
   "metadata": {
    "scrolled": true
   },
   "outputs": [
    {
     "name": "stdout",
     "output_type": "stream",
     "text": [
      "enter amount :3456\n",
      "enter amount :16\n",
      "enter amount :3\n",
      "1658.88\n"
     ]
    }
   ],
   "source": [
    "#Write a simple interest calculator. \n",
    "r=int(input('enter amount :'))\n",
    "p=int(input('enter amount :'))\n",
    "t=int(input('enter amount :'))\n",
    "print(p*r*t/100)"
   ]
  },
  {
   "cell_type": "code",
   "execution_count": 4,
   "metadata": {
    "scrolled": true
   },
   "outputs": [
    {
     "name": "stdout",
     "output_type": "stream",
     "text": [
      "enter r value :4\n",
      "enter p value :3\n",
      "enter t time value :2\n",
      "enter n value :2345\n",
      "8882.133001270566\n"
     ]
    }
   ],
   "source": [
    "#Input Principal, Rate, Time and print Compound Interest and Amount\n",
    "r=int(input('enter r value :'))\n",
    "p=int(input('enter p value :'))\n",
    "t=int(input('enter t time value :'))\n",
    "n=int(input('enter n value :'))\n",
    "print(p*((1+(r/n))**(n*t)))"
   ]
  },
  {
   "cell_type": "code",
   "execution_count": 9,
   "metadata": {
    "scrolled": true
   },
   "outputs": [
    {
     "name": "stdout",
     "output_type": "stream",
     "text": [
      "enter n value :6\n",
      "21.0\n",
      "Sum of 6 natural numbers : 21\n"
     ]
    }
   ],
   "source": [
    "#WAP to print sum of first n natural numbers. (n needs to be taken as input). \n",
    "n=int(input('enter n value :'))\n",
    "print(n*(n+1)/2)\n",
    "sum=0\n",
    "for num in range(0,n+1,1):\n",
    "    sum = sum+num;\n",
    "print('Sum of %d natural numbers :'%n,sum)"
   ]
  },
  {
   "cell_type": "code",
   "execution_count": 4,
   "metadata": {
    "scrolled": true
   },
   "outputs": [
    {
     "name": "stdout",
     "output_type": "stream",
     "text": [
      "Enter 1st Number :34\n",
      "Enter 2nd Number :56\n",
      "x value is : 56\n",
      "y value is : 56\n"
     ]
    }
   ],
   "source": [
    "# WAP to input 2 numbers and swap them. (write using both normal logic with temp variable). \n",
    "x = int(input('Enter 1st Number :'))\n",
    "y = int(input('Enter 2nd Number :'))\n",
    "temp=x\n",
    "x=y\n",
    "y=temp\n",
    "print('x value is :',x)\n",
    "print('y value is :',y)"
   ]
  },
  {
   "cell_type": "code",
   "execution_count": 1,
   "metadata": {
    "scrolled": true
   },
   "outputs": [
    {
     "name": "stdout",
     "output_type": "stream",
     "text": [
      "Enter 1st Number2\n",
      "Enter 2nd Number3\n",
      "x value is 3\n",
      "y value is 2\n"
     ]
    }
   ],
   "source": [
    "# WAP to input 2 numbers and swap them. (write using the pythonic way). \n",
    "x = int(input('Enter 1st Number'))\n",
    "y = int(input('Enter 2nd Number'))\n",
    "x,y=y,x\n",
    "print('x value is',x)\n",
    "print('y value is',y)"
   ]
  },
  {
   "cell_type": "code",
   "execution_count": 7,
   "metadata": {
    "scrolled": true
   },
   "outputs": [
    {
     "name": "stdout",
     "output_type": "stream",
     "text": [
      "enter the character that needs to convert into integer [\n",
      "the interger value is  91\n"
     ]
    }
   ],
   "source": [
    "#WAP to print ascii value of all white-space characters present in python\n",
    "x=input('enter the character that needs to convert into integer:')\n",
    "print('Interger value of number is :',ord(x))"
   ]
  },
  {
   "cell_type": "code",
   "execution_count": 19,
   "metadata": {
    "scrolled": true
   },
   "outputs": [
    {
     "name": "stdout",
     "output_type": "stream",
     "text": [
      "enter the character that needs to convert into integerD\n",
      "the interger value is  68\n"
     ]
    }
   ],
   "source": [
    "#Input a single character and print its ascii values\n",
    "x=input('enter the character that needs to convert into integer :')\n",
    "print('Interger value of number is :',ord(x))"
   ]
  },
  {
   "cell_type": "code",
   "execution_count": 2,
   "metadata": {
    "scrolled": true
   },
   "outputs": [
    {
     "name": "stdout",
     "output_type": "stream",
     "text": [
      "enter the area of the circle25\n",
      "radius is  3.9788735772973833\n",
      "the circumference is 25.0\n"
     ]
    }
   ],
   "source": [
    "#WAP that takes area of a circle and gives back the radius and circumference\n",
    "import math\n",
    "a=int(input('enter the area of the circle : '))\n",
    "r=a/(2*math.pi)\n",
    "print('radius is :',r)\n",
    "c=2*math.pi*r\n",
    "print('Circumference is :',c)"
   ]
  },
  {
   "cell_type": "code",
   "execution_count": 3,
   "metadata": {},
   "outputs": [
    {
     "name": "stdout",
     "output_type": "stream",
     "text": [
      "enter the 1st subject marks :34\n",
      "enter the 2nd subject marks :56\n",
      "enter the 3rd subject marks :76\n",
      "enter the 4th subject marks :39\n",
      "enter the 5th subject marks :95\n",
      "1st subject percentage is : 34.0\n",
      "2nd subject percentage is : 56.00000000000001\n",
      "3rd subject percentage is : 76.0\n",
      "4th subject percentage is : 39.0\n",
      "5th subject percentage is : 95.0\n",
      "Total % : 60.0\n"
     ]
    }
   ],
   "source": [
    "# We need to input marks in 5 subjects out of 100 and print percentage\n",
    "a=float(input('enter the 1st subject marks :'))\n",
    "b=float(input('enter the 2nd subject marks :'))\n",
    "c=float(input('enter the 3rd subject marks :'))\n",
    "d=float(input('enter the 4th subject marks :'))\n",
    "e=float(input('enter the 5th subject marks :'))\n",
    "print('1st subject percentage is :',float(a/100)*100)\n",
    "print('2nd subject percentage is :',float(b/100)*100)\n",
    "print('3rd subject percentage is :',float(c/100)*100)\n",
    "print('4th subject percentage is :',float(d/100)*100)\n",
    "print('5th subject percentage is :',float(e/100)*100)\n",
    "print('Total % :',float((a+b+c+d+e)/500)*100)"
   ]
  },
  {
   "cell_type": "markdown",
   "metadata": {},
   "source": [
    "##### "
   ]
  }
 ],
 "metadata": {
  "kernelspec": {
   "display_name": "Python 3",
   "language": "python",
   "name": "python3"
  },
  "language_info": {
   "codemirror_mode": {
    "name": "ipython",
    "version": 3
   },
   "file_extension": ".py",
   "mimetype": "text/x-python",
   "name": "python",
   "nbconvert_exporter": "python",
   "pygments_lexer": "ipython3",
   "version": "3.7.3"
  }
 },
 "nbformat": 4,
 "nbformat_minor": 2
}
