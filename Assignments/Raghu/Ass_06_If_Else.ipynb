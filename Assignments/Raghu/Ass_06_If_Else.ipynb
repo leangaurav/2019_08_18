{
 "cells": [
  {
   "cell_type": "code",
   "execution_count": 2,
   "metadata": {},
   "outputs": [
    {
     "name": "stdout",
     "output_type": "stream",
     "text": [
      "2\n",
      "3\n",
      "True\n"
     ]
    }
   ],
   "source": [
    "#WAP to in put 2 numbers and check the divisibility\n",
    "a=int(input())\n",
    "b=int(input())\n",
    "if a/b:\n",
    "    print(True)\n",
    "else:\n",
    "    print(False)"
   ]
  },
  {
   "cell_type": "code",
   "execution_count": 4,
   "metadata": {},
   "outputs": [
    {
     "name": "stdout",
     "output_type": "stream",
     "text": [
      "2\n",
      "#\n",
      "Invalid division : invalid literal for int() with base 10: '#'\n"
     ]
    }
   ],
   "source": [
    "try:\n",
    "    a=int(input())\n",
    "    b=int(input())\n",
    "    print(a/b)\n",
    "except Exception as e:\n",
    "    print('Invalid division :',e)"
   ]
  },
  {
   "cell_type": "code",
   "execution_count": 4,
   "metadata": {},
   "outputs": [
    {
     "name": "stdout",
     "output_type": "stream",
     "text": [
      "Madam\n",
      "Palindrome\n"
     ]
    }
   ],
   "source": [
    "#WAP to check string is palindrome or not and can check mixed letters(upper and lower)\n",
    "\n",
    "import math\n",
    "s=input().lower()\n",
    "for i in range(len(s)//2):\n",
    "    if s[i]!=s[len(s)-1-i]:\n",
    "        print('Not a Palindrome')\n",
    "        break\n",
    "    elif i==len(s)//2-1:\n",
    "        print('Palindrome')\n",
    "    "
   ]
  },
  {
   "cell_type": "code",
   "execution_count": 8,
   "metadata": {},
   "outputs": [
    {
     "name": "stdout",
     "output_type": "stream",
     "text": [
      "1221\n",
      "Palindrome\n"
     ]
    }
   ],
   "source": [
    "def ispalindrome(s):\n",
    "    for i in range(len(s)//2):\n",
    "        if s[i]!=s[len(s)-1-i]:\n",
    "            return 'Not a palindrome'\n",
    "    return 'Palindrome'\n",
    "print(ispalindrome(input().lower()))"
   ]
  },
  {
   "cell_type": "code",
   "execution_count": 13,
   "metadata": {},
   "outputs": [
    {
     "name": "stdout",
     "output_type": "stream",
     "text": [
      "3 3 3\n",
      "Equilateral\n"
     ]
    }
   ],
   "source": [
    "#WAP to input the sides of a triangle and print whether equilateral(all sides equal), isosceles (2\n",
    "sides equal), or scalene (no sides equal).\n",
    "a,b,c=map(int,input().split(' '))\n",
    "if a==b==c:\n",
    "    print('Equilateral')\n",
    "elif a!=b and a!=c and b!=c:\n",
    "    print('Scalene')\n",
    "else:\n",
    "    print('isoscelus')"
   ]
  },
  {
   "cell_type": "code",
   "execution_count": 14,
   "metadata": {},
   "outputs": [
    {
     "name": "stdout",
     "output_type": "stream",
     "text": [
      "25\n",
      "Odd\n"
     ]
    }
   ],
   "source": [
    "#WAP to input a number and print if it is even or odd.\n",
    "n=int(input())\n",
    "if n%2==0:\n",
    "    print('Even')\n",
    "else:\n",
    "    print('Odd')"
   ]
  },
  {
   "cell_type": "code",
   "execution_count": 18,
   "metadata": {},
   "outputs": [
    {
     "name": "stdout",
     "output_type": "stream",
     "text": [
      "Enter your age :51\n",
      "Senior Citizen\n"
     ]
    }
   ],
   "source": [
    "#WAP to input age and print the respective text\n",
    "#depending on the age ranges as present in the table.(0-12(Child),13-17(Teen),18-50(Adult),\n",
    "#51-100(Senior Citizen),>100(Congratulations))\n",
    "n=int(input('Enter your age :'))\n",
    "if 0<n<=12:\n",
    "    print('Child')\n",
    "elif 12<n<=17:\n",
    "    print('Teen')\n",
    "elif 17<n<=50:\n",
    "    print('Adult')\n",
    "elif 50<n<=100:\n",
    "    print('Senior Citizen')\n",
    "else:\n",
    "    print('Congratulations')"
   ]
  },
  {
   "cell_type": "code",
   "execution_count": 27,
   "metadata": {},
   "outputs": [
    {
     "name": "stdout",
     "output_type": "stream",
     "text": [
      "Enter the year :1900\n",
      "The year isn't a leap year!\n"
     ]
    }
   ],
   "source": [
    "#WAP to input year (check if user enters valid year. Should be 4-digit number and should not be\n",
    "#negative) and print whether leap year or not.\n",
    "y=int(input('Enter the year :'))\n",
    "if y<0 or len(str(y))<4:\n",
    "    print('Invalid year')\n",
    "else:\n",
    "    if(y%4==0 and y%100!=0 or y%400==0):\n",
    "        print(\"The year is a leap year!\")\n",
    "    else:\n",
    "       print(\"The year isn't a leap year!\")"
   ]
  },
  {
   "cell_type": "code",
   "execution_count": 28,
   "metadata": {},
   "outputs": [
    {
     "name": "stdout",
     "output_type": "stream",
     "text": [
      "Raghu\n",
      "RAGHU\n"
     ]
    }
   ],
   "source": [
    "#WAP to input a string and convert it to Upper Case if number of characters is odd and convert to\n",
    "#lower case otherwise\n",
    "s=input()\n",
    "if len(s)%2==0:\n",
    "    print(s.lower())\n",
    "else:\n",
    "    print(s.upper())"
   ]
  },
  {
   "cell_type": "code",
   "execution_count": 3,
   "metadata": {},
   "outputs": [
    {
     "name": "stdout",
     "output_type": "stream",
     "text": [
      "raghu\n"
     ]
    }
   ],
   "source": [
    "#WAP to input a string and print Veg if the string doesn’t contain the word egg. Otherwise print\n",
    "#Non-Veg. As usual eggs can be both big and small.\n",
    "s=input().lower()\n",
    "\n",
    "for i in range(len(s)-2):\n",
    "    if s[i:i+3]=='egg':\n",
    "        print('Non-Veg')\n",
    "    elif i==len(s)-3:\n",
    "        print('Veg')\n",
    "    \n",
    "    \n",
    "        "
   ]
  },
  {
   "cell_type": "code",
   "execution_count": 11,
   "metadata": {},
   "outputs": [
    {
     "name": "stdout",
     "output_type": "stream",
     "text": [
      "[4, 3, 2, 1]\n"
     ]
    }
   ],
   "source": [
    "a=[1,2,3,4]\n",
    "if 1>1:\n",
    "    print()\n",
    "else:\n",
    "    a=a[-1::-1]\n",
    "print(a)"
   ]
  },
  {
   "cell_type": "code",
   "execution_count": 29,
   "metadata": {},
   "outputs": [
    {
     "name": "stdout",
     "output_type": "stream",
     "text": [
      "enter the marks seperated by space :78 56 96 72 39\n",
      "<class 'list'>\n",
      "Grade-c\n",
      "Grade-F\n",
      "Grade-A\n",
      "Grade-c\n",
      "Grade-F\n"
     ]
    }
   ],
   "source": [
    "#WAP to input marks in 5 subjects and print the grade as per following logic:\n",
    "s=input('enter the marks seperated by space :').split()\n",
    "#avg=int((s1+s2+s3+s4+s5)/5)\n",
    "def grader(avg):\n",
    "    if avg<60:\n",
    "        print('Grade-F')\n",
    "    elif 60<=avg<=79:\n",
    "        print('Grade-c')\n",
    "    elif 80<=avg<=89:\n",
    "        print('Grade-B')\n",
    "    else:\n",
    "        print('Grade-A')\n",
    "for sub in s:\n",
    "    grader(int(sub))"
   ]
  },
  {
   "cell_type": "code",
   "execution_count": 31,
   "metadata": {},
   "outputs": [
    {
     "name": "stdout",
     "output_type": "stream",
     "text": [
      "Enter the age :60\n",
      "Enter the salary :570000\n",
      "45600.0\n"
     ]
    }
   ],
   "source": [
    "#WAP to input age and salary and calculate Tax\n",
    "age=int(input('Enter the age :'))\n",
    "salary=int(input('Enter the salary :'))\n",
    "\n",
    "def calc_tax(salary,tax_per):\n",
    "    return salary*tax_per/100\n",
    "\n",
    "if 0<salary<=250000:\n",
    "    print(calc_tax(salary,0))\n",
    "elif 250001<=salary<=500000:\n",
    "    if age<60:\n",
    "        print(calc_tax(salary,5))\n",
    "    else:\n",
    "        print(calc_tax(salary,3))\n",
    "\n",
    "elif 500001<=salary<=1000000:\n",
    "    if age<60:\n",
    "        print(calc_tax(salary,10))\n",
    "    else:\n",
    "        print(calc_tax(salary,8))\n",
    "else:\n",
    "    if age<60:\n",
    "        print(calc_tax(salary,15))\n",
    "    else:\n",
    "        print(calc_tax(salary,12))\n",
    "    "
   ]
  },
  {
   "cell_type": "code",
   "execution_count": 34,
   "metadata": {},
   "outputs": [
    {
     "name": "stdout",
     "output_type": "stream",
     "text": [
      "10\n"
     ]
    }
   ],
   "source": [
    "print(20 if not 1==1 else 10 if 'a'>'A' else 12)"
   ]
  },
  {
   "cell_type": "code",
   "execution_count": 37,
   "metadata": {},
   "outputs": [
    {
     "name": "stdout",
     "output_type": "stream",
     "text": [
      "Enter you weight in kg :110\n",
      "Enter your height in cm :180\n",
      "Overweight\n"
     ]
    }
   ],
   "source": [
    "#///WAF: bmi() that takes the weight in kg and height in cm of a person, calculates and returns the /\n",
    "# BMI.\n",
    "# Write code that calls this function after taking height and weight as inputs and then prints\n",
    "# underweight, normal, overweight or obese depending on the value of BMI.#\n",
    "\n",
    "def bmi(w,h):\n",
    "    return w*pow(10,4)/(h*h)\n",
    "w=float(input('Enter you weight in kg :'))\n",
    "h=float(input('Enter your height in cm :'))\n",
    "BMI_VAL=bmi(w,h)\n",
    "if BMI_VAL<18.5:\n",
    "    print('Underweight')\n",
    "elif 18.5<=BMI_VAL<=24.9:\n",
    "    print('Normal')\n",
    "elif 30<=BMI_VAL<=39.9:\n",
    "    print('Overweight')\n",
    "else:\n",
    "    print('Obses')\n"
   ]
  },
  {
   "cell_type": "code",
   "execution_count": 46,
   "metadata": {},
   "outputs": [
    {
     "name": "stdout",
     "output_type": "stream",
     "text": [
      "Enter the 3 persons ages seperated by space :1 2 3\n",
      "Oldest 3\n",
      "youngest 1\n"
     ]
    }
   ],
   "source": [
    "#Take input of age of 3 people by user and determine oldest and youngest among them.\n",
    "p1,p2,p3=map(int,input('Enter the 3 persons ages seperated by space :').split())\n",
    "# print('Youngest person age :',min(p1,p2,p3))\n",
    "# print('Oldest person age :',max(p1,p2,p3))\n",
    "\n",
    "def young(p2,p3):\n",
    "    if p3>p2:\n",
    "        print('youngest',p2)\n",
    "    else:\n",
    "        print('youngest',p3)\n",
    "if p3<p1>p2:\n",
    "    print('Oldest',p1)\n",
    "    young(p3,p2)\n",
    "elif p1<p3>p2:\n",
    "    print('Oldest',p3)\n",
    "    young(p1,p2)\n",
    "elif p1<p2>p3:\n",
    "    print('Oldest',p2)\n",
    "    young(p1,p3)\n"
   ]
  },
  {
   "cell_type": "code",
   "execution_count": 50,
   "metadata": {},
   "outputs": [
    {
     "name": "stdout",
     "output_type": "stream",
     "text": [
      "Enter the number check divide by 5 and 7 : 23\n",
      "23 is not divisible by 5&7\n"
     ]
    }
   ],
   "source": [
    "#WAP to input a number and check if number is divisible by both 5 and 7.\n",
    "n=int(input('Enter the number to check divide by 5 and 7 : '))\n",
    "if n%5==0 and n%7==0:\n",
    "    print('{} divisible by both the 5 and 7'.format(n))\n",
    "else:\n",
    "    print('%d is not divisible by both 5&7'%n)"
   ]
  },
  {
   "cell_type": "code",
   "execution_count": null,
   "metadata": {},
   "outputs": [],
   "source": []
  }
 ],
 "metadata": {
  "kernelspec": {
   "display_name": "Python 3",
   "language": "python",
   "name": "python3"
  },
  "language_info": {
   "codemirror_mode": {
    "name": "ipython",
    "version": 3
   },
   "file_extension": ".py",
   "mimetype": "text/x-python",
   "name": "python",
   "nbconvert_exporter": "python",
   "pygments_lexer": "ipython3",
   "version": "3.7.3"
  }
 },
 "nbformat": 4,
 "nbformat_minor": 2
}
