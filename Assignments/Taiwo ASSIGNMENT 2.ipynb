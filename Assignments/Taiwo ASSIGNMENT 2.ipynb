{
 "cells": [
  {
   "cell_type": "code",
   "execution_count": 1,
   "metadata": {},
   "outputs": [
    {
     "name": "stdout",
     "output_type": "stream",
     "text": [
      "d\n",
      "detneirO tcejbO si nohtyP\n",
      "P\n",
      "\n",
      "on is \n"
     ]
    }
   ],
   "source": [
    "#1 Guess output of each slice\n",
    "s= 'Python is Object Oriented'\n",
    "(s[-1]) # d\n",
    "(s[::-1])# detneirO tcejbO si nohtyP\n",
    "(s[:1]) # P\n",
    "(s[1:1]) # blank\n",
    "(s[4:10]) # on is"
   ]
  },
  {
   "cell_type": "code",
   "execution_count": 2,
   "metadata": {},
   "outputs": [
    {
     "ename": "IndexError",
     "evalue": "string index out of range",
     "output_type": "error",
     "traceback": [
      "\u001b[1;31m---------------------------------------------------------------------------\u001b[0m",
      "\u001b[1;31mIndexError\u001b[0m                                Traceback (most recent call last)",
      "\u001b[1;32m<ipython-input-2-6a2a0e479233>\u001b[0m in \u001b[0;36m<module>\u001b[1;34m\u001b[0m\n\u001b[0;32m      1\u001b[0m \u001b[1;31m#2 What error do you see for following statements\u001b[0m\u001b[1;33m\u001b[0m\u001b[1;33m\u001b[0m\u001b[1;33m\u001b[0m\u001b[0m\n\u001b[0;32m      2\u001b[0m \u001b[0ms\u001b[0m\u001b[1;33m=\u001b[0m\u001b[1;34m''\u001b[0m\u001b[1;33m\u001b[0m\u001b[1;33m\u001b[0m\u001b[0m\n\u001b[1;32m----> 3\u001b[1;33m \u001b[0mprint\u001b[0m\u001b[1;33m(\u001b[0m\u001b[0ms\u001b[0m\u001b[1;33m[\u001b[0m\u001b[1;36m1\u001b[0m\u001b[1;33m]\u001b[0m\u001b[1;33m)\u001b[0m\u001b[1;33m\u001b[0m\u001b[1;33m\u001b[0m\u001b[0m\n\u001b[0m",
      "\u001b[1;31mIndexError\u001b[0m: string index out of range"
     ]
    }
   ],
   "source": [
    "#2 What error do you see for following statements\n",
    "s=''\n",
    "print(s[1])\n",
    "\n",
    "\n",
    "# IndexError: string index out of range"
   ]
  },
  {
   "cell_type": "code",
   "execution_count": 11,
   "metadata": {},
   "outputs": [
    {
     "name": "stdout",
     "output_type": "stream",
     "text": [
      "a\n"
     ]
    }
   ],
   "source": [
    "#3 Do you get any error for the following code, if not give the output\n",
    " \n",
    "S = 'Gaurav'\n",
    "print(s[1])\n",
    "\n",
    "# NO - a"
   ]
  },
  {
   "cell_type": "code",
   "execution_count": 14,
   "metadata": {},
   "outputs": [
    {
     "name": "stdout",
     "output_type": "stream",
     "text": [
      "6\n",
      "abc\n",
      "3\n"
     ]
    }
   ],
   "source": [
    "#4 Find output of the following\n",
    "\n",
    "s= 'a b cd'\n",
    "\n",
    "print(len(s))\n",
    "print(s[::2])\n",
    "print(len(s[::2]))\n",
    "\n",
    "# 6, abc, 3\n"
   ]
  },
  {
   "cell_type": "code",
   "execution_count": 16,
   "metadata": {},
   "outputs": [
    {
     "name": "stdout",
     "output_type": "stream",
     "text": [
      "['a#b#c#d#']\n",
      "['a', 'b', 'c', 'd', '']\n",
      "a$b$c$d$\n"
     ]
    }
   ],
   "source": [
    "#4b\n",
    "\n",
    "s='a#b#c#d#'\n",
    "print(s.split())\n",
    "print(s.split('#'))\n",
    "l=s.split('#')\n",
    "s= '$'.join(l)\n",
    "print(s)\n",
    "\n",
    "\n",
    "['a#b#c#d#']\n",
    "['a', 'b', 'c', 'd', '']\n",
    "a$b$c$d$\n"
   ]
  },
  {
   "cell_type": "code",
   "execution_count": 25,
   "metadata": {},
   "outputs": [
    {
     "name": "stdout",
     "output_type": "stream",
     "text": [
      "av\n"
     ]
    }
   ],
   "source": [
    "#4c\n",
    "S= 'Gaurav'\n",
    "S =S[::-2][::-2]\n",
    "print(S)\n",
    "\n",
    "#av"
   ]
  },
  {
   "cell_type": "code",
   "execution_count": 7,
   "metadata": {},
   "outputs": [
    {
     "name": "stdout",
     "output_type": "stream",
     "text": [
      "False\n"
     ]
    }
   ],
   "source": [
    "#4d\n",
    "print(1>2)\n",
    "\n",
    "#False"
   ]
  },
  {
   "cell_type": "code",
   "execution_count": 8,
   "metadata": {},
   "outputs": [
    {
     "name": "stdout",
     "output_type": "stream",
     "text": [
      "0,1,2\n"
     ]
    }
   ],
   "source": [
    "#4e\n",
    "print(4%2, 5%2, 2%5, sep=',')"
   ]
  },
  {
   "cell_type": "code",
   "execution_count": 26,
   "metadata": {},
   "outputs": [
    {
     "name": "stdout",
     "output_type": "stream",
     "text": [
      "ABCBA\n",
      "2,0,0,"
     ]
    }
   ],
   "source": [
    "#4f\n",
    "\n",
    "s ='abcba'\n",
    "s=s.upper()\n",
    "print(s)\n",
    "\n",
    "print(s.count('A'), end=',')\n",
    "print(s.count('A',2,4), end=',')\n",
    "print(s.count('a',2,4), end=',')"
   ]
  },
  {
   "cell_type": "code",
   "execution_count": 12,
   "metadata": {},
   "outputs": [
    {
     "name": "stdout",
     "output_type": "stream",
     "text": [
      "Enter a string : this is a good day\n",
      "thisisagoodday\n"
     ]
    }
   ],
   "source": [
    "#5 WAP to input a string and remove all spaces from it\n",
    "\n",
    "a = input('Enter a string : ')\n",
    "print(a.replace(\" \", \"\"))"
   ]
  },
  {
   "cell_type": "code",
   "execution_count": null,
   "metadata": {},
   "outputs": [],
   "source": [
    "#6 What does this symbol denote\n",
    "[] - List"
   ]
  },
  {
   "cell_type": "code",
   "execution_count": 29,
   "metadata": {},
   "outputs": [
    {
     "name": "stdout",
     "output_type": "stream",
     "text": [
      "['__add__', '__class__', '__contains__', '__delattr__', '__dir__', '__doc__', '__eq__', '__format__', '__ge__', '__getattribute__', '__getitem__', '__getnewargs__', '__gt__', '__hash__', '__init__', '__init_subclass__', '__iter__', '__le__', '__len__', '__lt__', '__mod__', '__mul__', '__ne__', '__new__', '__reduce__', '__reduce_ex__', '__repr__', '__rmod__', '__rmul__', '__setattr__', '__sizeof__', '__str__', '__subclasshook__', 'capitalize', 'casefold', 'center', 'count', 'encode', 'endswith', 'expandtabs', 'find', 'format', 'format_map', 'index', 'isalnum', 'isalpha', 'isascii', 'isdecimal', 'isdigit', 'isidentifier', 'islower', 'isnumeric', 'isprintable', 'isspace', 'istitle', 'isupper', 'join', 'ljust', 'lower', 'lstrip', 'maketrans', 'partition', 'replace', 'rfind', 'rindex', 'rjust', 'rpartition', 'rsplit', 'rstrip', 'split', 'splitlines', 'startswith', 'strip', 'swapcase', 'title', 'translate', 'upper', 'zfill']\n"
     ]
    }
   ],
   "source": [
    "#7 WAP to print all methods(functions/operations) available in a string(Hint :dir())\n",
    "\n",
    "print(dir(str))\n",
    "\n"
   ]
  },
  {
   "cell_type": "code",
   "execution_count": 31,
   "metadata": {},
   "outputs": [
    {
     "name": "stdout",
     "output_type": "stream",
     "text": [
      "Enter a string : this is a good day\n",
      "thisisagoodday\n"
     ]
    }
   ],
   "source": [
    "#8 Using the above methods available for str(strings) and join in into a space seperated string. (use join and dir methods)\n",
    "\n",
    "\n",
    "a = input('Enter a string : ')\n",
    "y = a.split()\n",
    "s = ''.join(y)\n",
    "\n",
    "print(s)\n",
    "\n",
    "\n"
   ]
  },
  {
   "cell_type": "code",
   "execution_count": 4,
   "metadata": {},
   "outputs": [
    {
     "data": {
      "text/plain": [
       "True"
      ]
     },
     "execution_count": 4,
     "metadata": {},
     "output_type": "execute_result"
    }
   ],
   "source": [
    "#9 Write statement to check if rstrip methods is available in the str class\n",
    "\n",
    "'rstrip' in dir(str)\n",
    "\n",
    "\n"
   ]
  },
  {
   "cell_type": "code",
   "execution_count": 44,
   "metadata": {},
   "outputs": [
    {
     "name": "stdout",
     "output_type": "stream",
     "text": [
      "* * * * * "
     ]
    }
   ],
   "source": [
    "##### 10 WAP to store the following patterns in a string variable and then print them\n",
    "\n",
    "\n",
    "s='*'\n",
    "for i in range(5):\n",
    "    print(s, end = ' ')\n",
    "           \n",
    "\n",
    "     \n",
    "    \n",
    "    \n",
    "    \n",
    "    "
   ]
  },
  {
   "cell_type": "code",
   "execution_count": 48,
   "metadata": {},
   "outputs": [
    {
     "name": "stdout",
     "output_type": "stream",
     "text": [
      "Enter a string : I am so happy\n",
      "I\n",
      "am\n",
      "so\n",
      "happy\n"
     ]
    }
   ],
   "source": [
    "#11 WAP to input a string and replace all spaces with new lines (\\n) and print again\n",
    "\n",
    "a = input('Enter a string : ')\n",
    "print(a.replace(\" \", \"\\n\"))"
   ]
  },
  {
   "cell_type": "code",
   "execution_count": 61,
   "metadata": {},
   "outputs": [
    {
     "name": "stdout",
     "output_type": "stream",
     "text": [
      "Enter a string : Taiwo Stratford\n",
      "This is the first name : Taiwo\n",
      "This is the second name : Stratford\n",
      "first name reverse:  owiaT\n",
      "second name reverse:  droftartS\n"
     ]
    }
   ],
   "source": [
    "#12 WAP to input complete name and split it into first and last name and print it,also print after reversing each.\n",
    "\n",
    "a = input('Enter a string : ')\n",
    "\n",
    "a=a.split()\n",
    "\n",
    "print(\"This is the first name :\", a[0])\n",
    "print(\"This is the second name :\", a[1])\n",
    "print(\"first name reverse: \", a[0][::-1])\n",
    "print(\"second name reverse: \" , a[1][::-1])"
   ]
  },
  {
   "cell_type": "code",
   "execution_count": 69,
   "metadata": {},
   "outputs": [
    {
     "name": "stdout",
     "output_type": "stream",
     "text": [
      "Enter a string : abcdefgh\n",
      "['abcdefgh']\n",
      "[]\n"
     ]
    }
   ],
   "source": [
    "#13 WAP to input a string and split it into 2 halves. The string can be of any length\n",
    "\n",
    "b = input('Enter a string : ')\n",
    "\n",
    "b=b.split()\n",
    "\n",
    "print(b[:4])\n",
    "print(b[4:])"
   ]
  },
  {
   "cell_type": "code",
   "execution_count": null,
   "metadata": {},
   "outputs": [],
   "source": []
  }
 ],
 "metadata": {
  "kernelspec": {
   "display_name": "Python 3",
   "language": "python",
   "name": "python3"
  },
  "language_info": {
   "codemirror_mode": {
    "name": "ipython",
    "version": 3
   },
   "file_extension": ".py",
   "mimetype": "text/x-python",
   "name": "python",
   "nbconvert_exporter": "python",
   "pygments_lexer": "ipython3",
   "version": "3.7.3"
  }
 },
 "nbformat": 4,
 "nbformat_minor": 2
}
