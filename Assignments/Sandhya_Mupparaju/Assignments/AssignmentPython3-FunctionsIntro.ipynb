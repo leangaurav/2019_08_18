{
 "cells": [
  {
   "cell_type": "code",
   "execution_count": 42,
   "metadata": {
    "scrolled": true
   },
   "outputs": [
    {
     "name": "stdout",
     "output_type": "stream",
     "text": [
      "enter the string1sandhya\n",
      "enter the string2mupparaju\n",
      "mupparaju\n",
      "sandhya\n"
     ]
    }
   ],
   "source": [
    "#1. WAP to input 2 strings and swap the strings \n",
    "s1=input('enter the string1')\n",
    "s2=input('enter the string2')\n",
    "temp = s1\n",
    "s1=s2\n",
    "s2=temp\n",
    "print(s1)\n",
    "print(s2)"
   ]
  },
  {
   "cell_type": "code",
   "execution_count": 82,
   "metadata": {},
   "outputs": [
    {
     "name": "stdout",
     "output_type": "stream",
     "text": [
      "the avg is  6.0\n"
     ]
    }
   ],
   "source": [
    "#2. WAP to generate 4 random numbers in the range 0-26 and print their average \n",
    "import random\n",
    "import math\n",
    "import string\n",
    "a=random.randrange(0,26)\n",
    "b=random.randrange(0,26)\n",
    "c=random.randrange(0,26)\n",
    "d=random.randrange(0,26)\n",
    "print('the avg is ',(a+b+c+d)/4)"
   ]
  },
  {
   "cell_type": "code",
   "execution_count": 84,
   "metadata": {
    "scrolled": true
   },
   "outputs": [
    {
     "name": "stdout",
     "output_type": "stream",
     "text": [
      "enter a stringsandhya mup\n",
      "2\n",
      "n\n"
     ]
    }
   ],
   "source": [
    "#3.  WAP to generate and print a random uppercase or lowercase alphabet.\n",
    "#Try these: • Create a string containing all alphabets and then select a random alphabet.\n",
    "#           • Check the module string \n",
    "s=input('enter a string ')\n",
    "a=len(s)\n",
    "i=random.randint(1,a)\n",
    "print(i)\n",
    "print(s[i])"
   ]
  },
  {
   "cell_type": "code",
   "execution_count": 92,
   "metadata": {},
   "outputs": [
    {
     "name": "stdout",
     "output_type": "stream",
     "text": [
      "enter amount :5000\n",
      "enter percentage :5\n",
      "enter time :3\n",
      "750.0\n"
     ]
    }
   ],
   "source": [
    "#4. WAF get_si() that takes Principle, Rate and Time as arguments and returns the Simple Interest\n",
    "def get_si(p,r,t):\n",
    "    print(p*r*t/100)\n",
    "r=int(input('enter amount :'))\n",
    "p=int(input('enter percentage :'))\n",
    "t=int(input('enter time :'))\n",
    "get_si(p,r,t)"
   ]
  },
  {
   "cell_type": "code",
   "execution_count": 95,
   "metadata": {
    "scrolled": false
   },
   "outputs": [
    {
     "name": "stdout",
     "output_type": "stream",
     "text": [
      "enter rate :5\n",
      "enter amount :5000\n",
      "enter time :3\n",
      "5750.0\n",
      "5750.0\n"
     ]
    }
   ],
   "source": [
    "def get_si(p,r,t):\n",
    "    tt=(p+((p*r*t/100)))\n",
    "    print(tt)\n",
    "    return tt\n",
    "r=int(input('enter rate :'))\n",
    "p=int(input('enter amount :'))\n",
    "t=int(input('enter time :'))\n",
    "tt=get_si(p,r,t)\n",
    "print(tt)"
   ]
  },
  {
   "cell_type": "code",
   "execution_count": 1,
   "metadata": {
    "scrolled": true
   },
   "outputs": [
    {
     "name": "stdout",
     "output_type": "stream",
     "text": [
      "enter r value :3\n",
      "enter p value :16\n",
      "enter t time value :2\n",
      "enter n value :4567\n",
      "6442.158448399158\n"
     ]
    }
   ],
   "source": [
    "#6. WAP get_ci() that takes Principle, Rate and Time as arguments and returns the Compound Interest\n",
    "def get_ci(p,r,n):\n",
    "    print(p*((1+(r/n))**(n*t)))    \n",
    "r=int(input('enter r value :'))\n",
    "p=int(input('enter p value :'))\n",
    "t=int(input('enter t time value :'))\n",
    "n=int(input('enter n value :'))\n",
    "get_ci(p,r,n)"
   ]
  },
  {
   "cell_type": "code",
   "execution_count": 4,
   "metadata": {
    "scrolled": true
   },
   "outputs": [
    {
     "name": "stdout",
     "output_type": "stream",
     "text": [
      "entera value4\n",
      "enter b value2\n"
     ]
    },
    {
     "data": {
      "text/plain": [
       "0"
      ]
     },
     "execution_count": 4,
     "metadata": {},
     "output_type": "execute_result"
    }
   ],
   "source": [
    "#7. WAP get_q_r() taking 2 numbers as parameters and returns the quotient and remainder in the form of a tuple\n",
    "def get_q_r(a,b):\n",
    "    return a/b\n",
    "    #return a%b\n",
    "a=int(input('entera value'))\n",
    "b= int(input('enter b value'))\n",
    "get_q_r(a,b)"
   ]
  },
  {
   "cell_type": "code",
   "execution_count": 11,
   "metadata": {
    "scrolled": true
   },
   "outputs": [
    {
     "name": "stdout",
     "output_type": "stream",
     "text": [
      "enter lenght3\n",
      "enter base4\n",
      "the length of hypotenuse of a right angled triangle 5.0\n"
     ]
    }
   ],
   "source": [
    "#8. WAP to find the length of hypotenuse of a right angled triangle, input the height and base from user\n",
    "import math\n",
    "l=int(input('enter lenght'))\n",
    "b=int(input('enter base'))\n",
    "print('the length of hypotenuse of a right angled triangle', math.sqrt(((l**2)+(b**2))))"
   ]
  },
  {
   "cell_type": "code",
   "execution_count": 1,
   "metadata": {
    "scrolled": false
   },
   "outputs": [
    {
     "name": "stdout",
     "output_type": "stream",
     "text": [
      "enter a number in seconds that to display in days 10000\n",
      "0 days 2 hours 46 minutes 40 seconds\n"
     ]
    }
   ],
   "source": [
    "#9. WAP to input number of seconds and print in days, hours, minutes and seconds ex: input = 10000       \n",
    "#Output = 0 day 2 hour 46 minute 40 second \n",
    "n=int(input('enter a number in seconds that to display in days '))\n",
    "day = n // (24 * 3600) \n",
    "n = n % (24 * 3600) \n",
    "hour = n // 3600\n",
    "n %= 3600\n",
    "minutes = n // 60\n",
    "n %= 60\n",
    "seconds = n\n",
    "print(day,\"days\", hour, \"hours\",  minutes, \"minutes\", seconds, \"seconds\") "
   ]
  },
  {
   "cell_type": "code",
   "execution_count": 3,
   "metadata": {
    "scrolled": true
   },
   "outputs": [
    {
     "name": "stdout",
     "output_type": "stream",
     "text": [
      "3.7.3 (default, Apr 24 2019, 15:29:51) [MSC v.1915 64 bit (AMD64)]\n"
     ]
    }
   ],
   "source": [
    "#10.   Check your version of python interpreter without opening the interpreter \n",
    "#(Which command needs to be used on the command line). \n",
    "import sys\n",
    "print(sys.version)\n",
    "#python"
   ]
  },
  {
   "cell_type": "code",
   "execution_count": 7,
   "metadata": {
    "scrolled": true
   },
   "outputs": [
    {
     "name": "stdout",
     "output_type": "stream",
     "text": [
      "2 -2\n"
     ]
    }
   ],
   "source": [
    "#11.     output\n",
    "x=2\n",
    "x*=3     #x=x*3\n",
    "x=x%4    #6%4=2\n",
    "y=-x\n",
    "print(x,y)"
   ]
  },
  {
   "cell_type": "code",
   "execution_count": 8,
   "metadata": {
    "scrolled": false
   },
   "outputs": [
    {
     "name": "stdout",
     "output_type": "stream",
     "text": [
      "None\n"
     ]
    }
   ],
   "source": [
    "#12.\n",
    "def func():\n",
    "    pass\n",
    "print(func())\n",
    "#output is None"
   ]
  },
  {
   "cell_type": "code",
   "execution_count": 9,
   "metadata": {
    "scrolled": false
   },
   "outputs": [
    {
     "name": "stdout",
     "output_type": "stream",
     "text": [
      "enter the real number10\n",
      "enter the imaginary number20\n",
      "re: 10 im: 20\n"
     ]
    }
   ],
   "source": [
    "#13. WAP to input the real and imaginary part of a complex number and print it on screen. output should look like  re:10 im:20  \n",
    "#if the user gives input as 10 and 20. Save the code in a script complex.py \n",
    "re=int(input('enter the real number'))\n",
    "im=int(input('enter the imaginary number'))\n",
    "print('re:',re,'im:',im)"
   ]
  },
  {
   "cell_type": "code",
   "execution_count": null,
   "metadata": {},
   "outputs": [],
   "source": [
    "#14.  Update complex.py and create a functions input_complex() and print_complex(). \n",
    "def input_complex():\n",
    "    re=int(input('enter the real number'))\n",
    "    im=int(input('enter the imaginary number'))\n",
    "    return re\n",
    "def print_complex(re,im):\n",
    "    print('re:',re,'im:',im)  "
   ]
  },
  {
   "cell_type": "code",
   "execution_count": null,
   "metadata": {},
   "outputs": [],
   "source": []
  }
 ],
 "metadata": {
  "kernelspec": {
   "display_name": "Python 3",
   "language": "python",
   "name": "python3"
  },
  "language_info": {
   "codemirror_mode": {
    "name": "ipython",
    "version": 3
   },
   "file_extension": ".py",
   "mimetype": "text/x-python",
   "name": "python",
   "nbconvert_exporter": "python",
   "pygments_lexer": "ipython3",
   "version": "3.7.3"
  }
 },
 "nbformat": 4,
 "nbformat_minor": 2
}
