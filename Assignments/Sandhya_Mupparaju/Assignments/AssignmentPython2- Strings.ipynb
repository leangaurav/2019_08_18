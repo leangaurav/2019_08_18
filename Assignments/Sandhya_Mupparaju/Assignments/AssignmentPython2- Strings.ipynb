{
 "cells": [
  {
   "cell_type": "code",
   "execution_count": null,
   "metadata": {
    "scrolled": true
   },
   "outputs": [],
   "source": [
    "#1.d\n",
    "detneirO tcejbO si nohtyP\n",
    "Python is Object Oriente\n",
    "blank\n",
    "on is "
   ]
  },
  {
   "cell_type": "code",
   "execution_count": null,
   "metadata": {},
   "outputs": [],
   "source": [
    "s= ''\n",
    "#print(s[1])\n",
    "#string index out of range in print statement"
   ]
  },
  {
   "cell_type": "code",
   "execution_count": null,
   "metadata": {
    "scrolled": true
   },
   "outputs": [],
   "source": [
    "X= 'sandhya'\n",
    "print(x[1])\n",
    "#Yes.name 'x' is not defined"
   ]
  },
  {
   "cell_type": "code",
   "execution_count": 1,
   "metadata": {
    "scrolled": true
   },
   "outputs": [
    {
     "name": "stdout",
     "output_type": "stream",
     "text": [
      "6\n",
      "abc\n",
      "3\n"
     ]
    }
   ],
   "source": [
    "#4.\n",
    "#a)\n",
    "s='a b cd'\n",
    "print(len(s))\n",
    "print(s[::2])\n",
    "print(len(s[::2])) "
   ]
  },
  {
   "cell_type": "code",
   "execution_count": 2,
   "metadata": {
    "scrolled": true
   },
   "outputs": [
    {
     "name": "stdout",
     "output_type": "stream",
     "text": [
      "['a#b#c#d#']\n",
      "['a', 'b', 'c', 'd', '']\n",
      "a$b$c$d$\n"
     ]
    }
   ],
   "source": [
    "#4\n",
    "#b)\n",
    "s='a#b#c#d#'\n",
    "print(s.split())\n",
    "print(s.split('#'))\n",
    "l=s.split('#')\n",
    "s='$'.join(l)\n",
    "print(s) "
   ]
  },
  {
   "cell_type": "code",
   "execution_count": null,
   "metadata": {
    "scrolled": true
   },
   "outputs": [],
   "source": [
    "#4\n",
    "#c)\n",
    "av"
   ]
  },
  {
   "cell_type": "code",
   "execution_count": 1,
   "metadata": {
    "scrolled": true
   },
   "outputs": [
    {
     "name": "stdout",
     "output_type": "stream",
     "text": [
      "False\n"
     ]
    }
   ],
   "source": [
    "#4\n",
    "#d)\n",
    "print(1>2) - False"
   ]
  },
  {
   "cell_type": "code",
   "execution_count": 5,
   "metadata": {
    "scrolled": true
   },
   "outputs": [
    {
     "name": "stdout",
     "output_type": "stream",
     "text": [
      "0, 1, 2\n"
     ]
    }
   ],
   "source": [
    "#4\n",
    "#e)\n",
    "print(4%2, 5%2, 2%5, sep=', ') #0, 1, 2"
   ]
  },
  {
   "cell_type": "code",
   "execution_count": 1,
   "metadata": {
    "scrolled": false
   },
   "outputs": [
    {
     "name": "stdout",
     "output_type": "stream",
     "text": [
      "enter stringsandhya mupparaju\n",
      "sandhya mupparaju\n",
      "sandhya mupparaju\n"
     ]
    }
   ],
   "source": [
    "#5 WAP to input a string and remove all spaces from it\n",
    "import string\n",
    "s=input('enter string')\n",
    "print(s)\n",
    "print(s.strip(' '))\n",
    "#dir(str)"
   ]
  },
  {
   "cell_type": "code",
   "execution_count": null,
   "metadata": {},
   "outputs": [],
   "source": [
    "#6. "
   ]
  },
  {
   "cell_type": "code",
   "execution_count": 11,
   "metadata": {},
   "outputs": [],
   "source": [
    "#7. WAP to print all methods(functions/operations) available in a string (Hint : dir()) \n",
    "dir(str)"
   ]
  },
  {
   "cell_type": "code",
   "execution_count": 8,
   "metadata": {},
   "outputs": [],
   "source": [
    "#8. Write statement to check if rstrip method is available in the str class. (Hint : Use the find function or in) \n",
    "s=dir(str)#yes avaialbe\n"
   ]
  },
  {
   "cell_type": "code",
   "execution_count": null,
   "metadata": {},
   "outputs": [],
   "source": [
    "#9"
   ]
  },
  {
   "cell_type": "code",
   "execution_count": 21,
   "metadata": {
    "scrolled": false
   },
   "outputs": [
    {
     "name": "stdout",
     "output_type": "stream",
     "text": [
      "Learning\n",
      "Python\n",
      "and\n",
      "developing\n",
      "progamming\n",
      "skills..\n"
     ]
    }
   ],
   "source": [
    "#10.\n",
    "s1='Learning Python and developing progamming skills..'\n",
    "s2 = s1.replace(' ','\\n')\n",
    "print(s2)"
   ]
  },
  {
   "cell_type": "code",
   "execution_count": 1,
   "metadata": {
    "scrolled": true
   },
   "outputs": [
    {
     "name": "stdout",
     "output_type": "stream",
     "text": [
      "enter your full name sandhya mupparaju\n",
      "7\n",
      "SANDHYA\n",
      "MUPPARAJU\n"
     ]
    }
   ],
   "source": [
    "# 11.WAP to input complete name(first and last name separated by space) \n",
    "#and print first and last name separately along with their length in upper case. \n",
    "s1=input('enter your full name ')\n",
    "x=len(s1)\n",
    "l1=s1.find(' ',1)\n",
    "print(l1)\n",
    "print(s1[0:l1].upper())\n",
    "print(s1[l1+1:x].upper())"
   ]
  },
  {
   "cell_type": "code",
   "execution_count": 40,
   "metadata": {},
   "outputs": [
    {
     "name": "stdout",
     "output_type": "stream",
     "text": [
      "enter the stringsandhya mupparaju prasad mullamuri\n",
      "the lenght of string is  34\n",
      "sandhya mupparaju\n",
      " prasad mullamuri\n"
     ]
    }
   ],
   "source": [
    "#12.  WAP to input a string and split it into 2 halves. The string can be of any length\n",
    "s1=input('enter the string')\n",
    "l1=len(s1)\n",
    "print('the lenght of string is ',l1)\n",
    "print(s1[0:l1//2])\n",
    "print(s1[(l1//2):l1])"
   ]
  }
 ],
 "metadata": {
  "kernelspec": {
   "display_name": "Python 3",
   "language": "python",
   "name": "python3"
  },
  "language_info": {
   "codemirror_mode": {
    "name": "ipython",
    "version": 3
   },
   "file_extension": ".py",
   "mimetype": "text/x-python",
   "name": "python",
   "nbconvert_exporter": "python",
   "pygments_lexer": "ipython3",
   "version": "3.7.3"
  }
 },
 "nbformat": 4,
 "nbformat_minor": 2
}
