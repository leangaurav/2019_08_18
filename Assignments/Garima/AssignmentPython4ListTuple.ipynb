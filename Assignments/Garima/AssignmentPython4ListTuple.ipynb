{
 "cells": [
  {
   "cell_type": "code",
   "execution_count": 80,
   "metadata": {},
   "outputs": [],
   "source": [
    "#Assignment4-List and Tuple\n",
    "\n"
   ]
  },
  {
   "cell_type": "code",
   "execution_count": 82,
   "metadata": {},
   "outputs": [
    {
     "name": "stdout",
     "output_type": "stream",
     "text": [
      "[1, 2, 3, 4, 5]\n"
     ]
    }
   ],
   "source": [
    "#1.Convert a Tuple t = (1,2,3,4,5) to a list\n",
    "\n",
    "t=(1,2,3,4,5)\n",
    "l=list(t)\n",
    "print(l)"
   ]
  },
  {
   "cell_type": "code",
   "execution_count": 83,
   "metadata": {},
   "outputs": [
    {
     "name": "stdout",
     "output_type": "stream",
     "text": [
      "[1, 3, 5, 7, 8, 6, 4, 2]\n"
     ]
    }
   ],
   "source": [
    "#2.WAP to join a list and a tuple:\n",
    "\n",
    "#L = [1,3,5,7]\n",
    "\n",
    "#T = (8,6,4,2).Store the result in a list LS\n",
    "\n",
    "L = [1,3,5,7]\n",
    "T = (8,6,4,2)\n",
    "\n",
    "LT=list(T)\n",
    "\n",
    "LS=L+LT\n",
    "print(LS)\n"
   ]
  },
  {
   "cell_type": "code",
   "execution_count": null,
   "metadata": {},
   "outputs": [],
   "source": [
    "#3.What is difference between list and tuple.\n",
    "\n",
    "Lists are mutable whereas tuple is immutable"
   ]
  },
  {
   "cell_type": "code",
   "execution_count": 86,
   "metadata": {},
   "outputs": [
    {
     "name": "stdout",
     "output_type": "stream",
     "text": [
      "['C', 'A', 'c', 'd', 'a']\n"
     ]
    }
   ],
   "source": [
    "#4.Print the list in reverse order\n",
    "\n",
    "#l = [‘a’, ‘d’, ‘c’, ‘A’, ‘C’]\n",
    "\n",
    "L=['a','d','c','A','C']\n",
    "\n",
    "print(L[::-1])"
   ]
  },
  {
   "cell_type": "code",
   "execution_count": 88,
   "metadata": {},
   "outputs": [
    {
     "name": "stdout",
     "output_type": "stream",
     "text": [
      "[11, 21, 31, 41]\n"
     ]
    }
   ],
   "source": [
    "#5.Print Elements at Odd indexes from a list (Do not use loop) l = [10,11,20, 21,30, 31, 40, 41]\n",
    "\n",
    "\n",
    "L=[10,11,20,21,30,31,40,41]\n",
    "#   0  1  2  3  4  5  6  7\n",
    "\n",
    "print(L[1:8:2])"
   ]
  },
  {
   "cell_type": "code",
   "execution_count": null,
   "metadata": {},
   "outputs": [],
   "source": [
    "#6.How many ways you can copy a list.\n",
    "\n",
    "1.With the help of slicing \n",
    "2.Using the function like list()\n",
    "3.Shallow copy\n",
    "4.Deep copy\n"
   ]
  },
  {
   "cell_type": "code",
   "execution_count": 89,
   "metadata": {},
   "outputs": [
    {
     "name": "stdout",
     "output_type": "stream",
     "text": [
      "a\n",
      "5\n"
     ]
    }
   ],
   "source": [
    "#7.Print the output\n",
    "\n",
    "n_list=[\"Happy\",[2,0,1,5]]\n",
    "print(n_list[0][1]) #a\n",
    "print(n_list[1][3]) #5"
   ]
  },
  {
   "cell_type": "code",
   "execution_count": 90,
   "metadata": {},
   "outputs": [
    {
     "name": "stdout",
     "output_type": "stream",
     "text": [
      "[1, 4, 6, 8]\n",
      "[1, 3, 5, 7]\n"
     ]
    }
   ],
   "source": [
    "#8.Print the output\n",
    "\n",
    "odd=[2,4,6,8]\n",
    "odd[0]=1\n",
    "print(odd)\n",
    "odd[1:4]=[3,5,7]\n",
    "print(odd)"
   ]
  },
  {
   "cell_type": "code",
   "execution_count": 92,
   "metadata": {},
   "outputs": [
    {
     "name": "stdout",
     "output_type": "stream",
     "text": [
      "[1, 3, 5, [7, 9]]\n",
      "[1, 3, 5, [7, 9], 11, 13]\n"
     ]
    }
   ],
   "source": [
    "#9.Print the output\n",
    "\n",
    "odd=[1,3,5]\n",
    "odd.append([7,9])\n",
    "print(odd)\n",
    "odd.extend([11,13])\n",
    "print(odd)"
   ]
  },
  {
   "cell_type": "code",
   "execution_count": 93,
   "metadata": {},
   "outputs": [
    {
     "name": "stdout",
     "output_type": "stream",
     "text": [
      "<class 'tuple'>\n",
      "<class 'int'>\n",
      "<class 'int'>\n",
      "<class 'tuple'>\n"
     ]
    }
   ],
   "source": [
    "#10.Print the output\n",
    "\n",
    "x=1,2,3;print(type(x))\n",
    "x=(1);print(type(x))\n",
    "x=1;print(type(x))\n",
    "x=1,;print(type(x))"
   ]
  },
  {
   "cell_type": "code",
   "execution_count": 109,
   "metadata": {},
   "outputs": [
    {
     "name": "stdout",
     "output_type": "stream",
     "text": [
      "1 2 3 \n",
      "4 5 6 \n",
      "7 8 9 \n"
     ]
    }
   ],
   "source": [
    "#11.Try to represent a matrix with following data in python:\n",
    "\n",
    "#1 2 3\n",
    "#4 5 6\n",
    "#7 8 9\n",
    "\n",
    "\n",
    "for i in range(0,9,3):\n",
    "    for j in range(1,4):\n",
    "        print(i+j ,end=' ')\n",
    "        \n",
    "    print()"
   ]
  },
  {
   "cell_type": "code",
   "execution_count": 111,
   "metadata": {},
   "outputs": [
    {
     "name": "stdout",
     "output_type": "stream",
     "text": [
      "('s', 't', 'r', 'i', 'n', 'g')\n",
      "('s', 't', 'r', 'i', 'n', 'g')\n",
      "('n', 's')\n"
     ]
    }
   ],
   "source": [
    "#12.Predict the output\n",
    "\n",
    "t=tuple('string')\n",
    "print(t)\n",
    "print(t[::1])\n",
    "print(t[::2][::-2])"
   ]
  },
  {
   "cell_type": "code",
   "execution_count": 112,
   "metadata": {},
   "outputs": [
    {
     "name": "stdout",
     "output_type": "stream",
     "text": [
      "True\n",
      "False\n",
      "1\n",
      "3\n"
     ]
    }
   ],
   "source": [
    "#13.Predict the output\n",
    "\n",
    "t=tuple([10,20,30,40,0,60])\n",
    "print(60 in t)\n",
    "print('60' in t)\n",
    "print(t.count(10))\n",
    "print(t.index(40))"
   ]
  },
  {
   "cell_type": "code",
   "execution_count": 114,
   "metadata": {},
   "outputs": [
    {
     "name": "stdout",
     "output_type": "stream",
     "text": [
      "Enter a string  :madam\n",
      "The madam string is a palindrome\n"
     ]
    }
   ],
   "source": [
    "#14.Write a program to input a string and print if it is palindrome or not.\n",
    "\n",
    "\n",
    "s = input(\"Enter a string  :\")\n",
    "\n",
    "if (s[::1]==s[::-1]):\n",
    "    print(\"The {} string is a palindrome\" .format(s))\n",
    "    \n",
    "else:\n",
    "    print(\"The {} string is not a palindrome\" .format(s))\n",
    "    \n"
   ]
  },
  {
   "cell_type": "code",
   "execution_count": 116,
   "metadata": {},
   "outputs": [
    {
     "name": "stdout",
     "output_type": "stream",
     "text": [
      "(20, 15, 10, 5)\n"
     ]
    }
   ],
   "source": [
    "#15.Use the range method and create a tuple containing the following values: (20, 15, 10, 5)\n",
    "\n",
    "\n",
    "t=()\n",
    "\n",
    "for i in range(20,0,-5):\n",
    "    t=t+(i,)\n",
    "print(t)"
   ]
  },
  {
   "cell_type": "code",
   "execution_count": 118,
   "metadata": {},
   "outputs": [
    {
     "name": "stdout",
     "output_type": "stream",
     "text": [
      "Enter a string : this is a string\n",
      "['t', 'h', 'i', 's', ' ', 'i', 's', ' ', 'a', ' ', 's', 't', 'r', 'i', 'n', 'g']\n"
     ]
    }
   ],
   "source": [
    "#16.WAP to convert string to list of characters.\n",
    "\n",
    "s = input(\"Enter a string : \")\n",
    "\n",
    "s1=list(s)\n",
    "print(s1)"
   ]
  },
  {
   "cell_type": "code",
   "execution_count": 2,
   "metadata": {},
   "outputs": [
    {
     "ename": "SyntaxError",
     "evalue": "invalid syntax (<ipython-input-2-4082f451f861>, line 5)",
     "output_type": "error",
     "traceback": [
      "\u001b[1;36m  File \u001b[1;32m\"<ipython-input-2-4082f451f861>\"\u001b[1;36m, line \u001b[1;32m5\u001b[0m\n\u001b[1;33m    print(type('abc'.upper())) #String\u001b[0m\n\u001b[1;37m        ^\u001b[0m\n\u001b[1;31mSyntaxError\u001b[0m\u001b[1;31m:\u001b[0m invalid syntax\n"
     ]
    }
   ],
   "source": [
    "#17.What is the return type of:\n",
    "\n",
    "print(type('1 2'.split())) #list\n",
    "print(type([1,3,2].sort()) #list\n",
    "print(type('abc'.upper())) #String\n",
    "print(type(1 in [1,2])) #Bool\n"
   ]
  },
  {
   "cell_type": "code",
   "execution_count": null,
   "metadata": {},
   "outputs": [],
   "source": []
  }
 ],
 "metadata": {
  "kernelspec": {
   "display_name": "Python 3",
   "language": "python",
   "name": "python3"
  },
  "language_info": {
   "codemirror_mode": {
    "name": "ipython",
    "version": 3
   },
   "file_extension": ".py",
   "mimetype": "text/x-python",
   "name": "python",
   "nbconvert_exporter": "python",
   "pygments_lexer": "ipython3",
   "version": "3.7.4"
  }
 },
 "nbformat": 4,
 "nbformat_minor": 2
}
