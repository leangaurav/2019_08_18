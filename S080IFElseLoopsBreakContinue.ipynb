{
 "cells": [
  {
   "cell_type": "code",
   "execution_count": 1,
   "metadata": {},
   "outputs": [
    {
     "name": "stdout",
     "output_type": "stream",
     "text": [
      "\n",
      "A\n",
      "AB\n",
      "ABC\n",
      "ABCD\n",
      "ABCDE\n"
     ]
    }
   ],
   "source": [
    "\n",
    "alp='ABCDE'\n",
    "for i in range(len(alp)+1):\n",
    "    print(alp[:i])"
   ]
  },
  {
   "cell_type": "code",
   "execution_count": 9,
   "metadata": {},
   "outputs": [
    {
     "name": "stdout",
     "output_type": "stream",
     "text": [
      "      A\n",
      "     ABA\n",
      "    ABCBA\n",
      "   ABCDCBA\n",
      "  ABCDEDCBA\n",
      " ABCDEFEDCBA\n"
     ]
    }
   ],
   "source": [
    "\n",
    "for i in range(0,6):\n",
    "    for j in range(6 - i):\n",
    "        print(end = ' ')\n",
    "        \n",
    "    for j in range(65,65+i + 1):\n",
    "        print(chr(j) , end='')\n",
    "        \n",
    "    for j in range(64+i, 64, -1):\n",
    "        print(chr(j) , end='')\n",
    "    print()"
   ]
  },
  {
   "cell_type": "code",
   "execution_count": 17,
   "metadata": {},
   "outputs": [
    {
     "name": "stdout",
     "output_type": "stream",
     "text": [
      "[2, 4, 6, 8, 10, 12, 14, 16, 18, 20]\n",
      "[2, 4, 6, 8, 10, 12, 14, 16, 18, 20]\n"
     ]
    }
   ],
   "source": [
    "# WAP to create list of first 10 even numbers\n",
    "a = []\n",
    "for i in range(2,21,2):\n",
    "    a.append(i)\n",
    "print(a)\n",
    "\n",
    "a = []\n",
    "for i in range(1,11):\n",
    "    a.append(i*2)\n",
    "print(a)"
   ]
  },
  {
   "cell_type": "code",
   "execution_count": null,
   "metadata": {},
   "outputs": [],
   "source": [
    "### Logical operators\n",
    "\n",
    "and : binary  &&\n",
    "or  : binary  ||\n",
    "not : unary   !\n",
    "    \n",
    "    \n",
    "### bitwise\n",
    "& : and\n",
    "| : or\n",
    "~ : not"
   ]
  },
  {
   "cell_type": "code",
   "execution_count": 21,
   "metadata": {},
   "outputs": [
    {
     "name": "stdout",
     "output_type": "stream",
     "text": [
      "True\n",
      "False\n",
      "False\n",
      "True\n",
      "False\n"
     ]
    }
   ],
   "source": [
    "x = 10\n",
    "print(x > 1)\n",
    "print(x < 10)\n",
    "print(x > 1 and x < 10)\n",
    "\n",
    "x = 5\n",
    "print(x > 1 and x < 10)\n",
    "x = -1\n",
    "print(x > 1 and x < 10)"
   ]
  },
  {
   "cell_type": "code",
   "execution_count": 22,
   "metadata": {},
   "outputs": [
    {
     "name": "stdout",
     "output_type": "stream",
     "text": [
      "True\n",
      "False\n",
      "True\n",
      "True\n",
      "True\n"
     ]
    }
   ],
   "source": [
    "x = 10\n",
    "print(x > 1)\n",
    "print(x < 10)\n",
    "print(x > 1 or x < 10)\n",
    "\n",
    "x = 5\n",
    "print(x > 1 or x < 10)\n",
    "x = -1\n",
    "print(x > 1 or x < 10)"
   ]
  },
  {
   "cell_type": "code",
   "execution_count": 25,
   "metadata": {},
   "outputs": [
    {
     "name": "stdout",
     "output_type": "stream",
     "text": [
      "True\n",
      "False\n"
     ]
    }
   ],
   "source": [
    "print(not 1> 2)\n",
    "print( not( 1> 2 or 2 > 1) )"
   ]
  },
  {
   "cell_type": "code",
   "execution_count": 27,
   "metadata": {},
   "outputs": [
    {
     "name": "stdout",
     "output_type": "stream",
     "text": [
      "Enter number: 10\n",
      "100\n"
     ]
    }
   ],
   "source": [
    "# WAP to input a number and square if it is even\n",
    "\n",
    "n = int(input('Enter number: '))\n",
    "\n",
    "if n%2 == 0:\n",
    "    n = n * n\n",
    "    \n",
    "print(n)"
   ]
  },
  {
   "cell_type": "code",
   "execution_count": null,
   "metadata": {},
   "outputs": [],
   "source": [
    "# WAP to find absolute value of a number\n",
    "# 10  -> 10\n",
    "# -10 -> 10"
   ]
  },
  {
   "cell_type": "code",
   "execution_count": 30,
   "metadata": {},
   "outputs": [
    {
     "name": "stdout",
     "output_type": "stream",
     "text": [
      "0\n"
     ]
    }
   ],
   "source": [
    "s = 0\n",
    "\n",
    "for i in range(10):\n",
    "    if i %2 :\n",
    "        s += i # s = s + i\n",
    "        \n",
    "print(s)"
   ]
  },
  {
   "cell_type": "code",
   "execution_count": null,
   "metadata": {},
   "outputs": [],
   "source": [
    "s =+ i # s = (+i)"
   ]
  },
  {
   "cell_type": "code",
   "execution_count": 34,
   "metadata": {},
   "outputs": [
    {
     "name": "stdout",
     "output_type": "stream",
     "text": [
      "10\n"
     ]
    }
   ],
   "source": [
    "x = 1\n",
    "x =+ 10 # x = (+10)\n",
    "#x += 10\n",
    "#x = x + 10\n",
    "\n",
    "#x =* 10\n",
    "print(x)"
   ]
  },
  {
   "cell_type": "code",
   "execution_count": 36,
   "metadata": {},
   "outputs": [
    {
     "name": "stdout",
     "output_type": "stream",
     "text": [
      "Enter number : 11\n",
      "Odd\n"
     ]
    }
   ],
   "source": [
    "x = int(input('Enter number : '))\n",
    "\n",
    "if x % 2:\n",
    "    print('Odd')\n",
    "else:\n",
    "    print('Even')"
   ]
  },
  {
   "cell_type": "code",
   "execution_count": 39,
   "metadata": {},
   "outputs": [
    {
     "name": "stdout",
     "output_type": "stream",
     "text": [
      "Enter a number : 10\n",
      "Enter a number : 2\n",
      "10\n"
     ]
    }
   ],
   "source": [
    "n1 = int(input('Enter a number : '))\n",
    "n2 = int(input('Enter a number : '))\n",
    "\n",
    "if n1 > n2:\n",
    "    print(n1)\n",
    "else:\n",
    "    print(n2)"
   ]
  },
  {
   "cell_type": "code",
   "execution_count": 41,
   "metadata": {},
   "outputs": [
    {
     "name": "stdout",
     "output_type": "stream",
     "text": [
      "Enter a number : 20\n",
      "Enter a number : 10\n",
      "20\n"
     ]
    }
   ],
   "source": [
    "n1 = int(input('Enter a number : '))\n",
    "n2 = int(input('Enter a number : '))\n",
    "\n",
    "l = n1\n",
    "if n2 > n1:\n",
    "    l = n2\n",
    "\n",
    "print(l)"
   ]
  },
  {
   "cell_type": "code",
   "execution_count": 44,
   "metadata": {},
   "outputs": [
    {
     "name": "stdout",
     "output_type": "stream",
     "text": [
      "Enter numbers:1 2 33 44444\n",
      "1 2 33 44444 ['1', '2', '33', '44444'] [1, 2, 33, 44444]\n"
     ]
    }
   ],
   "source": [
    "# WAP to input numbers from user and put in a list\n",
    "# 1 3 44\n",
    "# [1,3, 44]\n",
    "\n",
    "s = input('Enter numbers:')\n",
    "r = s.split()\n",
    "l=[]\n",
    "\n",
    "\n",
    "\n",
    "for i in r:\n",
    "    l.append(int(i))     \n",
    "\n",
    "print(s , r, l)"
   ]
  },
  {
   "cell_type": "code",
   "execution_count": 52,
   "metadata": {},
   "outputs": [
    {
     "name": "stdout",
     "output_type": "stream",
     "text": [
      "10 21 33 44 55\n",
      "[10, 21, 33, 44, 55] [10, 44]\n"
     ]
    }
   ],
   "source": [
    "a = []\n",
    "for data in input().split():\n",
    "    a.append(int(data))\n",
    "    \n",
    "# Create another list containing only even numbers\n",
    "\n",
    "gaurav = []\n",
    "for data in a:\n",
    "    if data % 2 == 0:\n",
    "        gaurav.append(data)\n",
    "        \n",
    "print(a, gaurav)\n"
   ]
  },
  {
   "cell_type": "code",
   "execution_count": 59,
   "metadata": {},
   "outputs": [
    {
     "name": "stdout",
     "output_type": "stream",
     "text": [
      "1 2 2\n",
      "Enter number to search : 2\n",
      "1\n",
      "2\n",
      "Present\n"
     ]
    }
   ],
   "source": [
    "a = []\n",
    "for data in input().split():\n",
    "    a.append(int(data))\n",
    "    \n",
    "# WAP to input a number and check if it is there in list or not\n",
    "# 'Present' / 'Absent'\n",
    "x = 0\n",
    "\n",
    "n = int(input('Enter number to search : '))\n",
    "\n",
    "for num in a:\n",
    "    print(num)\n",
    "    if num == n:\n",
    "        x = 10\n",
    "        break\n",
    "        \n",
    "if x == 10:\n",
    "    print('Present')\n",
    "else:\n",
    "    print('Absent')"
   ]
  },
  {
   "cell_type": "code",
   "execution_count": null,
   "metadata": {},
   "outputs": [],
   "source": [
    "if <condition1>:\n",
    "    <code1>\n",
    "elif <condition2>:\n",
    "    <code2>\n",
    "elif <condition3>:\n",
    "    <code3>\n",
    ".....\n",
    "else: \n",
    "    <codeN>"
   ]
  },
  {
   "cell_type": "code",
   "execution_count": 62,
   "metadata": {},
   "outputs": [
    {
     "name": "stdout",
     "output_type": "stream",
     "text": [
      "Enter a number : -1\n",
      "Negative\n"
     ]
    }
   ],
   "source": [
    "n1 = int(input('Enter a number : '))\n",
    "\n",
    "if n1 == 0:\n",
    "    print('Zero')\n",
    "elif n1 > 0:\n",
    "    print('Positive')\n",
    "else:\n",
    "    print('Negative')"
   ]
  },
  {
   "cell_type": "code",
   "execution_count": 65,
   "metadata": {},
   "outputs": [
    {
     "name": "stdout",
     "output_type": "stream",
     "text": [
      "Enter a string:123 abfdsf133%$,.!\n",
      "1 1\n"
     ]
    }
   ],
   "source": [
    "# WAP to input a string and count number of spaces and vowels and alphabets\n",
    "\n",
    "s=input('Enter a string:')\n",
    "c = 0\n",
    "v = 0\n",
    "for i in s:\n",
    "    if(i==' '):\n",
    "        c=c+1\n",
    "    elif i.upper() in 'AEIOU':\n",
    "        v += 1\n",
    "    \n",
    "    \n",
    "print(c, v)   "
   ]
  },
  {
   "cell_type": "code",
   "execution_count": 66,
   "metadata": {},
   "outputs": [
    {
     "name": "stdout",
     "output_type": "stream",
     "text": [
      "Enter a string:this is #$43\n",
      "2 2 6\n"
     ]
    }
   ],
   "source": [
    "# WAP to input a string and count number of spaces and vowels\n",
    "\n",
    "s=input('Enter a string:')\n",
    "c = 0\n",
    "v = 0\n",
    "a = 0\n",
    "for i in s:\n",
    "    if(i==' '):\n",
    "        c=c+1\n",
    "    elif i.isalpha():\n",
    "        a += 1\n",
    "        if i in 'AEIOUaeiou':\n",
    "            v += 1\n",
    "\n",
    "print(c, v, a)   "
   ]
  },
  {
   "cell_type": "code",
   "execution_count": null,
   "metadata": {},
   "outputs": [],
   "source": [
    "# WAP to input a string and count number of spaces and vowels and alphabets\n",
    "\n",
    "s=input('Enter a string:')\n",
    "c = 0\n",
    "v = 0\n",
    "a = 0\n",
    "for i in s:\n",
    "    if(i==' '):\n",
    "        c=c+1\n",
    "    if i.upper() in 'AEIOU':\n",
    "        v += 1\n",
    "    if i.isalpha():\n",
    "        a += 1\n",
    "    \n",
    "print(c, v, a)"
   ]
  },
  {
   "cell_type": "markdown",
   "metadata": {},
   "source": [
    "## Jump Statements\n",
    "- break\n",
    "- continue\n",
    "\n",
    "They can be used only in a loop"
   ]
  },
  {
   "cell_type": "code",
   "execution_count": 67,
   "metadata": {},
   "outputs": [
    {
     "name": "stdout",
     "output_type": "stream",
     "text": [
      "0\n",
      "1\n",
      "2\n",
      "3\n",
      "4\n",
      "5\n"
     ]
    }
   ],
   "source": [
    "for i in range(10):\n",
    "    print(i)\n",
    "    if i == 5:\n",
    "        break\n"
   ]
  },
  {
   "cell_type": "code",
   "execution_count": 68,
   "metadata": {},
   "outputs": [
    {
     "name": "stdout",
     "output_type": "stream",
     "text": [
      "0\n",
      "1\n",
      "2\n",
      "3\n",
      "4\n"
     ]
    }
   ],
   "source": [
    "for i in range(10):\n",
    "    if i == 5:\n",
    "        break\n",
    "    print(i)\n"
   ]
  },
  {
   "cell_type": "code",
   "execution_count": 70,
   "metadata": {},
   "outputs": [
    {
     "name": "stdout",
     "output_type": "stream",
     "text": [
      "0\n",
      "01\n",
      "012\n",
      "0123\n",
      "01234\n"
     ]
    }
   ],
   "source": [
    "for i in range(5):\n",
    "    for j in range(5):\n",
    "        print(j, end = '')\n",
    "        if j == i:\n",
    "            break\n",
    "    print()"
   ]
  },
  {
   "cell_type": "code",
   "execution_count": 71,
   "metadata": {},
   "outputs": [
    {
     "name": "stdout",
     "output_type": "stream",
     "text": [
      "\n",
      "0\n",
      "01\n",
      "012\n",
      "0123\n"
     ]
    }
   ],
   "source": [
    "for i in range(5):\n",
    "    for j in range(5):\n",
    "        if j == i:\n",
    "            break\n",
    "        print(j, end = '')\n",
    "    print()"
   ]
  },
  {
   "cell_type": "code",
   "execution_count": 72,
   "metadata": {},
   "outputs": [
    {
     "name": "stdout",
     "output_type": "stream",
     "text": [
      "1234\n",
      "0234\n",
      "0134\n",
      "0124\n",
      "0123\n"
     ]
    }
   ],
   "source": [
    "for i in range(5):\n",
    "    for j in range(5):\n",
    "        if j == i:\n",
    "            continue\n",
    "        print(j, end = '')\n",
    "    print()"
   ]
  },
  {
   "cell_type": "code",
   "execution_count": 73,
   "metadata": {},
   "outputs": [
    {
     "name": "stdout",
     "output_type": "stream",
     "text": [
      "1\n",
      "2\n",
      "4\n",
      "5\n",
      "7\n",
      "8\n"
     ]
    }
   ],
   "source": [
    "for i in range(10):\n",
    "    if i %3 == 0:\n",
    "        continue\n",
    "    print(i)"
   ]
  },
  {
   "cell_type": "code",
   "execution_count": 74,
   "metadata": {},
   "outputs": [
    {
     "name": "stdout",
     "output_type": "stream",
     "text": [
      "0\n",
      "3\n",
      "6\n",
      "9\n"
     ]
    }
   ],
   "source": [
    "for i in range(10):\n",
    "    if i %3:\n",
    "        continue\n",
    "    print(i)"
   ]
  },
  {
   "cell_type": "code",
   "execution_count": 50,
   "metadata": {},
   "outputs": [
    {
     "name": "stdout",
     "output_type": "stream",
     "text": [
      "1\n"
     ]
    },
    {
     "ename": "ZeroDivisionError",
     "evalue": "division by zero",
     "output_type": "error",
     "traceback": [
      "\u001b[1;31m---------------------------------------------------------------------------\u001b[0m",
      "\u001b[1;31mZeroDivisionError\u001b[0m                         Traceback (most recent call last)",
      "\u001b[1;32m<ipython-input-50-df26136c6b05>\u001b[0m in \u001b[0;36m<module>\u001b[1;34m\u001b[0m\n\u001b[0;32m      1\u001b[0m \u001b[0mprint\u001b[0m\u001b[1;33m(\u001b[0m\u001b[1;36m1\u001b[0m\u001b[1;33m)\u001b[0m\u001b[1;33m\u001b[0m\u001b[1;33m\u001b[0m\u001b[0m\n\u001b[1;32m----> 2\u001b[1;33m \u001b[0mprint\u001b[0m\u001b[1;33m(\u001b[0m\u001b[1;36m2\u001b[0m\u001b[1;33m/\u001b[0m\u001b[1;36m0\u001b[0m\u001b[1;33m)\u001b[0m\u001b[1;33m\u001b[0m\u001b[1;33m\u001b[0m\u001b[0m\n\u001b[0m\u001b[0;32m      3\u001b[0m \u001b[0mprint\u001b[0m\u001b[1;33m(\u001b[0m\u001b[1;36m3\u001b[0m\u001b[1;33m)\u001b[0m\u001b[1;33m\u001b[0m\u001b[1;33m\u001b[0m\u001b[0m\n",
      "\u001b[1;31mZeroDivisionError\u001b[0m: division by zero"
     ]
    }
   ],
   "source": [
    "print(1)\n",
    "print(2/0)\n",
    "print(3)"
   ]
  },
  {
   "cell_type": "code",
   "execution_count": 51,
   "metadata": {},
   "outputs": [
    {
     "name": "stdout",
     "output_type": "stream",
     "text": [
      "Enter numbers:1 2\n"
     ]
    },
    {
     "ename": "ValueError",
     "evalue": "invalid literal for int() with base 10: '1 2'",
     "output_type": "error",
     "traceback": [
      "\u001b[1;31m---------------------------------------------------------------------------\u001b[0m",
      "\u001b[1;31mValueError\u001b[0m                                Traceback (most recent call last)",
      "\u001b[1;32m<ipython-input-51-18eb66221d1f>\u001b[0m in \u001b[0;36m<module>\u001b[1;34m\u001b[0m\n\u001b[1;32m----> 1\u001b[1;33m \u001b[0mnum\u001b[0m \u001b[1;33m=\u001b[0m \u001b[0mint\u001b[0m\u001b[1;33m(\u001b[0m\u001b[0minput\u001b[0m\u001b[1;33m(\u001b[0m\u001b[1;34m\"Enter numbers:\"\u001b[0m\u001b[1;33m)\u001b[0m\u001b[1;33m)\u001b[0m\u001b[1;33m\u001b[0m\u001b[1;33m\u001b[0m\u001b[0m\n\u001b[0m\u001b[0;32m      2\u001b[0m \u001b[0ma\u001b[0m \u001b[1;33m=\u001b[0m \u001b[1;33m[\u001b[0m\u001b[1;33m]\u001b[0m\u001b[1;33m\u001b[0m\u001b[1;33m\u001b[0m\u001b[0m\n\u001b[0;32m      3\u001b[0m \u001b[1;33m\u001b[0m\u001b[0m\n\u001b[0;32m      4\u001b[0m \u001b[1;32mfor\u001b[0m \u001b[0mi\u001b[0m \u001b[1;32min\u001b[0m \u001b[0mnum\u001b[0m\u001b[1;33m.\u001b[0m\u001b[0msplit\u001b[0m\u001b[1;33m(\u001b[0m\u001b[1;33m)\u001b[0m\u001b[1;33m:\u001b[0m\u001b[1;33m\u001b[0m\u001b[1;33m\u001b[0m\u001b[0m\n\u001b[0;32m      5\u001b[0m     \u001b[0ma\u001b[0m\u001b[1;33m.\u001b[0m\u001b[0mappend\u001b[0m\u001b[1;33m(\u001b[0m\u001b[0mint\u001b[0m\u001b[1;33m(\u001b[0m\u001b[0mi\u001b[0m\u001b[1;33m)\u001b[0m\u001b[1;33m)\u001b[0m\u001b[1;33m\u001b[0m\u001b[1;33m\u001b[0m\u001b[0m\n",
      "\u001b[1;31mValueError\u001b[0m: invalid literal for int() with base 10: '1 2'"
     ]
    }
   ],
   "source": [
    "num = (input(\"Enter numbers:\"))\n",
    "a = []\n",
    "\n",
    "for i in num.split():\n",
    "    a.append(int(i))\n"
   ]
  },
  {
   "cell_type": "code",
   "execution_count": null,
   "metadata": {},
   "outputs": [],
   "source": []
  },
  {
   "cell_type": "code",
   "execution_count": null,
   "metadata": {},
   "outputs": [],
   "source": []
  }
 ],
 "metadata": {
  "kernelspec": {
   "display_name": "Python 3",
   "language": "python",
   "name": "python3"
  },
  "language_info": {
   "codemirror_mode": {
    "name": "ipython",
    "version": 3
   },
   "file_extension": ".py",
   "mimetype": "text/x-python",
   "name": "python",
   "nbconvert_exporter": "python",
   "pygments_lexer": "ipython3",
   "version": "3.7.3"
  }
 },
 "nbformat": 4,
 "nbformat_minor": 2
}
