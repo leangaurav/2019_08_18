{
 "cells": [
  {
   "cell_type": "code",
   "execution_count": 1,
   "metadata": {},
   "outputs": [],
   "source": [
    "from functools import reduce"
   ]
  },
  {
   "cell_type": "code",
   "execution_count": 3,
   "metadata": {},
   "outputs": [
    {
     "name": "stdout",
     "output_type": "stream",
     "text": [
      "7\n",
      "7\n"
     ]
    }
   ],
   "source": [
    "def add(x, y):\n",
    "    return x + y\n",
    "\n",
    "def temp(funct, seq):\n",
    "    res = seq[0]\n",
    "    for i in range(1, len(seq)):\n",
    "        res = funct(res, seq[i])\n",
    "        \n",
    "    return res\n",
    "\n",
    "a = [1,2 ,3,-4, 5]\n",
    "\n",
    "r = temp(add, a)\n",
    "print(r)\n",
    "\n",
    "print( reduce(add, a) )"
   ]
  },
  {
   "cell_type": "code",
   "execution_count": 7,
   "metadata": {},
   "outputs": [
    {
     "name": "stdout",
     "output_type": "stream",
     "text": [
      "4096\n"
     ]
    }
   ],
   "source": [
    "a = [2,2,3,2]\n",
    "\n",
    "print(reduce(lambda x,y: x**y, a))"
   ]
  },
  {
   "cell_type": "code",
   "execution_count": 8,
   "metadata": {},
   "outputs": [
    {
     "name": "stdout",
     "output_type": "stream",
     "text": [
      "['C:\\\\ProgramData\\\\Anaconda3\\\\lib\\\\site-packages\\\\ipykernel_launcher.py', '-f', 'C:\\\\Users\\\\guptag\\\\AppData\\\\Roaming\\\\jupyter\\\\runtime\\\\kernel-65a3c9cb-8acb-4679-90b0-fd97fa72fe07.json']\n"
     ]
    }
   ],
   "source": [
    "import sys\n",
    "print(sys.argv)"
   ]
  },
  {
   "cell_type": "markdown",
   "metadata": {},
   "source": [
    "## Variable Length and keyword arguments\n"
   ]
  },
  {
   "cell_type": "code",
   "execution_count": 9,
   "metadata": {},
   "outputs": [
    {
     "name": "stdout",
     "output_type": "stream",
     "text": [
      "1 2 3\n"
     ]
    }
   ],
   "source": [
    "x = 1\n",
    "y = 2\n",
    "z = 3\n",
    "\n",
    "a = x,y,z\n",
    "print(x,y,z)\n",
    "print(a, type(a))"
   ]
  },
  {
   "cell_type": "code",
   "execution_count": 11,
   "metadata": {},
   "outputs": [
    {
     "name": "stdout",
     "output_type": "stream",
     "text": [
      "(1, 2, 3)\n",
      "1 2 3\n"
     ]
    }
   ],
   "source": [
    "x = 1,2,3 # packing\n",
    "print(x)\n",
    "a,b,c = x # unpacking\n",
    "print(a, b, c)"
   ]
  },
  {
   "cell_type": "code",
   "execution_count": 18,
   "metadata": {},
   "outputs": [
    {
     "name": "stdout",
     "output_type": "stream",
     "text": [
      "200\n",
      "200\n"
     ]
    }
   ],
   "source": [
    "def funct(x,y):\n",
    "    print(x * y)\n",
    "    \n",
    "t= 10,20\n",
    "funct(t[0], t[1])\n",
    "funct(*t)\n",
    "t1 = 1,2,3\n",
    "#funct(*t1)"
   ]
  },
  {
   "cell_type": "code",
   "execution_count": 22,
   "metadata": {},
   "outputs": [
    {
     "name": "stdout",
     "output_type": "stream",
     "text": [
      "() <class 'tuple'>\n",
      "(10,) <class 'tuple'>\n",
      "(10, True) <class 'tuple'>\n"
     ]
    }
   ],
   "source": [
    "def funct(*args):\n",
    "    print( args, type(args))\n",
    "    \n",
    "funct()\n",
    "funct(10)\n",
    "funct(10,True)"
   ]
  },
  {
   "cell_type": "code",
   "execution_count": 27,
   "metadata": {},
   "outputs": [
    {
     "name": "stdout",
     "output_type": "stream",
     "text": [
      "1 2\n",
      "1 2\n",
      "{'x': 1, 'y': 2}\n",
      "1 2\n"
     ]
    }
   ],
   "source": [
    "def funct(x,y):\n",
    "    print(x,y)\n",
    "    \n",
    "funct(1,2)\n",
    "funct(y = 2, x = 1)\n",
    "\n",
    "d = {'x' :1 , 'y' :2}\n",
    "print(d)\n",
    "\n",
    "funct(**d)"
   ]
  },
  {
   "cell_type": "code",
   "execution_count": 31,
   "metadata": {},
   "outputs": [
    {
     "name": "stdout",
     "output_type": "stream",
     "text": [
      "{} <class 'dict'>\n",
      "{'a': 1} <class 'dict'>\n",
      "{'x': 10, 'abcd': [1, 2]} <class 'dict'>\n"
     ]
    }
   ],
   "source": [
    "def funct(**kwargs):\n",
    "    print(kwargs, type(kwargs))\n",
    "    \n",
    "#funct(1)\n",
    "funct()\n",
    "funct(a = 1)\n",
    "funct(x = 10, abcd = [1,2])"
   ]
  },
  {
   "cell_type": "code",
   "execution_count": 33,
   "metadata": {},
   "outputs": [
    {
     "name": "stdout",
     "output_type": "stream",
     "text": [
      "{'x': 1, 'y': 10}\n"
     ]
    }
   ],
   "source": [
    "d = dict(x = 1, y = 10)\n",
    "print(d)"
   ]
  },
  {
   "cell_type": "code",
   "execution_count": 38,
   "metadata": {},
   "outputs": [
    {
     "name": "stdout",
     "output_type": "stream",
     "text": [
      "() {}\n",
      "(1,) {}\n",
      "(10, 20) {}\n",
      "() {'x': 10}\n",
      "(10, 20) {'x': 100, 'y': 'abcd'}\n"
     ]
    }
   ],
   "source": [
    "def funct(*args, **kwargs):\n",
    "    print(args, kwargs)\n",
    "    \n",
    "funct()\n",
    "funct(1)\n",
    "funct(10,20)\n",
    "funct(x = 10)\n",
    "funct(10,20,x = 100, y = 'abcd')"
   ]
  },
  {
   "cell_type": "code",
   "execution_count": 42,
   "metadata": {},
   "outputs": [
    {
     "name": "stdout",
     "output_type": "stream",
     "text": [
      "10 20 () {}\n",
      "10 20 (30,) {'x': 10}\n",
      "10 20 () {'x': 100, 'y': 'abcd'}\n"
     ]
    }
   ],
   "source": [
    "# a and b are positional arguments\n",
    "# variable length\n",
    "# keyword arguments\n",
    "# default arguments\n",
    "def funct(a,b, *args, **kwargs):\n",
    "    print(a,b,args, kwargs)\n",
    "    \n",
    "#funct()\n",
    "#funct(1)\n",
    "funct(10,20)\n",
    "funct(10,20,30, x = 10)\n",
    "funct(10,20,x = 100, y = 'abcd')"
   ]
  },
  {
   "cell_type": "code",
   "execution_count": 52,
   "metadata": {},
   "outputs": [
    {
     "name": "stdout",
     "output_type": "stream",
     "text": [
      "11 22 20  10 20\n"
     ]
    }
   ],
   "source": [
    "print( \"{} {} {y}  {x} {y}\". format(11,22, x = 10, y = 20))"
   ]
  },
  {
   "cell_type": "code",
   "execution_count": null,
   "metadata": {},
   "outputs": [],
   "source": []
  },
  {
   "cell_type": "code",
   "execution_count": null,
   "metadata": {},
   "outputs": [],
   "source": []
  }
 ],
 "metadata": {
  "kernelspec": {
   "display_name": "Python 3",
   "language": "python",
   "name": "python3"
  },
  "language_info": {
   "codemirror_mode": {
    "name": "ipython",
    "version": 3
   },
   "file_extension": ".py",
   "mimetype": "text/x-python",
   "name": "python",
   "nbconvert_exporter": "python",
   "pygments_lexer": "ipython3",
   "version": "3.7.3"
  }
 },
 "nbformat": 4,
 "nbformat_minor": 2
}
