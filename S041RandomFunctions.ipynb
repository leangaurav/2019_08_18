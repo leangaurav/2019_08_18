{
 "cells": [
  {
   "cell_type": "code",
   "execution_count": 2,
   "metadata": {},
   "outputs": [],
   "source": [
    "import random"
   ]
  },
  {
   "cell_type": "code",
   "execution_count": 34,
   "metadata": {},
   "outputs": [
    {
     "name": "stdout",
     "output_type": "stream",
     "text": [
      "1\n",
      "5\n",
      "7\n"
     ]
    }
   ],
   "source": [
    "print(random.randrange(5)) # 0-4\n",
    "print(random.randrange(5,10)) # 5-9\n",
    "print(random.randrange(5,10,2)) # 5,7,9"
   ]
  },
  {
   "cell_type": "code",
   "execution_count": null,
   "metadata": {},
   "outputs": [],
   "source": [
    "# WAP to print 4 random and their sum numbers between 10-20"
   ]
  },
  {
   "cell_type": "code",
   "execution_count": 37,
   "metadata": {},
   "outputs": [
    {
     "name": "stdout",
     "output_type": "stream",
     "text": [
      "20\n"
     ]
    }
   ],
   "source": [
    "print(random.randint(10,20)) # 10-20"
   ]
  },
  {
   "cell_type": "code",
   "execution_count": 40,
   "metadata": {},
   "outputs": [
    {
     "name": "stdout",
     "output_type": "stream",
     "text": [
      "Enter a string:abcd\n",
      "a\n"
     ]
    }
   ],
   "source": [
    "# WAP to input a string and print a random character from it\n",
    "s = input('Enter a string:')\n",
    "i = random.randrange( len(s) )\n",
    "print(s[ i ])"
   ]
  },
  {
   "cell_type": "code",
   "execution_count": 44,
   "metadata": {},
   "outputs": [
    {
     "name": "stdout",
     "output_type": "stream",
     "text": [
      "12.720730811798742\n",
      "0.16726686375648658\n"
     ]
    }
   ],
   "source": [
    "print(random.uniform(10,20)) # float 10-20\n",
    "print(random.random()) # 0-1"
   ]
  },
  {
   "cell_type": "code",
   "execution_count": 47,
   "metadata": {},
   "outputs": [
    {
     "name": "stdout",
     "output_type": "stream",
     "text": [
      "Enter a number: 33\n",
      "<class 'int'>\n"
     ]
    }
   ],
   "source": [
    "i = int(input('Enter a number: '))\n",
    "print(type(i))"
   ]
  },
  {
   "cell_type": "markdown",
   "metadata": {},
   "source": [
    "## FUnctions\n",
    "- python doesn't use braces to define a block of code\n",
    "- python uses indentation/ spacing  to define blocks of code"
   ]
  },
  {
   "cell_type": "code",
   "execution_count": null,
   "metadata": {},
   "outputs": [],
   "source": [
    "{ # this doesn't work\n",
    "    print(10,20)\n",
    "    x = 100\n",
    "    y =200\n",
    "}\n",
    "    "
   ]
  },
  {
   "cell_type": "code",
   "execution_count": 2,
   "metadata": {},
   "outputs": [
    {
     "name": "stdout",
     "output_type": "stream",
     "text": [
      "abcd\n"
     ]
    }
   ],
   "source": [
    "def funct():\n",
    "    x = 10\n",
    "    y = 20\n",
    "    print(x,y)\n",
    "\n",
    "    \n",
    "print('abcd')\n",
    "#print(x)\n"
   ]
  },
  {
   "cell_type": "code",
   "execution_count": 59,
   "metadata": {},
   "outputs": [
    {
     "name": "stdout",
     "output_type": "stream",
     "text": [
      "abcd\n",
      "100\n",
      "abcd\n",
      "100\n"
     ]
    }
   ],
   "source": [
    "def funct():\n",
    "    print('abcd')\n",
    "    print(100)\n",
    "   \n",
    "funct()\n",
    "funct()"
   ]
  },
  {
   "cell_type": "code",
   "execution_count": 4,
   "metadata": {},
   "outputs": [
    {
     "name": "stdout",
     "output_type": "stream",
     "text": [
      "30\n",
      "7\n"
     ]
    }
   ],
   "source": [
    "def add(x,y):\n",
    "    print(x + y)\n",
    "    \n",
    "add(10,20)\n",
    "add(3,4)"
   ]
  },
  {
   "cell_type": "code",
   "execution_count": 8,
   "metadata": {},
   "outputs": [
    {
     "name": "stdout",
     "output_type": "stream",
     "text": [
      "None <class 'NoneType'>\n"
     ]
    }
   ],
   "source": [
    "print(None, type(None))"
   ]
  },
  {
   "cell_type": "code",
   "execution_count": 11,
   "metadata": {},
   "outputs": [
    {
     "name": "stdout",
     "output_type": "stream",
     "text": [
      "3\n",
      "None\n"
     ]
    }
   ],
   "source": [
    "# A function that doesn't return anything returns None by default\n",
    "def add(x,y):\n",
    "    print(x+y)\n",
    "    \n",
    "r = add(1,2)\n",
    "print(r)"
   ]
  },
  {
   "cell_type": "code",
   "execution_count": 13,
   "metadata": {},
   "outputs": [
    {
     "name": "stdout",
     "output_type": "stream",
     "text": [
      "Enter P: 10\n",
      "Enter R: 20\n",
      "Enter T: 1\n",
      "2.0\n"
     ]
    }
   ],
   "source": [
    "# WAP to find simple interest SI = PRT/100 si()\n",
    "def si():\n",
    "    p = int(input(\"Enter P: \"))\n",
    "    r = int(input(\"Enter R: \"))\n",
    "    t = int(input(\"Enter T: \"))\n",
    "\n",
    "    si = (p*r*t)/ 100\n",
    "    print(si)\n",
    "    \n",
    "si()\n",
    "#p1000 r 10 t 2"
   ]
  },
  {
   "cell_type": "code",
   "execution_count": 15,
   "metadata": {},
   "outputs": [
    {
     "name": "stdout",
     "output_type": "stream",
     "text": [
      "200.0\n",
      "Enter P: 10\n",
      "Enter R: 2\n",
      "Enter T: 2\n",
      "0.4\n",
      "None\n"
     ]
    }
   ],
   "source": [
    "def si(p,r,t):\n",
    "    si = (p*r*t)/ 100\n",
    "    print(si)\n",
    "    \n",
    "si(1000, 10, 2)\n",
    "p = int(input(\"Enter P: \"))\n",
    "r = int(input(\"Enter R: \"))\n",
    "t = int(input(\"Enter T: \"))\n",
    "r = si(p,r,t)\n",
    "print(r)\n"
   ]
  },
  {
   "cell_type": "code",
   "execution_count": 21,
   "metadata": {},
   "outputs": [
    {
     "name": "stdout",
     "output_type": "stream",
     "text": [
      "200.0\n",
      "Enter P: 1\n",
      "Enter R: 1\n",
      "Enter T: 1\n",
      "0.01\n",
      "Amount: 1.01\n"
     ]
    }
   ],
   "source": [
    "def si(p,r,t):\n",
    "    si = (p*r*t)/ 100\n",
    "    return si\n",
    "\n",
    "print(si(1000, 10, 2))\n",
    "p = int(input(\"Enter P: \"))\n",
    "r = int(input(\"Enter R: \"))\n",
    "t = int(input(\"Enter T: \"))\n",
    "r = si(p,r,t)\n",
    "print(r)\n",
    "\n",
    "def amount(p,r,t):\n",
    "    return p + si(p,r,t)\n",
    "\n",
    "print(\"Amount:\", amount(p,r,t))\n"
   ]
  },
  {
   "cell_type": "code",
   "execution_count": 50,
   "metadata": {},
   "outputs": [
    {
     "name": "stdout",
     "output_type": "stream",
     "text": [
      "g\n"
     ]
    }
   ],
   "source": [
    "# define a function get_random_char, that returns a random alphabet.\n",
    "# use the string module.\n",
    "import string\n",
    "import random\n",
    "\n",
    "len_chars = len(string.ascii_letters)\n",
    "i = random.randrange(len_chars)\n",
    "print(string.ascii_letters[ i ])\n"
   ]
  },
  {
   "cell_type": "code",
   "execution_count": 55,
   "metadata": {},
   "outputs": [
    {
     "name": "stdout",
     "output_type": "stream",
     "text": [
      "U\n"
     ]
    }
   ],
   "source": [
    "\n",
    "import string\n",
    "import random\n",
    "def get_random_char():\n",
    "    return random.choice(string.ascii_letters)\n",
    "\n",
    "print(get_random_char())"
   ]
  },
  {
   "cell_type": "code",
   "execution_count": null,
   "metadata": {},
   "outputs": [],
   "source": []
  }
 ],
 "metadata": {
  "kernelspec": {
   "display_name": "Python 3",
   "language": "python",
   "name": "python3"
  },
  "language_info": {
   "codemirror_mode": {
    "name": "ipython",
    "version": 3
   },
   "file_extension": ".py",
   "mimetype": "text/x-python",
   "name": "python",
   "nbconvert_exporter": "python",
   "pygments_lexer": "ipython3",
   "version": "3.7.3"
  }
 },
 "nbformat": 4,
 "nbformat_minor": 2
}
