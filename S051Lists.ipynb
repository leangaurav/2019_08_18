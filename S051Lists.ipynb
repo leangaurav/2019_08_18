{
 "cells": [
  {
   "cell_type": "code",
   "execution_count": null,
   "metadata": {},
   "outputs": [],
   "source": [
    "int arr[10]; # c/c++/JAVA"
   ]
  },
  {
   "cell_type": "markdown",
   "metadata": {},
   "source": [
    "### list\n",
    "- [] : dentoes list\n",
    "- heterogeneous\n",
    "- variable length\n",
    "- sequence\n",
    "- mutable"
   ]
  },
  {
   "cell_type": "code",
   "execution_count": 1,
   "metadata": {},
   "outputs": [
    {
     "name": "stdout",
     "output_type": "stream",
     "text": [
      "[] <class 'list'>\n"
     ]
    }
   ],
   "source": [
    "a = []\n",
    "print(a, type(a))"
   ]
  },
  {
   "cell_type": "code",
   "execution_count": 5,
   "metadata": {},
   "outputs": [
    {
     "name": "stdout",
     "output_type": "stream",
     "text": [
      "[10, 20, 30] 3\n",
      "[10, 20, 30, True, 'abcd'] 5\n",
      "[[1, 2], True]\n"
     ]
    }
   ],
   "source": [
    "a = [10,20,30]\n",
    "print(a, len(a))\n",
    "a = [10,20,30, True, 'abcd'] # heterogene....\n",
    "print(a, len(a))\n",
    "a = [ [1,2], True]\n",
    "print(a)"
   ]
  },
  {
   "cell_type": "code",
   "execution_count": 9,
   "metadata": {},
   "outputs": [
    {
     "name": "stdout",
     "output_type": "stream",
     "text": [
      "[1, 2] [10, True, 10000] [1, 2, 10, True, 10000]\n"
     ]
    }
   ],
   "source": [
    "a1 = [1,2]\n",
    "a2 = [10,True, 10000]\n",
    "a3 = a1+a2\n",
    "print(a1, a2, a3)"
   ]
  },
  {
   "cell_type": "code",
   "execution_count": 12,
   "metadata": {},
   "outputs": [
    {
     "name": "stdout",
     "output_type": "stream",
     "text": [
      "20\n",
      "50\n",
      "10\n",
      "\n",
      "[20, 30]\n",
      "[50, 40, 30, 20, 10]\n"
     ]
    }
   ],
   "source": [
    "a = [10,20,30,40,50]\n",
    "#     0  1  2  3  4\n",
    "print(a[1])\n",
    "print(a[-1])\n",
    "print(a[-0])\n",
    "\n",
    "print()\n",
    "print(a[1:3])\n",
    "print(a[::-1])"
   ]
  },
  {
   "cell_type": "code",
   "execution_count": 19,
   "metadata": {},
   "outputs": [
    {
     "name": "stdout",
     "output_type": "stream",
     "text": [
      "[10, 20]\n",
      "abcde\n",
      "20\n",
      "edcba\n",
      "bcd\n",
      "\n",
      "bcd\n"
     ]
    }
   ],
   "source": [
    "a = [[10,20],'abcde',40,50]\n",
    "#      0       1      2  3 \n",
    "print(a[0])\n",
    "print(a[1])\n",
    "\n",
    "print(a[0][1])\n",
    "print(a[1][::-1])\n",
    "print('abcde'[1:4])\n",
    "print(a[1][-1:-4])\n",
    "print(a[1][-4:-1])"
   ]
  },
  {
   "cell_type": "code",
   "execution_count": 20,
   "metadata": {},
   "outputs": [
    {
     "ename": "TypeError",
     "evalue": "'str' object does not support item assignment",
     "output_type": "error",
     "traceback": [
      "\u001b[1;31m---------------------------------------------------------------------------\u001b[0m",
      "\u001b[1;31mTypeError\u001b[0m                                 Traceback (most recent call last)",
      "\u001b[1;32m<ipython-input-20-569debc68bfc>\u001b[0m in \u001b[0;36m<module>\u001b[1;34m\u001b[0m\n\u001b[0;32m      1\u001b[0m \u001b[1;31m# list is mutable\u001b[0m\u001b[1;33m\u001b[0m\u001b[1;33m\u001b[0m\u001b[1;33m\u001b[0m\u001b[0m\n\u001b[0;32m      2\u001b[0m \u001b[0ms\u001b[0m \u001b[1;33m=\u001b[0m \u001b[1;34m'abcde'\u001b[0m\u001b[1;33m\u001b[0m\u001b[1;33m\u001b[0m\u001b[0m\n\u001b[1;32m----> 3\u001b[1;33m \u001b[0ms\u001b[0m\u001b[1;33m[\u001b[0m\u001b[1;36m0\u001b[0m\u001b[1;33m]\u001b[0m \u001b[1;33m=\u001b[0m \u001b[1;34m'A'\u001b[0m\u001b[1;33m\u001b[0m\u001b[1;33m\u001b[0m\u001b[0m\n\u001b[0m\u001b[0;32m      4\u001b[0m \u001b[0mprint\u001b[0m\u001b[1;33m(\u001b[0m\u001b[0ms\u001b[0m\u001b[1;33m)\u001b[0m\u001b[1;33m\u001b[0m\u001b[1;33m\u001b[0m\u001b[0m\n",
      "\u001b[1;31mTypeError\u001b[0m: 'str' object does not support item assignment"
     ]
    }
   ],
   "source": [
    "# list is mutable\n",
    "s = 'abcde'\n",
    "s[0] = 'A'\n",
    "print(s)"
   ]
  },
  {
   "cell_type": "code",
   "execution_count": 21,
   "metadata": {},
   "outputs": [
    {
     "name": "stdout",
     "output_type": "stream",
     "text": [
      "['A', 2, 3, 4]\n"
     ]
    }
   ],
   "source": [
    "# list is mutable\n",
    "s = [1,2,3,4]\n",
    "s[0] = 'A'\n",
    "print(s)"
   ]
  },
  {
   "cell_type": "code",
   "execution_count": 23,
   "metadata": {},
   "outputs": [
    {
     "name": "stdout",
     "output_type": "stream",
     "text": [
      "[]\n",
      "[]\n",
      "[1, 2, 3]\n",
      "['a', 'b', 'c', 'd', 'e']\n",
      "['abcde']\n"
     ]
    }
   ],
   "source": [
    "print( [] )\n",
    "print( list())\n",
    "print(list(  [1,2,3] ))\n",
    "print(list('abcde'))\n",
    "print(list( ['abcde'] ))"
   ]
  },
  {
   "cell_type": "code",
   "execution_count": 25,
   "metadata": {},
   "outputs": [
    {
     "name": "stdout",
     "output_type": "stream",
     "text": [
      "[10, 2]\n",
      "[10, 2]\n",
      "1688683307336\n",
      "1688683307336\n"
     ]
    }
   ],
   "source": [
    "a = [1,2]\n",
    "a1 = a\n",
    "a1[0] = 10\n",
    "print(a)\n",
    "print(a1)\n",
    "\n",
    "print(id(a))\n",
    "print(id(a1))"
   ]
  },
  {
   "cell_type": "code",
   "execution_count": 27,
   "metadata": {},
   "outputs": [
    {
     "name": "stdout",
     "output_type": "stream",
     "text": [
      "[1, 2]\n",
      "[10, 2]\n",
      "[1, 2]\n",
      "1688683105416\n",
      "1688683351304\n"
     ]
    }
   ],
   "source": [
    "a = [1,2]\n",
    "a1 = list(a)\n",
    "a2 = a1[:]\n",
    "a3 = a1[::]\n",
    "\n",
    "a1[0] = 10\n",
    "print(a)\n",
    "print(a1)\n",
    "print(a2)\n",
    "\n",
    "print(id(a))\n",
    "print(id(a1))"
   ]
  },
  {
   "cell_type": "code",
   "execution_count": 34,
   "metadata": {
    "scrolled": true
   },
   "outputs": [
    {
     "name": "stdout",
     "output_type": "stream",
     "text": [
      "['pabc', 'pqr', 'ABC', '123p']\n",
      "['', 'abc ', 'qr ABC  123', '']\n"
     ]
    }
   ],
   "source": [
    "s = 'pabc pqr ABC  123p'\n",
    "print(s.split())\n",
    "print(s.split('p'))"
   ]
  },
  {
   "cell_type": "code",
   "execution_count": 31,
   "metadata": {},
   "outputs": [
    {
     "name": "stdout",
     "output_type": "stream",
     "text": [
      "abcpqrABC123\n",
      "abc#pqr#ABC#123\n"
     ]
    }
   ],
   "source": [
    "a = ['abc', 'pqr', 'ABC', '123']\n",
    "\n",
    "s = ''.join(a)\n",
    "print(s)\n",
    "s = '#'.join(a)\n",
    "print(s)"
   ]
  },
  {
   "cell_type": "code",
   "execution_count": 39,
   "metadata": {},
   "outputs": [
    {
     "name": "stdout",
     "output_type": "stream",
     "text": [
      "[1000, 2, [-1, -2], [100, 20000000]] 1688683276680 1688683803720\n",
      "[1, 2, [10, 20], [100, 20000000]] 1688683382600 1688683803720\n"
     ]
    }
   ],
   "source": [
    "# shallow and deep copy\n",
    "\n",
    "a = [1,2, [10,20], [100,200]]\n",
    "#    0 1     2       3\n",
    "a1 = list(a)\n",
    "\n",
    "a[0] = 1000\n",
    "a[2] = [-1,-2]\n",
    "a[3][1] = 20000000\n",
    "\n",
    "print(a ,id(a)  , id(a[3] ))\n",
    "print(a1, id(a1), id(a1[3]))"
   ]
  },
  {
   "cell_type": "code",
   "execution_count": null,
   "metadata": {},
   "outputs": [],
   "source": []
  },
  {
   "cell_type": "code",
   "execution_count": null,
   "metadata": {},
   "outputs": [],
   "source": []
  },
  {
   "cell_type": "code",
   "execution_count": null,
   "metadata": {},
   "outputs": [],
   "source": []
  }
 ],
 "metadata": {
  "kernelspec": {
   "display_name": "Python 3",
   "language": "python",
   "name": "python3"
  },
  "language_info": {
   "codemirror_mode": {
    "name": "ipython",
    "version": 3
   },
   "file_extension": ".py",
   "mimetype": "text/x-python",
   "name": "python",
   "nbconvert_exporter": "python",
   "pygments_lexer": "ipython3",
   "version": "3.7.3"
  }
 },
 "nbformat": 4,
 "nbformat_minor": 2
}
