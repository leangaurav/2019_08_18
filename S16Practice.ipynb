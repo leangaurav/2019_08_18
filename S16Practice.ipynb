{
 "cells": [
  {
   "cell_type": "code",
   "execution_count": 3,
   "metadata": {},
   "outputs": [],
   "source": [
    "# 1. WAP takes this list and prints count of unique values\n",
    "a1 = [10,4,55,42,61,99,6,8, 8, 9, 10, 9]"
   ]
  },
  {
   "cell_type": "code",
   "execution_count": 7,
   "metadata": {},
   "outputs": [
    {
     "name": "stdout",
     "output_type": "stream",
     "text": [
      "0 10\n",
      "1 4\n",
      "2 55\n",
      "3 42\n",
      "4 61\n",
      "5 99\n",
      "6 6\n",
      "7 8\n",
      "8 8\n",
      "9 9\n",
      "10 10\n",
      "11 9\n",
      "\n",
      "0 10\n",
      "1 4\n",
      "2 55\n",
      "3 42\n",
      "4 61\n",
      "5 99\n",
      "6 6\n",
      "7 8\n",
      "8 8\n",
      "9 9\n",
      "10 10\n",
      "11 9\n"
     ]
    }
   ],
   "source": [
    "a1 = [10,4,55,42,61,99,6,8, 8, 9, 10, 9]\n",
    "\n",
    "for i in range(len(a1)):\n",
    "    print( i, a1[i])\n",
    "print()\n",
    "for i, data in enumerate(a1):\n",
    "    print(i, data)"
   ]
  },
  {
   "cell_type": "code",
   "execution_count": 12,
   "metadata": {},
   "outputs": [
    {
     "name": "stdout",
     "output_type": "stream",
     "text": [
      "10\n",
      "4\n",
      "55\n",
      "42\n",
      "61\n",
      "99\n",
      "6\n",
      "8\n",
      "9\n"
     ]
    }
   ],
   "source": [
    "# 2. WAP to print all unique elements in an array a1\n",
    "def present_in_array(array, data, last_index):\n",
    "    for i in range(0, last_index + 1):\n",
    "        if array[i] == data:\n",
    "            return True\n",
    "    return False\n",
    "\n",
    "a1 = [10,4,55,42,61,99,6,8, 8, 9, 10, 9]\n",
    "\n",
    "for i, data in enumerate(a1):\n",
    "    if not present_in_array(a1, data, i - 1):\n",
    "        print(data)\n",
    "        \n",
    "# O(n^2)\n"
   ]
  },
  {
   "cell_type": "code",
   "execution_count": 19,
   "metadata": {},
   "outputs": [
    {
     "name": "stdout",
     "output_type": "stream",
     "text": [
      "{10}\n",
      "{10}\n",
      "{1, 10}\n",
      "{1, 2, 3, 4}\n",
      "{'c', 'b', 'B', 'a', 'A'}\n"
     ]
    }
   ],
   "source": [
    "s = set()\n",
    "s.add(10)\n",
    "print(s)\n",
    "s.add(10)\n",
    "print(s)\n",
    "s.add(1)\n",
    "print(s)\n",
    "\n",
    "print(set( [1,2,3,2,4] ))\n",
    "print(set( 'abcABAabbbc' ))"
   ]
  },
  {
   "cell_type": "code",
   "execution_count": 21,
   "metadata": {},
   "outputs": [
    {
     "name": "stdout",
     "output_type": "stream",
     "text": [
      "4\n",
      "55\n",
      "42\n",
      "61\n",
      "99\n",
      "6\n"
     ]
    }
   ],
   "source": [
    "# 3. WAP to print elements which occur only once\n",
    "# exmaple for a1 array output should be 4,55,42,61,99,6\n",
    "a1 = [10,4,55,42,61,99,6,8, 8, 9, 10, 9]\n",
    "\n",
    "a1 = [10,4,55,42,61,99,6,8, 8, 9, 10, 9]\n",
    "# O(n^2)\n",
    "for i in a1:\n",
    "    if a1.count(i)==1:\n",
    "        print(i)\n",
    "\n",
    "# O(n log n) :No extra space\n",
    "Sort\n",
    "Find unique\n",
    "\n",
    "# O(n) : Extra space for dict\n",
    "Put elements in dict and print ones with frequency = 1"
   ]
  },
  {
   "cell_type": "code",
   "execution_count": 24,
   "metadata": {},
   "outputs": [
    {
     "name": "stdout",
     "output_type": "stream",
     "text": [
      "0\n",
      "1\n",
      "2\n",
      "3\n",
      "30\n",
      "44\n",
      "555\n"
     ]
    }
   ],
   "source": [
    "# 4. Given a list of sorted numbers(ascending)\n",
    "# Write code to print unique elements\n",
    "\n",
    "a2 = [0,0,1,1,2,2,2,3,30,30,44,555,555]\n",
    "\n",
    "\n",
    "prev=None\n",
    "for i in a2:\n",
    "    if i!=prev:\n",
    "        prev=i\n",
    "        print(i)"
   ]
  },
  {
   "cell_type": "code",
   "execution_count": 27,
   "metadata": {},
   "outputs": [
    {
     "name": "stdout",
     "output_type": "stream",
     "text": [
      "3\n",
      "44\n",
      "999\n"
     ]
    }
   ],
   "source": [
    "# 5. Given a list of sorted numbers(ascending)\n",
    "# Write code to print elements occuring only once\n",
    "\n",
    "a2 = [0,0,1,1,2,2,2,3,30,30,44,555,555,999]\n",
    "# Output: 3,44\n",
    "\n",
    "prev=None\n",
    "count = 0\n",
    "for data in a2:\n",
    "    if prev == None:\n",
    "        prev = data\n",
    "        count = 1\n",
    "    elif prev == data:\n",
    "        count += 1\n",
    "    else:\n",
    "        if count == 1:\n",
    "            print(prev)\n",
    "        prev = data\n",
    "        count = 1\n",
    "\n",
    "if count == 1:\n",
    "    print(prev)"
   ]
  },
  {
   "cell_type": "code",
   "execution_count": null,
   "metadata": {},
   "outputs": [],
   "source": [
    "#Code -1 : O(n^2)\n",
    "for i in range(n):\n",
    "    for j in range(n):\n",
    "        pass\n",
    "\n",
    "# Code - 2: O(n)\n",
    "for i in range(n):\n",
    "    pass\n",
    "for j in range(n):\n",
    "    pass\n",
    "    \n",
    "# Code - 3: O(n^2) + O(n) = O(n^2)\n",
    "for i in range(n):\n",
    "    for j in range(n):\n",
    "        pass\n",
    "for j in range(n):\n",
    "    pass\n"
   ]
  }
 ],
 "metadata": {
  "kernelspec": {
   "display_name": "Python 3",
   "language": "python",
   "name": "python3"
  },
  "language_info": {
   "codemirror_mode": {
    "name": "ipython",
    "version": 3
   },
   "file_extension": ".py",
   "mimetype": "text/x-python",
   "name": "python",
   "nbconvert_exporter": "python",
   "pygments_lexer": "ipython3",
   "version": "3.7.3"
  }
 },
 "nbformat": 4,
 "nbformat_minor": 2
}
