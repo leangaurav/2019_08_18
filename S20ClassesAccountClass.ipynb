{
 "cells": [
  {
   "cell_type": "markdown",
   "metadata": {},
   "source": [
    "# public, private and protected in Python\n"
   ]
  },
  {
   "cell_type": "code",
   "execution_count": 3,
   "metadata": {},
   "outputs": [
    {
     "name": "stdout",
     "output_type": "stream",
     "text": [
      "x:0 y:0\n",
      "x:1 y:0\n",
      "x:10 y:20\n"
     ]
    }
   ],
   "source": [
    "class Point:\n",
    "    def __init__(self, x = 0, y = 0):\n",
    "        self.x = x\n",
    "        self.y = y\n",
    "        \n",
    "    def __str__(self):\n",
    "        return \"x:{} y:{}\".format(self.x, self.y)\n",
    "        \n",
    "p1 = Point()\n",
    "p2 = Point(1)\n",
    "p3 = Point(10,20)\n",
    "\n",
    "print(p1, p2, p3, sep = '\\n')"
   ]
  },
  {
   "cell_type": "code",
   "execution_count": 11,
   "metadata": {},
   "outputs": [
    {
     "name": "stdout",
     "output_type": "stream",
     "text": [
      "['__class__', '__delattr__', '__dict__', '__dir__', '__doc__', '__eq__', '__format__', '__ge__', '__getattribute__', '__gt__', '__hash__', '__init__', '__init_subclass__', '__le__', '__lt__', '__module__', '__ne__', '__new__', '__reduce__', '__reduce_ex__', '__repr__', '__setattr__', '__sizeof__', '__str__', '__subclasshook__', '__weakref__', 'funct']\n",
      "<function Temp.funct at 0x00000236F70AF0D0>\n",
      "Funct 10\n",
      "['__class__', '__delattr__', '__dict__', '__dir__', '__doc__', '__eq__', '__format__', '__ge__', '__getattribute__', '__gt__', '__hash__', '__init__', '__init_subclass__', '__le__', '__lt__', '__module__', '__ne__', '__new__', '__reduce__', '__reduce_ex__', '__repr__', '__setattr__', '__sizeof__', '__str__', '__subclasshook__', '__weakref__', 'funct']\n",
      "Funct <__main__.Temp object at 0x00000236F70A3048>\n",
      "<class '__main__.Temp'> <__main__.Temp object at 0x00000236F70A3048>\n"
     ]
    }
   ],
   "source": [
    "class Temp:\n",
    "    def funct(self):\n",
    "        print(\"Funct\", self)\n",
    "        \n",
    "print(dir(Temp))\n",
    "\n",
    "print(Temp.funct)\n",
    "Temp.funct(10)\n",
    "\n",
    "t1 = Temp()\n",
    "print(dir(t1))\n",
    "t1.funct() # t1.__class__.funct(t1)\n",
    "\n",
    "print(t1.__class__, t1)"
   ]
  },
  {
   "cell_type": "code",
   "execution_count": 20,
   "metadata": {},
   "outputs": [
    {
     "name": "stdout",
     "output_type": "stream",
     "text": [
      "['__class__', '__delattr__', '__dict__', '__dir__', '__doc__', '__eq__', '__format__', '__ge__', '__getattribute__', '__gt__', '__hash__', '__init__', '__init_subclass__', '__le__', '__lt__', '__module__', '__ne__', '__new__', '__reduce__', '__reduce_ex__', '__repr__', '__setattr__', '__sizeof__', '__str__', '__subclasshook__', '__weakref__', 'funct', 'var', 'x']\n",
      "Funct 100 1\n",
      "100\n",
      "<class '__main__.Temp'> <__main__.Temp object at 0x00000236F70C05C0>\n"
     ]
    }
   ],
   "source": [
    "class Temp:\n",
    "    def __init__(self):\n",
    "        self.var = 100\n",
    "        self.x = 1\n",
    "    \n",
    "    def funct(self,b):\n",
    "        print(\"Funct\", self.var, self.x)\n",
    "        \n",
    "\n",
    "t1 = Temp()\n",
    "print(dir(t1))\n",
    "t1.funct(1) # t1.__class__.funct(t1)\n",
    "\n",
    "print(t1.var)\n",
    "print(t1.__class__, t1)"
   ]
  },
  {
   "cell_type": "code",
   "execution_count": null,
   "metadata": {},
   "outputs": [],
   "source": [
    "# Account\n",
    "# - number\n",
    "# - balance\n",
    "# Each account starts with a zero balance\n",
    "# and a default account number is allocated\n",
    "# Each account has a unique account number\n",
    "\n",
    "# Account\n",
    "# - number\n",
    "# - balance\n",
    "# Each account starts with a zero balance\n",
    "# Account objects are created by passing in an account number as an argument\n"
   ]
  },
  {
   "cell_type": "code",
   "execution_count": 21,
   "metadata": {},
   "outputs": [
    {
     "name": "stdout",
     "output_type": "stream",
     "text": [
      "<__main__.Account object at 0x00000236F70C0BA8> <__main__.Account object at 0x00000236F70C0B70>\n"
     ]
    }
   ],
   "source": [
    "# define empty Account class and create 2 objects a1 and a2 and print on screen\n",
    "\n",
    "class Account():\n",
    "    pass\n",
    "\n",
    "a1 = Account()\n",
    "a2 = Account()\n",
    "\n",
    "print(a1,a2)"
   ]
  },
  {
   "cell_type": "code",
   "execution_count": 23,
   "metadata": {},
   "outputs": [
    {
     "name": "stdout",
     "output_type": "stream",
     "text": [
      "1000 1001\n"
     ]
    }
   ],
   "source": [
    "# update Account class with an init function that takes an account number as argument \n",
    "# and initialize a memeber 'number' with its value\n",
    "# create objects a1 and a2 with account number 1000 and 1001 respectively\n",
    "# print value of a1.number, a2.number\n",
    "\n",
    "# updated structure looks like this\n",
    "# Account\n",
    "# - number\n",
    "\n",
    "class Account():\n",
    "    def __init__(self, number):\n",
    "        self.number = number\n",
    "\n",
    "a1 = Account(1000)\n",
    "a2 = Account(1001)\n",
    "\n",
    "print(a1.number, a2.number)"
   ]
  },
  {
   "cell_type": "code",
   "execution_count": 25,
   "metadata": {},
   "outputs": [
    {
     "name": "stdout",
     "output_type": "stream",
     "text": [
      "Account:1000\n",
      "Account:1001\n"
     ]
    }
   ],
   "source": [
    "# Update Account class with __str__ overload so that printing objects a1 ana a2 directly looks like\n",
    "# print(a1); print(a2)\n",
    "# prints this : \n",
    "# Account:1000 \n",
    "# Account:1001\n",
    "class Account():\n",
    "    def __init__(self, number):\n",
    "        self.number = number\n",
    "        \n",
    "    def __str__(self):\n",
    "        return \"Account:\" + str(self.number)\n",
    "\n",
    "a1 = Account(1000)\n",
    "a2 = Account(1001)\n",
    "\n",
    "print(a1);print(a2)"
   ]
  },
  {
   "cell_type": "code",
   "execution_count": 29,
   "metadata": {},
   "outputs": [
    {
     "name": "stdout",
     "output_type": "stream",
     "text": [
      "Account:1000 Balance:0\n",
      "Account:1001 Balance:0\n"
     ]
    }
   ],
   "source": [
    "# Add another parameter 'balance' to account class\n",
    "# Each account starts with a zero balance\n",
    "# Update __str__ method to print balance as well.\n",
    "# Ex: a1 = Account(1000)\n",
    "# print(a1)\n",
    "# Account:1000 Balance:0\n",
    "\n",
    "# updated structure looks like this\n",
    "# Account\n",
    "# - number\n",
    "# - balance\n",
    "\n",
    "class Account():\n",
    "    def __init__(self, number):\n",
    "        self.number = number\n",
    "        self.balance = 0\n",
    "        \n",
    "    def __str__(self):\n",
    "        return f\"Account:{self.number} Balance:{self.balance}\"\n",
    "        #return \"Account:{} Balance:{}\" .format(self.number,self.balance)\n",
    "\n",
    "a1 = Account(1000)\n",
    "a2 = Account(1001)\n",
    "\n",
    "print(a1);print(a2)\n"
   ]
  },
  {
   "cell_type": "code",
   "execution_count": 30,
   "metadata": {},
   "outputs": [
    {
     "ename": "LimitError",
     "evalue": "Exceeds withdrawal limit",
     "output_type": "error",
     "traceback": [
      "\u001b[1;31m---------------------------------------------------------------------------\u001b[0m",
      "\u001b[1;31mLimitError\u001b[0m                                Traceback (most recent call last)",
      "\u001b[1;32m<ipython-input-30-680e567ea459>\u001b[0m in \u001b[0;36m<module>\u001b[1;34m()\u001b[0m\n\u001b[0;32m      7\u001b[0m \u001b[1;32mclass\u001b[0m \u001b[0mLimitError\u001b[0m\u001b[1;33m(\u001b[0m\u001b[0mAppError\u001b[0m\u001b[1;33m)\u001b[0m\u001b[1;33m:\u001b[0m\u001b[1;33m\u001b[0m\u001b[0m\n\u001b[0;32m      8\u001b[0m     \u001b[1;32mpass\u001b[0m\u001b[1;33m\u001b[0m\u001b[0m\n\u001b[1;32m----> 9\u001b[1;33m \u001b[1;32mraise\u001b[0m \u001b[0mLimitError\u001b[0m\u001b[1;33m(\u001b[0m\u001b[1;34m\"Exceeds withdrawal limit\"\u001b[0m\u001b[1;33m)\u001b[0m\u001b[1;33m\u001b[0m\u001b[0m\n\u001b[0m",
      "\u001b[1;31mLimitError\u001b[0m: Exceeds withdrawal limit"
     ]
    }
   ],
   "source": [
    "# Define a exception class AppError\n",
    "# Define another Exception classes LimitError which is a type of AppError \n",
    "# raise LimitError with a message \"Withdrawl Limit exceeded: Limit- 1000\"\n",
    "\n",
    "class AppError(Exception):\n",
    "    pass\n",
    "class LimitError(AppError):\n",
    "    pass\n",
    "raise LimitError(\"Exceeds withdrawal limit\")"
   ]
  },
  {
   "cell_type": "code",
   "execution_count": 31,
   "metadata": {},
   "outputs": [
    {
     "name": "stdout",
     "output_type": "stream",
     "text": [
      "Account:1000 Balance:15000\n"
     ]
    }
   ],
   "source": [
    "# Add a method 'deposit' to Account class\n",
    "# - deposit takes amount as argument and updates the balance with the amount.\n",
    "# Ex: \n",
    "# a1= Account(1000)\n",
    "# a1.deposit(10000)\n",
    "# a1.deposit(5000)\n",
    "# print(a1)\n",
    "# prints => Account:1000 Balance:15000\n",
    "class Account():\n",
    "    def __init__(self, number):\n",
    "        self.number = number\n",
    "        self.balance = 0\n",
    "        \n",
    "    def __str__(self):\n",
    "        return f\"Account:{self.number} Balance:{self.balance}\"\n",
    "        #return \"Account:{} Balance:{}\" .format(self.number,self.balance)\n",
    "    \n",
    "    def deposit(self,amount):\n",
    "        self.balance += amount\n",
    "        \n",
    "a1 = Account(1000)\n",
    "a1.deposit(10000)\n",
    "a1.deposit(5000)\n",
    "print(a1)"
   ]
  },
  {
   "cell_type": "code",
   "execution_count": 33,
   "metadata": {},
   "outputs": [
    {
     "name": "stdout",
     "output_type": "stream",
     "text": [
      "Account:1000 Balance:99999999999985000\n"
     ]
    }
   ],
   "source": [
    "# Add following method to Account class\n",
    "# withdraw(amount) : subtracts amount from balance.\n",
    "# - if balance goes below 0 raise a LimitError with a message like in example below\n",
    "# a1 = Account(1000)\n",
    "# a1.deposit(10000)\n",
    "# a1.withdraw(15000)\n",
    "#  Exception : \"Withdrawal Limit is:10000\"\n",
    "\n",
    "#Ex : if Account \n",
    "\n",
    "class AppError(Exception):\n",
    "    pass\n",
    "class LimitError(AppError):\n",
    "    pass\n",
    "\n",
    "class Account():\n",
    "    def __init__(self, number):\n",
    "        self.number = number\n",
    "        self.balance = 0\n",
    "        \n",
    "    def __str__(self):\n",
    "        return f\"Account:{self.number} Balance:{self.balance}\"\n",
    "        #return \"Account:{} Balance:{}\" .format(self.number,self.balance)\n",
    "    \n",
    "    def deposit(self,amount):\n",
    "        self.balance += amount\n",
    "    \n",
    "    def withdraw(self,amount):\n",
    "        if(amount > self.balance):\n",
    "            raise LimitError(\"Withdrawal Limit is:\" + str(self.balance))\n",
    "        else:    \n",
    "            self.balance -=amount\n",
    "\n",
    "a1 = Account(1000)\n",
    "a1.deposit(10000)\n",
    "a1.withdraw(15000)\n",
    "print(a1)"
   ]
  },
  {
   "cell_type": "code",
   "execution_count": 41,
   "metadata": {},
   "outputs": [
    {
     "name": "stdout",
     "output_type": "stream",
     "text": [
      "Account:1000 Balance:5000\n",
      "Account:1000 Balance:5000\n",
      "['_Account__balance', '_Account__number', '__balance', '__class__', '__delattr__', '__dict__', '__dir__', '__doc__', '__eq__', '__format__', '__ge__', '__getattribute__', '__gt__', '__hash__', '__init__', '__init_subclass__', '__le__', '__lt__', '__module__', '__ne__', '__new__', '__reduce__', '__reduce_ex__', '__repr__', '__setattr__', '__sizeof__', '__str__', '__subclasshook__', '__weakref__', 'deposit', 'withdraw']\n",
      "Account:1000 Balance:11111111111\n"
     ]
    }
   ],
   "source": [
    "# Our current account class has a vulnerability\n",
    "# since account number and balance attributes are public.. they can be modified outside the clas\n",
    "# like a1.balance = 1000000000000000000000\n",
    "# fix this issue\n",
    "\n",
    "\n",
    "class AppError(Exception):\n",
    "    pass\n",
    "class LimitError(AppError):\n",
    "    pass\n",
    "\n",
    "class Account():\n",
    "    def __init__(self, number):\n",
    "        self.__number = number # make things behave as private\n",
    "        self.__balance = 0\n",
    "        \n",
    "    def __str__(self):\n",
    "        return f\"Account:{self.__number} Balance:{self.__balance}\"\n",
    "        #return \"Account:{} Balance:{}\" .format(self.number,self.balance)\n",
    "    \n",
    "    def deposit(self,amount):\n",
    "        self.__balance += amount\n",
    "    \n",
    "    def withdraw(self,amount):\n",
    "        if(amount > self.__balance):\n",
    "            raise LimitError(\"Withdrawal Limit is:\" + str(self.__balance))\n",
    "        else:    \n",
    "            self.__balance -=amount\n",
    "\n",
    "a1 = Account(1000)\n",
    "a1.deposit(10000)\n",
    "a1.withdraw(5000)\n",
    "print(a1)\n",
    "a1.__balance = 111111111111111\n",
    "print(a1)\n",
    "print(dir(a1)) # name mangling\n",
    "# but in python the format of name mangling is fixed\n",
    "# _CLASSNAME__ATTRNAME\n",
    "\n",
    "a1._Account__balance= 11111111111\n",
    "print(a1)"
   ]
  },
  {
   "cell_type": "code",
   "execution_count": 47,
   "metadata": {},
   "outputs": [
    {
     "name": "stdout",
     "output_type": "stream",
     "text": [
      "Account:1000 Balance:0\n",
      "Account:1001 Balance:0\n"
     ]
    }
   ],
   "source": [
    "# Now there is one more issue.. since we are passing account numbers as argument.\n",
    "# some accounts are getting same account numbers\n",
    "# Update Account constructor to take no arguments.\n",
    "# Account numbers should be auto generated with the first account having account number : 1000\n",
    "# and subsequent account numbers increase by +1\n",
    "# Ex: \n",
    "# a1 = Account();a2 = Account()\n",
    "# print(a1)\n",
    "# print(a2)\n",
    "# Account: 1000 Balance:0\n",
    "# Account: 1001 Balance:0\n",
    "\n",
    "class AppError(Exception):\n",
    "    pass\n",
    "class LimitError(AppError):\n",
    "    pass\n",
    "\n",
    "class Account():\n",
    "    __start = 1000\n",
    "    \n",
    "    def __init__(self):\n",
    "        self.__number = Account.__start # make things behave as private\n",
    "        Account.__start += 1\n",
    "        self.__balance = 0\n",
    "        \n",
    "    def __str__(self):\n",
    "        return f\"Account:{self.__number} Balance:{self.__balance}\"\n",
    "        #return \"Account:{} Balance:{}\" .format(self.number,self.balance)\n",
    "    \n",
    "    def deposit(self,amount):\n",
    "        self.__balance += amount\n",
    "    \n",
    "    def withdraw(self,amount):\n",
    "        if(amount > self.__balance):\n",
    "            raise LimitError(\"Withdrawal Limit is:\" + str(self.__balance))\n",
    "        else:    \n",
    "            self.__balance -=amount\n",
    "\n",
    "a1 = Account();a2 = Account()\n",
    "print(a1)\n",
    "print(a2)"
   ]
  },
  {
   "cell_type": "code",
   "execution_count": null,
   "metadata": {},
   "outputs": [],
   "source": []
  },
  {
   "cell_type": "code",
   "execution_count": null,
   "metadata": {},
   "outputs": [],
   "source": []
  },
  {
   "cell_type": "code",
   "execution_count": null,
   "metadata": {},
   "outputs": [],
   "source": []
  },
  {
   "cell_type": "code",
   "execution_count": null,
   "metadata": {},
   "outputs": [],
   "source": []
  },
  {
   "cell_type": "code",
   "execution_count": null,
   "metadata": {},
   "outputs": [],
   "source": []
  }
 ],
 "metadata": {
  "kernelspec": {
   "display_name": "Python 3",
   "language": "python",
   "name": "python3"
  },
  "language_info": {
   "codemirror_mode": {
    "name": "ipython",
    "version": 3
   },
   "file_extension": ".py",
   "mimetype": "text/x-python",
   "name": "python",
   "nbconvert_exporter": "python",
   "pygments_lexer": "ipython3",
   "version": "3.6.4"
  }
 },
 "nbformat": 4,
 "nbformat_minor": 2
}
