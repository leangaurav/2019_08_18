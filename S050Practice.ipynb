{
 "cells": [
  {
   "cell_type": "code",
   "execution_count": 24,
   "metadata": {},
   "outputs": [
    {
     "name": "stdout",
     "output_type": "stream",
     "text": [
      "H\n"
     ]
    }
   ],
   "source": [
    "# WAF that returns random capital alphabet\n",
    "import random\n",
    "\n",
    "def get_rand_char():\n",
    "    return chr( random.randint(65, 90) )\n",
    "\n",
    "print(get_rand_char())"
   ]
  },
  {
   "cell_type": "code",
   "execution_count": 8,
   "metadata": {},
   "outputs": [
    {
     "name": "stdout",
     "output_type": "stream",
     "text": [
      "65\n",
      "66\n",
      "90\n",
      "97\n",
      "32\n",
      "48\n",
      "57\n",
      "38\n"
     ]
    }
   ],
   "source": [
    "print( ord('A') )\n",
    "print( ord('B') )\n",
    "print( ord('Z') )\n",
    "print( ord('a') )\n",
    "print( ord(' ') )\n",
    "print( ord('0') )\n",
    "print( ord('9') )\n",
    "print( ord('&') )"
   ]
  },
  {
   "cell_type": "code",
   "execution_count": 10,
   "metadata": {},
   "outputs": [
    {
     "name": "stdout",
     "output_type": "stream",
     "text": [
      " \n",
      "A\n"
     ]
    }
   ],
   "source": [
    "print(chr(32))\n",
    "print(chr(65))"
   ]
  },
  {
   "cell_type": "code",
   "execution_count": null,
   "metadata": {},
   "outputs": [],
   "source": [
    "# functions return\n",
    "- a function can have multiple (0-n) return statements\n",
    "- at a time only one gets exectued\n",
    "- once return is exceuted ... function finishes"
   ]
  },
  {
   "cell_type": "code",
   "execution_count": 27,
   "metadata": {},
   "outputs": [
    {
     "name": "stdout",
     "output_type": "stream",
     "text": [
      "Before\n",
      "1\n",
      "Before\n",
      "1\n",
      "Before\n",
      "1\n"
     ]
    }
   ],
   "source": [
    "def test():\n",
    "    print('Before')\n",
    "    return 1\n",
    "    print('AFter')\n",
    "    return 2\n",
    "    return 3\n",
    "\n",
    "print(test())\n",
    "print(test())\n",
    "print(test())"
   ]
  },
  {
   "cell_type": "code",
   "execution_count": 29,
   "metadata": {},
   "outputs": [
    {
     "name": "stdout",
     "output_type": "stream",
     "text": [
      "abcd\n"
     ]
    }
   ],
   "source": [
    "r = pow(10,2)\n",
    "print('abcd')"
   ]
  },
  {
   "cell_type": "markdown",
   "metadata": {},
   "source": [
    "### Default arguments\n"
   ]
  },
  {
   "cell_type": "code",
   "execution_count": 34,
   "metadata": {},
   "outputs": [
    {
     "name": "stdout",
     "output_type": "stream",
     "text": [
      "2.0\n",
      "1.0\n"
     ]
    },
    {
     "ename": "TypeError",
     "evalue": "si() missing 1 required positional argument: 'r'",
     "output_type": "error",
     "traceback": [
      "\u001b[1;31m---------------------------------------------------------------------------\u001b[0m",
      "\u001b[1;31mTypeError\u001b[0m                                 Traceback (most recent call last)",
      "\u001b[1;32m<ipython-input-34-fb7b1cac5c1a>\u001b[0m in \u001b[0;36m<module>\u001b[1;34m\u001b[0m\n\u001b[0;32m      4\u001b[0m \u001b[0mprint\u001b[0m\u001b[1;33m(\u001b[0m\u001b[0msi\u001b[0m\u001b[1;33m(\u001b[0m\u001b[1;36m100\u001b[0m\u001b[1;33m,\u001b[0m\u001b[1;36m1\u001b[0m\u001b[1;33m,\u001b[0m\u001b[1;36m2\u001b[0m\u001b[1;33m)\u001b[0m\u001b[1;33m)\u001b[0m\u001b[1;33m\u001b[0m\u001b[1;33m\u001b[0m\u001b[0m\n\u001b[0;32m      5\u001b[0m \u001b[0mprint\u001b[0m\u001b[1;33m(\u001b[0m\u001b[0msi\u001b[0m\u001b[1;33m(\u001b[0m\u001b[1;36m100\u001b[0m\u001b[1;33m,\u001b[0m\u001b[1;36m1\u001b[0m\u001b[1;33m)\u001b[0m\u001b[1;33m)\u001b[0m\u001b[1;33m\u001b[0m\u001b[1;33m\u001b[0m\u001b[0m\n\u001b[1;32m----> 6\u001b[1;33m \u001b[0mprint\u001b[0m\u001b[1;33m(\u001b[0m\u001b[0msi\u001b[0m\u001b[1;33m(\u001b[0m\u001b[1;36m100\u001b[0m\u001b[1;33m)\u001b[0m\u001b[1;33m)\u001b[0m\u001b[1;33m\u001b[0m\u001b[1;33m\u001b[0m\u001b[0m\n\u001b[0m",
      "\u001b[1;31mTypeError\u001b[0m: si() missing 1 required positional argument: 'r'"
     ]
    }
   ],
   "source": [
    "def si(p,r,t = 1):\n",
    "    return (p*r*t)/100\n",
    "\n",
    "print(si(100,1,2))\n",
    "print(si(100,1))\n",
    "print(si(100))"
   ]
  },
  {
   "cell_type": "code",
   "execution_count": 35,
   "metadata": {},
   "outputs": [
    {
     "name": "stdout",
     "output_type": "stream",
     "text": [
      "2.0\n",
      "1.0\n",
      "10.0\n"
     ]
    }
   ],
   "source": [
    "def si(p,r = 10,t = 1):\n",
    "    return (p*r*t)/100\n",
    "\n",
    "print(si(100,1,2))\n",
    "print(si(100,1))\n",
    "print(si(100))"
   ]
  },
  {
   "cell_type": "code",
   "execution_count": 37,
   "metadata": {},
   "outputs": [
    {
     "ename": "SyntaxError",
     "evalue": "non-default argument follows default argument (<ipython-input-37-b220861a6bfd>, line 1)",
     "output_type": "error",
     "traceback": [
      "\u001b[1;36m  File \u001b[1;32m\"<ipython-input-37-b220861a6bfd>\"\u001b[1;36m, line \u001b[1;32m1\u001b[0m\n\u001b[1;33m    def si(p,r = 10,t):\u001b[0m\n\u001b[1;37m          ^\u001b[0m\n\u001b[1;31mSyntaxError\u001b[0m\u001b[1;31m:\u001b[0m non-default argument follows default argument\n"
     ]
    }
   ],
   "source": [
    "def si(p,r = 10,t):\n",
    "    return (p*r*t)/100\n",
    "\n",
    "print(si(100,1,2))\n",
    "print(si(100,1))\n",
    "print(si(100))"
   ]
  },
  {
   "cell_type": "code",
   "execution_count": 40,
   "metadata": {},
   "outputs": [
    {
     "name": "stdout",
     "output_type": "stream",
     "text": [
      "Enter a string:ab cd pq\n",
      "ab\n",
      "cd\n",
      "pq\n",
      "s =  ab cd pq\n"
     ]
    }
   ],
   "source": [
    "# WAP to input a string and replace all spaces with new-line characters\n",
    "\n",
    "s = input('Enter a string:')\n",
    "s1 =s.replace(' ', '\\n')\n",
    "print(s1)\n",
    "print('s = ', s)"
   ]
  },
  {
   "cell_type": "code",
   "execution_count": null,
   "metadata": {},
   "outputs": [],
   "source": [
    "# WAP to input a string and print its first and second half\n",
    "abcd\n",
    "ab\n",
    "cd\n",
    "\n",
    "abcde\n",
    "abc\n",
    "de"
   ]
  },
  {
   "cell_type": "code",
   "execution_count": null,
   "metadata": {},
   "outputs": [],
   "source": [
    "s1 = 'abcde'\n",
    "s2 = 'abcd'\n",
    "#     01234\n",
    "\n",
    "5//2 => s1[:2]\n",
    "4//2 => s2[:2]\n",
    "\n",
    "5//2 + 1 => s1[:3]\n",
    "4//2 + 1=> s2[:3]\n",
    "\n",
    "(5 + 1)//2 => s1[:3]\n",
    "(4 + 1)//2=> s2[:2]\n"
   ]
  },
  {
   "cell_type": "code",
   "execution_count": 44,
   "metadata": {},
   "outputs": [
    {
     "name": "stdout",
     "output_type": "stream",
     "text": [
      "Enter the string: abcd\n",
      "ab\n",
      "cd\n"
     ]
    }
   ],
   "source": [
    "import math\n",
    "s = input(('Enter the string: '))\n",
    "l = len(s)\n",
    "l1 = math.ceil(len(s)/2) \n",
    "print(s[0:l1]) \n",
    "print(s[l1:l])"
   ]
  },
  {
   "cell_type": "code",
   "execution_count": 46,
   "metadata": {},
   "outputs": [
    {
     "name": "stdout",
     "output_type": "stream",
     "text": [
      "Enter the string: abcd\n",
      "ab\n",
      "cd\n"
     ]
    }
   ],
   "source": [
    "import math\n",
    "s = input(('Enter the string: '))\n",
    "l = len(s)\n",
    "l1 = (l+1)//2 \n",
    "print(s[0:l1])\n",
    "print(s[l1:l])"
   ]
  },
  {
   "cell_type": "code",
   "execution_count": null,
   "metadata": {},
   "outputs": [],
   "source": []
  }
 ],
 "metadata": {
  "kernelspec": {
   "display_name": "Python 3",
   "language": "python",
   "name": "python3"
  },
  "language_info": {
   "codemirror_mode": {
    "name": "ipython",
    "version": 3
   },
   "file_extension": ".py",
   "mimetype": "text/x-python",
   "name": "python",
   "nbconvert_exporter": "python",
   "pygments_lexer": "ipython3",
   "version": "3.7.3"
  }
 },
 "nbformat": 4,
 "nbformat_minor": 2
}
