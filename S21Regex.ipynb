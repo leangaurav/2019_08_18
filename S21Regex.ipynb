{
 "cells": [
  {
   "cell_type": "markdown",
   "metadata": {},
   "source": [
    "# Regex"
   ]
  },
  {
   "cell_type": "code",
   "execution_count": 1,
   "metadata": {},
   "outputs": [],
   "source": [
    "import re"
   ]
  },
  {
   "cell_type": "code",
   "execution_count": 2,
   "metadata": {},
   "outputs": [
    {
     "name": "stdout",
     "output_type": "stream",
     "text": [
      "['A', 'ASCII', 'DEBUG', 'DOTALL', 'I', 'IGNORECASE', 'L', 'LOCALE', 'M', 'MULTILINE', 'Match', 'Pattern', 'RegexFlag', 'S', 'Scanner', 'T', 'TEMPLATE', 'U', 'UNICODE', 'VERBOSE', 'X', '_MAXCACHE', '__all__', '__builtins__', '__cached__', '__doc__', '__file__', '__loader__', '__name__', '__package__', '__spec__', '__version__', '_cache', '_compile', '_compile_repl', '_expand', '_locale', '_pickle', '_special_chars_map', '_subx', 'compile', 'copyreg', 'enum', 'error', 'escape', 'findall', 'finditer', 'fullmatch', 'functools', 'match', 'purge', 'search', 'split', 'sre_compile', 'sre_parse', 'sub', 'subn', 'template']\n"
     ]
    }
   ],
   "source": [
    "print(dir(re))"
   ]
  },
  {
   "cell_type": "code",
   "execution_count": 5,
   "metadata": {},
   "outputs": [
    {
     "name": "stdout",
     "output_type": "stream",
     "text": [
      "<re.Match object; span=(0, 2), match='py'>\n",
      "['__class__', '__copy__', '__deepcopy__', '__delattr__', '__dir__', '__doc__', '__eq__', '__format__', '__ge__', '__getattribute__', '__getitem__', '__gt__', '__hash__', '__init__', '__init_subclass__', '__le__', '__lt__', '__ne__', '__new__', '__reduce__', '__reduce_ex__', '__repr__', '__setattr__', '__sizeof__', '__str__', '__subclasshook__', 'end', 'endpos', 'expand', 'group', 'groupdict', 'groups', 'lastgroup', 'lastindex', 'pos', 're', 'regs', 'span', 'start', 'string']\n",
      "None\n"
     ]
    }
   ],
   "source": [
    "s = \"python Python programming\"\n",
    "p = \"py\"\n",
    "\n",
    "r = re.search(p,s)\n",
    "print(r)\n",
    "print(dir(r))\n",
    "r = re.search(\"ABC\",s)\n",
    "print(r)"
   ]
  },
  {
   "cell_type": "code",
   "execution_count": 7,
   "metadata": {},
   "outputs": [
    {
     "name": "stdout",
     "output_type": "stream",
     "text": [
      "<re.Match object; span=(7, 9), match='Py'>\n",
      "<re.Match object; span=(0, 2), match='py'>\n"
     ]
    }
   ],
   "source": [
    "s = \"python Python programming\"\n",
    "\n",
    "r = re.search(\"Py\",s)\n",
    "print(r)\n",
    "r = re.search(\"PY\",s, re.IGNORECASE)\n",
    "print(r)"
   ]
  },
  {
   "cell_type": "code",
   "execution_count": 10,
   "metadata": {},
   "outputs": [
    {
     "name": "stdout",
     "output_type": "stream",
     "text": [
      "This is a string <re.Match object; span=(0, 2), match='Th'>\n",
      "That is... <re.Match object; span=(0, 2), match='Th'>\n",
      "the language <re.Match object; span=(0, 2), match='th'>\n",
      "Not start with th. None\n",
      "\n",
      "This is a string None\n",
      "That is... <re.Match object; span=(9, 10), match='.'>\n",
      "the language None\n",
      "Not start with th. <re.Match object; span=(17, 18), match='.'>\n"
     ]
    }
   ],
   "source": [
    "# Anchor tags\n",
    "# ^ -> beginning\n",
    "# $ -> end\n",
    "a = [\"This is a string\", \"That is...\", \"the language\", \"Not start with th.\"]\n",
    "\n",
    "for s in a:\n",
    "    r = re.search(\"^th\", s, re.IGNORECASE)\n",
    "    print(s, r)\n",
    "    \n",
    "print() # end with '.'\n",
    "for s in a:\n",
    "    r = re.search(\"\\.$\", s, re.IGNORECASE)\n",
    "    print(s, r)"
   ]
  },
  {
   "cell_type": "code",
   "execution_count": 11,
   "metadata": {},
   "outputs": [
    {
     "name": "stdout",
     "output_type": "stream",
     "text": [
      "This is a string None\n",
      "That is... <re.Match object; span=(0, 10), match='That is...'>\n",
      "the language None\n",
      "Not start with th. None\n"
     ]
    }
   ],
   "source": [
    "# . : any one character\n",
    "\n",
    "# * : 0-n\n",
    "# + : 1-n\n",
    "# ? : 0-1\n",
    "# {} : repetition\n",
    "\n",
    "# starting with th and ending with '.'\n",
    "a = [\"This is a string\", \"That is...\", \"the language\", \"Not start with th.\"]\n",
    "\n",
    "for s in a:\n",
    "    r = re.search(\"^th.*\\.$\", s, re.IGNORECASE)\n",
    "    print(s, r)\n",
    "    "
   ]
  },
  {
   "cell_type": "code",
   "execution_count": 13,
   "metadata": {},
   "outputs": [
    {
     "name": "stdout",
     "output_type": "stream",
     "text": [
      "<re.Match object; span=(0, 3), match='123'>\n",
      "<re.Match object; span=(5, 8), match='456'>\n",
      "<re.Match object; span=(12, 15), match='897'>\n",
      "<re.Match object; span=(15, 18), match='654'>\n",
      "<re.Match object; span=(19, 22), match='999'>\n"
     ]
    }
   ],
   "source": [
    "# \\d : Any digit\n",
    "# \\w : any alphabet or numeric\n",
    "# \\s : any white space character\n",
    "# \\D : not a digit\n",
    "# \\W : not alphabet and numeric ...\n",
    "\n",
    "# 3 digit sequence\n",
    "p = r'\\d\\d\\d'\n",
    "\n",
    "s = \"1234 456 34 897654 999\"\n",
    "\n",
    "for m in re.finditer(p,s):\n",
    "    print(m)"
   ]
  },
  {
   "cell_type": "code",
   "execution_count": 14,
   "metadata": {},
   "outputs": [
    {
     "name": "stdout",
     "output_type": "stream",
     "text": [
      "<re.Match object; span=(5, 8), match='456'>\n",
      "<re.Match object; span=(19, 22), match='999'>\n"
     ]
    }
   ],
   "source": [
    "# \\d : Any digit\n",
    "# \\w : any alphabet or numeric\n",
    "# \\s : any white space character\n",
    "# \\D : not a digit\n",
    "# \\W : not alphabet and numeric ...\n",
    "\n",
    "# 3 digit sequence\n",
    "p = r'\\b\\d\\d\\d\\b'\n",
    "\n",
    "# \\b -> .,; \\n start/end of string\n",
    "s = \"1234 456 34 897654 999\"\n",
    "\n",
    "for m in re.finditer(p,s):\n",
    "    print(m)"
   ]
  },
  {
   "cell_type": "code",
   "execution_count": 16,
   "metadata": {},
   "outputs": [
    {
     "name": "stdout",
     "output_type": "stream",
     "text": [
      "<re.Match object; span=(0, 4), match='this'>\n",
      "<re.Match object; span=(5, 7), match='is'>\n",
      "<re.Match object; span=(8, 9), match='a'>\n",
      "<re.Match object; span=(10, 13), match='one'>\n",
      "<re.Match object; span=(14, 18), match='1234'>\n",
      "<re.Match object; span=(19, 23), match='line'>\n",
      "<re.Match object; span=(24, 28), match='What'>\n",
      "<re.Match object; span=(29, 31), match='is'>\n",
      "<re.Match object; span=(32, 36), match='this'>\n",
      "<re.Match object; span=(38, 41), match='one'>\n",
      "<re.Match object; span=(42, 45), match='two'>\n"
     ]
    }
   ],
   "source": [
    "s = 'this is a one 1234 line.What is this? one,two'\n",
    "p = r'\\b\\w+\\b'\n",
    "\n",
    "for m in re.finditer(p,s):\n",
    "    print(m)"
   ]
  },
  {
   "cell_type": "code",
   "execution_count": 18,
   "metadata": {},
   "outputs": [
    {
     "name": "stdout",
     "output_type": "stream",
     "text": [
      "<re.Match object; span=(0, 4), match='this'>\n",
      "<re.Match object; span=(5, 7), match='is'>\n",
      "<re.Match object; span=(8, 9), match='a'>\n",
      "<re.Match object; span=(10, 13), match='one'>\n",
      "<re.Match object; span=(19, 23), match='line'>\n",
      "<re.Match object; span=(24, 28), match='What'>\n",
      "<re.Match object; span=(29, 31), match='is'>\n",
      "<re.Match object; span=(32, 36), match='this'>\n",
      "<re.Match object; span=(38, 41), match='one'>\n",
      "<re.Match object; span=(42, 45), match='two'>\n"
     ]
    }
   ],
   "source": [
    "# search set: []\n",
    "s = 'this is a one 1234 line.What is this? one,two'\n",
    "p = r'\\b[a-zA-Z]+\\b'\n",
    "\n",
    "for m in re.finditer(p,s):\n",
    "    print(m)"
   ]
  },
  {
   "cell_type": "code",
   "execution_count": 24,
   "metadata": {},
   "outputs": [
    {
     "name": "stdout",
     "output_type": "stream",
     "text": [
      "<re.Match object; span=(4, 5), match=' '>\n",
      "<re.Match object; span=(7, 8), match=' '>\n",
      "<re.Match object; span=(9, 10), match=' '>\n",
      "<re.Match object; span=(13, 14), match=' '>\n",
      "<re.Match object; span=(19, 20), match=' '>\n",
      "<re.Match object; span=(24, 25), match='.'>\n",
      "<re.Match object; span=(29, 30), match=' '>\n",
      "<re.Match object; span=(32, 33), match=' '>\n",
      "<re.Match object; span=(37, 39), match='? '>\n",
      "<re.Match object; span=(42, 43), match=','>\n"
     ]
    }
   ],
   "source": [
    "# search set: []\n",
    "s = 'this is a one 12;34 line.What is this? one,two'\n",
    "p = r'[^a-zA-Z0-9;]+'\n",
    "\n",
    "for m in re.finditer(p,s):\n",
    "    print(m)"
   ]
  },
  {
   "cell_type": "code",
   "execution_count": 27,
   "metadata": {},
   "outputs": [
    {
     "name": "stdout",
     "output_type": "stream",
     "text": [
      "<re.Match object; span=(5, 8), match='456'>\n",
      "<re.Match object; span=(19, 22), match='999'>\n"
     ]
    }
   ],
   "source": [
    "p = r'\\b\\d{3}\\b'\n",
    "\n",
    "s = \"1234 456 34 897654 999\"\n",
    "\n",
    "for m in re.finditer(p,s):\n",
    "    print(m)"
   ]
  },
  {
   "cell_type": "code",
   "execution_count": 28,
   "metadata": {},
   "outputs": [
    {
     "name": "stdout",
     "output_type": "stream",
     "text": [
      "<re.Match object; span=(5, 8), match='456'>\n",
      "<re.Match object; span=(9, 11), match='34'>\n",
      "<re.Match object; span=(19, 22), match='999'>\n"
     ]
    }
   ],
   "source": [
    "p = r'\\b\\d{1,3}\\b'\n",
    "\n",
    "s = \"1234 456 34 897654 999\"\n",
    "\n",
    "for m in re.finditer(p,s):\n",
    "    print(m)"
   ]
  },
  {
   "cell_type": "code",
   "execution_count": 31,
   "metadata": {},
   "outputs": [
    {
     "name": "stdout",
     "output_type": "stream",
     "text": [
      "<re.Match object; span=(0, 4), match='1234'> 1234\n",
      "<re.Match object; span=(5, 8), match='456'> 456\n",
      "<re.Match object; span=(12, 18), match='897654'> 897654\n",
      "<re.Match object; span=(19, 22), match='999'> 999\n"
     ]
    }
   ],
   "source": [
    "p = r'\\b\\d{3,}\\b'\n",
    "\n",
    "s = \"1234 456 34 897654 999\"\n",
    "\n",
    "for m in re.finditer(p,s):\n",
    "    print(m, m.group())"
   ]
  },
  {
   "cell_type": "code",
   "execution_count": 38,
   "metadata": {},
   "outputs": [
    {
     "name": "stdout",
     "output_type": "stream",
     "text": [
      "None\n",
      "<re.Match object; span=(0, 6), match='ppqr12'> ppqr12 ()\n"
     ]
    }
   ],
   "source": [
    "p = \"^.{4}\\d{2}\"\n",
    "s1 = \"abcdpqr1234ABC\"\n",
    "s2 = \"ppqr1234ABC\"\n",
    "\n",
    "m = re.search(p,s1)\n",
    "print(m)\n",
    "m = re.search(p,s2)\n",
    "print(m, m.group(), m.groups())"
   ]
  },
  {
   "cell_type": "code",
   "execution_count": 41,
   "metadata": {},
   "outputs": [
    {
     "name": "stdout",
     "output_type": "stream",
     "text": [
      "None\n",
      "<re.Match object; span=(0, 6), match='ppqr12'>\n",
      "ppqr12\n",
      "('12',)\n"
     ]
    }
   ],
   "source": [
    "# capture group\n",
    "p = r\"^.{4}(\\d{2})\"\n",
    "s1 = \"abcdpqr1234ABC\"\n",
    "s2 = \"ppqr1234ABC\"\n",
    "\n",
    "m = re.search(p,s1)\n",
    "print(m)\n",
    "m = re.search(p,s2)\n",
    "print(m)\n",
    "print(m.group())\n",
    "print(m.groups())"
   ]
  },
  {
   "cell_type": "code",
   "execution_count": 48,
   "metadata": {},
   "outputs": [
    {
     "name": "stdout",
     "output_type": "stream",
     "text": [
      "IPV Address 192.166.1.1\n",
      "IPV Address 199.0.0.0\n",
      "Not ipv4 1111.111.1.1\n",
      "Not ipv4 1.1...\n",
      "Not ipv4 400.99.1.1\n"
     ]
    }
   ],
   "source": [
    "add = [\"192.166.1.1\", \"199.0.0.0\", \"1111.111.1.1\", \"1.1..\", \"400.99.1.1\"]\n",
    "\n",
    "for s in add:\n",
    "    flag = False\n",
    "    m = re.search(r'^(\\d{1,3})\\.(\\d{1,3})\\.(\\d{1,3})\\.(\\d{1,3})$', s)\n",
    "    if m:\n",
    "        flag = True\n",
    "        for g in m.groups():\n",
    "            if int(g) > 255:\n",
    "                flag = False\n",
    "    if flag:\n",
    "        print(\"IPV Address\", s)\n",
    "    else:\n",
    "        print(\"Not ipv4\", s)\n"
   ]
  },
  {
   "cell_type": "code",
   "execution_count": 49,
   "metadata": {},
   "outputs": [
    {
     "name": "stdout",
     "output_type": "stream",
     "text": [
      "None\n",
      "<re.Match object; span=(0, 6), match='ppqr12'> ppqr12 ()\n"
     ]
    }
   ],
   "source": [
    "p = \".{4}\\d{2}\"\n",
    "s1 = \"abcdpqr1234ABC\"\n",
    "s2 = \"ppqr1234ABC\"\n",
    "\n",
    "m = re.match(p,s1)\n",
    "print(m)\n",
    "m = re.match(p,s2)\n",
    "print(m, m.group(), m.groups())"
   ]
  },
  {
   "cell_type": "code",
   "execution_count": 51,
   "metadata": {},
   "outputs": [
    {
     "name": "stdout",
     "output_type": "stream",
     "text": [
      "456\n",
      "999\n"
     ]
    }
   ],
   "source": [
    "p = r'\\b(\\d{3})\\b'\n",
    "\n",
    "s = \"1234 456 34 897654 999\"\n",
    "\n",
    "for m in re.findall(p,s):\n",
    "    print(m)"
   ]
  },
  {
   "cell_type": "code",
   "execution_count": 64,
   "metadata": {},
   "outputs": [
    {
     "name": "stdout",
     "output_type": "stream",
     "text": [
      "This is a string     <re.Match object; span=(0, 16), match='This is a string'>\n",
      "()\n",
      "Thii is a string     None\n",
      "That is...           None\n",
      "the language         <re.Match object; span=(0, 12), match='the language'>\n",
      "()\n",
      "Not start with th.   None\n"
     ]
    }
   ],
   "source": [
    "\n",
    "a = [\"This is a string\", \"Thii is a string\", \"That is...\", \"the language\", \"Not start with th.\"]\n",
    "\n",
    "for s in a:\n",
    "    r = re.search(\"^(?:the|this).*\", s, re.IGNORECASE)\n",
    "    print(\"%-20s %s\" % (s, r))\n",
    "    if r:\n",
    "        print(r.groups())\n",
    "    "
   ]
  },
  {
   "cell_type": "code",
   "execution_count": 67,
   "metadata": {},
   "outputs": [
    {
     "name": "stdout",
     "output_type": "stream",
     "text": [
      "<re.Match object; span=(0, 32), match='This is a string. Second string.'>\n",
      "<re.Match object; span=(0, 17), match='This is a string.'>\n"
     ]
    }
   ],
   "source": [
    "s = \"This is a string. Second string.\"\n",
    "# find first string ending with .\n",
    "\n",
    "print(re.search(r'^.+\\.', s))\n",
    "print(re.search(r'^.+?\\.', s))\n",
    "\n",
    "# +?\n",
    "# *?\n"
   ]
  },
  {
   "cell_type": "code",
   "execution_count": 69,
   "metadata": {},
   "outputs": [
    {
     "name": "stdout",
     "output_type": "stream",
     "text": [
      "<re.Match object; span=(0, 17), match='This is a stringt'>\n",
      "None\n",
      "None\n",
      "None\n",
      "<re.Match object; span=(0, 18), match='Not start with thn'>\n"
     ]
    }
   ],
   "source": [
    "\n",
    "a = [\"This is a stringt\", \"Thii is a string\", \"That is...\", \"the language\", \"Not start with thn\"]\n",
    "\n",
    "for s in a:\n",
    "    r = re.search(r\"^([a-zA-Z]).+\\1$\", s, re.IGNORECASE)\n",
    "    print(r)"
   ]
  },
  {
   "cell_type": "code",
   "execution_count": 71,
   "metadata": {},
   "outputs": [
    {
     "name": "stdout",
     "output_type": "stream",
     "text": [
      "None\n",
      "None\n",
      "None\n",
      "None\n",
      "None\n",
      "<re.Match object; span=(0, 17), match='the this that the'>\n"
     ]
    }
   ],
   "source": [
    "\n",
    "a = [\"This is a stringt\", \"Thii is a string\", \"That is...\", \"the language\", \"Not start with thn\",\n",
    "    \"the this that the\"]\n",
    "\n",
    "for s in a:\n",
    "    r = re.search(r\"^([a-zA-Z]+?)\\b.+\\1$\", s, re.IGNORECASE)\n",
    "    print(r)"
   ]
  },
  {
   "cell_type": "code",
   "execution_count": null,
   "metadata": {},
   "outputs": [],
   "source": []
  },
  {
   "cell_type": "code",
   "execution_count": null,
   "metadata": {},
   "outputs": [],
   "source": []
  }
 ],
 "metadata": {
  "kernelspec": {
   "display_name": "Python 3",
   "language": "python",
   "name": "python3"
  },
  "language_info": {
   "codemirror_mode": {
    "name": "ipython",
    "version": 3
   },
   "file_extension": ".py",
   "mimetype": "text/x-python",
   "name": "python",
   "nbconvert_exporter": "python",
   "pygments_lexer": "ipython3",
   "version": "3.7.3"
  }
 },
 "nbformat": 4,
 "nbformat_minor": 2
}
